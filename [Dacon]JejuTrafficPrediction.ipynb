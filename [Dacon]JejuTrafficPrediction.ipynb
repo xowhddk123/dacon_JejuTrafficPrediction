{
 "cells": [
  {
   "cell_type": "markdown",
   "metadata": {
    "id": "BByC4aM25Rsd"
   },
   "source": [
    "# 제주도 도로 교통량 예측 AI 경진대회\n",
    "### Baseline을 기반으로 eda 추가"
   ]
  },
  {
   "cell_type": "markdown",
   "metadata": {
    "id": "ZkOicwj85hVp"
   },
   "source": [
    "## 전처리 및 EDA\n",
    "\n",
    ">1. 데이터 로드 및 확인"
   ]
  },
  {
   "cell_type": "code",
   "execution_count": 1,
   "metadata": {
    "colab": {
     "base_uri": "https://localhost:8080/"
    },
    "executionInfo": {
     "elapsed": 9881,
     "status": "ok",
     "timestamp": 1666772879333,
     "user": {
      "displayName": "김태종",
      "userId": "09259876720802222860"
     },
     "user_tz": -540
    },
    "id": "Xz6Loiuc3_6m",
    "outputId": "ef103cc9-4303-4b44-a423-956640b4d3e2"
   },
   "outputs": [
    {
     "name": "stdout",
     "output_type": "stream",
     "text": [
      "Reading package lists... Done\n",
      "Building dependency tree       \n",
      "Reading state information... Done\n",
      "fonts-nanum is already the newest version (20180306-3).\n",
      "The following packages were automatically installed and are no longer required:\n",
      "  accountsservice-ubuntu-schemas bc bluez-obexd cups cups-browsed cups-client\n",
      "  cups-common cups-core-drivers cups-daemon cups-filters\n",
      "  cups-filters-core-drivers cups-ipp-utils cups-ppdc cups-server-common\n",
      "  fonts-droid-fallback fonts-noto-mono fonts-urw-base35 ghostscript\n",
      "  gir1.2-dbusmenu-glib-0.4 gnome-bluetooth gnome-power-manager\n",
      "  gnome-screensaver gsettings-ubuntu-schemas gvfs-backends indicator-applet\n",
      "  indicator-application indicator-appmenu indicator-bluetooth indicator-common\n",
      "  indicator-datetime indicator-keyboard indicator-messages indicator-power\n",
      "  indicator-printers indicator-session indicator-sound jayatana\n",
      "  libaccounts-glib0 libbamf3-2 libcdio-cdda2 libcdio-paranoia2 libcdio18\n",
      "  libcupsfilters1 libfcitx-config4 libfcitx-gclient1 libfcitx-utils0\n",
      "  libfontembed1 libgnome-panel0 libgs9 libgs9-common libido3-0.1-0 libijs-0.35\n",
      "  libindicator3-7 libjbig2dec0 liblightdm-gobject-1-0 liblouis-data liblouis20\n",
      "  liblouisutdml-bin liblouisutdml-data liblouisutdml9 libmessaging-menu0\n",
      "  libmtp-common libmtp-runtime libmtp9 libnfs13 libpaper-utils libpaper1\n",
      "  libpoppler-cpp0v5 libqpdf26 libunity-gtk2-parser0 libunity-gtk3-parser0\n",
      "  libunity-settings-daemon1 liburl-dispatcher1 lightdm nautilus-data\n",
      "  poppler-utils python3-psutil python3-xdg ssl-cert ubuntu-touch-sounds\n",
      "  unity-greeter unity-gtk-module-common unity-gtk2-module unity-gtk3-module\n",
      "  unity-settings-daemon unity-settings-daemon-schemas\n",
      "Use 'sudo apt autoremove' to remove them.\n",
      "0 upgraded, 0 newly installed, 0 to remove and 0 not upgraded.\n",
      "/usr/share/fonts: caching, new cache contents: 0 fonts, 6 dirs\n",
      "/usr/share/fonts/X11: caching, new cache contents: 0 fonts, 4 dirs\n",
      "/usr/share/fonts/X11/Type1: caching, new cache contents: 8 fonts, 0 dirs\n",
      "/usr/share/fonts/X11/encodings: caching, new cache contents: 0 fonts, 1 dirs\n",
      "/usr/share/fonts/X11/encodings/large: caching, new cache contents: 0 fonts, 0 dirs\n",
      "/usr/share/fonts/X11/misc: caching, new cache contents: 89 fonts, 0 dirs\n",
      "/usr/share/fonts/X11/util: caching, new cache contents: 0 fonts, 0 dirs\n",
      "/usr/share/fonts/cMap: caching, new cache contents: 0 fonts, 0 dirs\n",
      "/usr/share/fonts/cmap: caching, new cache contents: 0 fonts, 5 dirs\n",
      "/usr/share/fonts/cmap/adobe-cns1: caching, new cache contents: 0 fonts, 0 dirs\n",
      "/usr/share/fonts/cmap/adobe-gb1: caching, new cache contents: 0 fonts, 0 dirs\n",
      "/usr/share/fonts/cmap/adobe-japan1: caching, new cache contents: 0 fonts, 0 dirs\n",
      "/usr/share/fonts/cmap/adobe-japan2: caching, new cache contents: 0 fonts, 0 dirs\n",
      "/usr/share/fonts/cmap/adobe-korea1: caching, new cache contents: 0 fonts, 0 dirs\n",
      "/usr/share/fonts/opentype: caching, new cache contents: 0 fonts, 1 dirs\n",
      "/usr/share/fonts/opentype/urw-base35: caching, new cache contents: 35 fonts, 0 dirs\n",
      "/usr/share/fonts/truetype: caching, new cache contents: 0 fonts, 7 dirs\n",
      "/usr/share/fonts/truetype/dejavu: caching, new cache contents: 22 fonts, 0 dirs\n",
      "/usr/share/fonts/truetype/droid: caching, new cache contents: 1 fonts, 0 dirs\n",
      "/usr/share/fonts/truetype/liberation: caching, new cache contents: 16 fonts, 0 dirs\n",
      "/usr/share/fonts/truetype/nanum: caching, new cache contents: 10 fonts, 0 dirs\n",
      "/usr/share/fonts/truetype/noto: caching, new cache contents: 1 fonts, 0 dirs\n",
      "/usr/share/fonts/truetype/quicksand: caching, new cache contents: 4 fonts, 0 dirs\n",
      "/usr/share/fonts/truetype/ubuntu: caching, new cache contents: 14 fonts, 0 dirs\n",
      "/usr/share/fonts/type1: caching, new cache contents: 0 fonts, 1 dirs\n",
      "/usr/share/fonts/type1/urw-base35: caching, new cache contents: 35 fonts, 0 dirs\n",
      "/usr/local/share/fonts: caching, new cache contents: 0 fonts, 0 dirs\n",
      "/root/.local/share/fonts: skipping, no such directory\n",
      "/root/.fonts: skipping, no such directory\n",
      "/usr/share/fonts/X11: skipping, looped directory detected\n",
      "/usr/share/fonts/cMap: skipping, looped directory detected\n",
      "/usr/share/fonts/cmap: skipping, looped directory detected\n",
      "/usr/share/fonts/opentype: skipping, looped directory detected\n",
      "/usr/share/fonts/truetype: skipping, looped directory detected\n",
      "/usr/share/fonts/type1: skipping, looped directory detected\n",
      "/usr/share/fonts/X11/Type1: skipping, looped directory detected\n",
      "/usr/share/fonts/X11/encodings: skipping, looped directory detected\n",
      "/usr/share/fonts/X11/misc: skipping, looped directory detected\n",
      "/usr/share/fonts/X11/util: skipping, looped directory detected\n",
      "/usr/share/fonts/cmap/adobe-cns1: skipping, looped directory detected\n",
      "/usr/share/fonts/cmap/adobe-gb1: skipping, looped directory detected\n",
      "/usr/share/fonts/cmap/adobe-japan1: skipping, looped directory detected\n",
      "/usr/share/fonts/cmap/adobe-japan2: skipping, looped directory detected\n",
      "/usr/share/fonts/cmap/adobe-korea1: skipping, looped directory detected\n",
      "/usr/share/fonts/opentype/urw-base35: skipping, looped directory detected\n",
      "/usr/share/fonts/truetype/dejavu: skipping, looped directory detected\n",
      "/usr/share/fonts/truetype/droid: skipping, looped directory detected\n",
      "/usr/share/fonts/truetype/liberation: skipping, looped directory detected\n",
      "/usr/share/fonts/truetype/nanum: skipping, looped directory detected\n",
      "/usr/share/fonts/truetype/noto: skipping, looped directory detected\n",
      "/usr/share/fonts/truetype/quicksand: skipping, looped directory detected\n",
      "/usr/share/fonts/truetype/ubuntu: skipping, looped directory detected\n",
      "/usr/share/fonts/type1/urw-base35: skipping, looped directory detected\n",
      "/usr/share/fonts/X11/encodings/large: skipping, looped directory detected\n",
      "/var/cache/fontconfig: cleaning cache directory\n",
      "/root/.cache/fontconfig: not cleaning non-existent cache directory\n",
      "/root/.fontconfig: not cleaning non-existent cache directory\n",
      "fc-cache: succeeded\n"
     ]
    }
   ],
   "source": [
    "!sudo apt-get install -y fonts-nanum\n",
    "!sudo fc-cache -fv\n",
    "!rm ~/.cache/matplotlib -rf"
   ]
  },
  {
   "cell_type": "markdown",
   "metadata": {
    "id": "sFy-YqiB5B9O"
   },
   "source": [
    "### Library Import "
   ]
  },
  {
   "cell_type": "code",
   "execution_count": 2,
   "metadata": {
    "executionInfo": {
     "elapsed": 683,
     "status": "ok",
     "timestamp": 1666772880013,
     "user": {
      "displayName": "김태종",
      "userId": "09259876720802222860"
     },
     "user_tz": -540
    },
    "id": "Prcvkzo83_4H"
   },
   "outputs": [],
   "source": [
    "import pandas as pd\n",
    "import numpy as np\n",
    "from sklearn.preprocessing import LabelEncoder\n",
    "import lightgbm as lgb\n",
    "import gc\n",
    "\n",
    "import matplotlib as mpl\n",
    "import matplotlib.pyplot as plt\n",
    "import seaborn as sns\n",
    "\n",
    "plt.rc('font', family='NanumBarunGothic') \n",
    "\n",
    "from collections import Counter"
   ]
  },
  {
   "cell_type": "markdown",
   "metadata": {
    "id": "IcdsFnkn5ujW"
   },
   "source": [
    "### CSV to parquet\n",
    "- 메모리에 효율적인 데이터 유형을 사용하여 용량을 크게 줄이고 빠른 작업이 가능하다."
   ]
  },
  {
   "cell_type": "code",
   "execution_count": 3,
   "metadata": {
    "executionInfo": {
     "elapsed": 5,
     "status": "ok",
     "timestamp": 1666772880014,
     "user": {
      "displayName": "김태종",
      "userId": "09259876720802222860"
     },
     "user_tz": -540
    },
    "id": "kndOis9p3_1m"
   },
   "outputs": [],
   "source": [
    "# csv를 parquet 형식으로 변환해주는 함수\n",
    "def csv_to_parquet(csv_path, save_name):  \n",
    "    df = pd.read_csv(csv_path)   # csv파일을 데이터프레임으로 불러온다\n",
    "    df.to_parquet(f'data/{save_name}.parquet')  # parquet형식으로 저장한다. \n",
    "    del df  # 원래 데이터프레임을 삭제한다.\n",
    "    gc.collect()  # 잘은 모르지만 메모리 관리에 도움이 되는 함수인듯 하다.\n",
    "    # https://medium.com/dmsfordsm/garbage-collection-in-python-777916fd3189  gc라이브러리에 대한 설명\n",
    "    print(save_name, 'Done.')"
   ]
  },
  {
   "cell_type": "code",
   "execution_count": 4,
   "metadata": {
    "colab": {
     "base_uri": "https://localhost:8080/"
    },
    "executionInfo": {
     "elapsed": 32312,
     "status": "ok",
     "timestamp": 1666772912322,
     "user": {
      "displayName": "김태종",
      "userId": "09259876720802222860"
     },
     "user_tz": -540
    },
    "id": "5eY-aF9M3_y9",
    "outputId": "92d8dda3-fa9f-4afe-f9e9-570f6dc7ad51"
   },
   "outputs": [
    {
     "name": "stdout",
     "output_type": "stream",
     "text": [
      "train Done.\n",
      "test Done.\n"
     ]
    }
   ],
   "source": [
    "csv_to_parquet(\"data/train.csv\", 'train')\n",
    "csv_to_parquet(\"data/test.csv\", 'test')"
   ]
  },
  {
   "cell_type": "markdown",
   "metadata": {
    "id": "jrZSWDQx7Twv"
   },
   "source": [
    "### 데이터 불러오기"
   ]
  },
  {
   "cell_type": "code",
   "execution_count": 5,
   "metadata": {
    "executionInfo": {
     "elapsed": 3169,
     "status": "ok",
     "timestamp": 1666772915458,
     "user": {
      "displayName": "김태종",
      "userId": "09259876720802222860"
     },
     "user_tz": -540
    },
    "id": "mUxuF1Fj3_wZ"
   },
   "outputs": [],
   "source": [
    "train_path = 'data/train.parquet'\n",
    "test_path = 'data/test.parquet'\n",
    "info_path = \"data/data_info.csv\"\n",
    "info = pd.read_csv(info_path)\n",
    "train = pd.read_parquet(train_path)\n",
    "test = pd.read_parquet(test_path)"
   ]
  },
  {
   "cell_type": "code",
   "execution_count": 6,
   "metadata": {
    "colab": {
     "base_uri": "https://localhost:8080/",
     "height": 802
    },
    "executionInfo": {
     "elapsed": 50,
     "status": "ok",
     "timestamp": 1666772915460,
     "user": {
      "displayName": "김태종",
      "userId": "09259876720802222860"
     },
     "user_tz": -540
    },
    "id": "DUShaK233_t3",
    "outputId": "1736234a-54b6-4e5d-da6a-d305dfc08ab4"
   },
   "outputs": [
    {
     "data": {
      "text/html": [
       "<div>\n",
       "<style scoped>\n",
       "    .dataframe tbody tr th:only-of-type {\n",
       "        vertical-align: middle;\n",
       "    }\n",
       "\n",
       "    .dataframe tbody tr th {\n",
       "        vertical-align: top;\n",
       "    }\n",
       "\n",
       "    .dataframe thead th {\n",
       "        text-align: right;\n",
       "    }\n",
       "</style>\n",
       "<table border=\"1\" class=\"dataframe\">\n",
       "  <thead>\n",
       "    <tr style=\"text-align: right;\">\n",
       "      <th></th>\n",
       "      <th>변수명</th>\n",
       "      <th>변수 설명</th>\n",
       "    </tr>\n",
       "  </thead>\n",
       "  <tbody>\n",
       "    <tr>\n",
       "      <th>0</th>\n",
       "      <td>id</td>\n",
       "      <td>아이디</td>\n",
       "    </tr>\n",
       "    <tr>\n",
       "      <th>1</th>\n",
       "      <td>base_date</td>\n",
       "      <td>날짜</td>\n",
       "    </tr>\n",
       "    <tr>\n",
       "      <th>2</th>\n",
       "      <td>day_of_week</td>\n",
       "      <td>요일</td>\n",
       "    </tr>\n",
       "    <tr>\n",
       "      <th>3</th>\n",
       "      <td>base_hour</td>\n",
       "      <td>시간대</td>\n",
       "    </tr>\n",
       "    <tr>\n",
       "      <th>4</th>\n",
       "      <td>road_in_use</td>\n",
       "      <td>도로사용여부</td>\n",
       "    </tr>\n",
       "    <tr>\n",
       "      <th>5</th>\n",
       "      <td>lane_count</td>\n",
       "      <td>차로수</td>\n",
       "    </tr>\n",
       "    <tr>\n",
       "      <th>6</th>\n",
       "      <td>road_rating</td>\n",
       "      <td>도로등급</td>\n",
       "    </tr>\n",
       "    <tr>\n",
       "      <th>7</th>\n",
       "      <td>multi_linked</td>\n",
       "      <td>중용구간 여부</td>\n",
       "    </tr>\n",
       "    <tr>\n",
       "      <th>8</th>\n",
       "      <td>connect_code</td>\n",
       "      <td>연결로 코드</td>\n",
       "    </tr>\n",
       "    <tr>\n",
       "      <th>9</th>\n",
       "      <td>maximum_speed_limit</td>\n",
       "      <td>최고속도제한</td>\n",
       "    </tr>\n",
       "    <tr>\n",
       "      <th>10</th>\n",
       "      <td>weight_restricted</td>\n",
       "      <td>통과제한하중</td>\n",
       "    </tr>\n",
       "    <tr>\n",
       "      <th>11</th>\n",
       "      <td>hight_restricted</td>\n",
       "      <td>통과제한높이</td>\n",
       "    </tr>\n",
       "    <tr>\n",
       "      <th>12</th>\n",
       "      <td>road_type</td>\n",
       "      <td>도로유형</td>\n",
       "    </tr>\n",
       "    <tr>\n",
       "      <th>13</th>\n",
       "      <td>start_latitude</td>\n",
       "      <td>시작지점의 위도</td>\n",
       "    </tr>\n",
       "    <tr>\n",
       "      <th>14</th>\n",
       "      <td>start_longitude</td>\n",
       "      <td>시작지점의 경도</td>\n",
       "    </tr>\n",
       "    <tr>\n",
       "      <th>15</th>\n",
       "      <td>start_turn_restricted</td>\n",
       "      <td>시작 지점의 회전제한 유무</td>\n",
       "    </tr>\n",
       "    <tr>\n",
       "      <th>16</th>\n",
       "      <td>end_latitude</td>\n",
       "      <td>도착지점의 위도</td>\n",
       "    </tr>\n",
       "    <tr>\n",
       "      <th>17</th>\n",
       "      <td>end_longitude</td>\n",
       "      <td>도착지점의 경도</td>\n",
       "    </tr>\n",
       "    <tr>\n",
       "      <th>18</th>\n",
       "      <td>end_turn_restricted</td>\n",
       "      <td>도작지점의 회전제한 유무</td>\n",
       "    </tr>\n",
       "    <tr>\n",
       "      <th>19</th>\n",
       "      <td>road_name</td>\n",
       "      <td>도로명</td>\n",
       "    </tr>\n",
       "    <tr>\n",
       "      <th>20</th>\n",
       "      <td>start_node_name</td>\n",
       "      <td>시작지점명</td>\n",
       "    </tr>\n",
       "    <tr>\n",
       "      <th>21</th>\n",
       "      <td>end_node_name</td>\n",
       "      <td>도착지점명</td>\n",
       "    </tr>\n",
       "    <tr>\n",
       "      <th>22</th>\n",
       "      <td>vehicle_restricted</td>\n",
       "      <td>통과제한차량</td>\n",
       "    </tr>\n",
       "    <tr>\n",
       "      <th>23</th>\n",
       "      <td>target</td>\n",
       "      <td>평균속도(km)</td>\n",
       "    </tr>\n",
       "  </tbody>\n",
       "</table>\n",
       "</div>"
      ],
      "text/plain": [
       "                      변수명           변수 설명\n",
       "0                      id             아이디\n",
       "1               base_date              날짜\n",
       "2             day_of_week              요일\n",
       "3               base_hour             시간대\n",
       "4             road_in_use          도로사용여부\n",
       "5              lane_count             차로수\n",
       "6             road_rating            도로등급\n",
       "7            multi_linked         중용구간 여부\n",
       "8            connect_code          연결로 코드\n",
       "9     maximum_speed_limit          최고속도제한\n",
       "10      weight_restricted          통과제한하중\n",
       "11       hight_restricted          통과제한높이\n",
       "12              road_type            도로유형\n",
       "13         start_latitude        시작지점의 위도\n",
       "14        start_longitude        시작지점의 경도\n",
       "15  start_turn_restricted  시작 지점의 회전제한 유무\n",
       "16           end_latitude        도착지점의 위도\n",
       "17          end_longitude        도착지점의 경도\n",
       "18    end_turn_restricted   도작지점의 회전제한 유무\n",
       "19              road_name             도로명\n",
       "20        start_node_name           시작지점명\n",
       "21          end_node_name           도착지점명\n",
       "22     vehicle_restricted          통과제한차량\n",
       "23                 target        평균속도(km)"
      ]
     },
     "execution_count": 6,
     "metadata": {},
     "output_type": "execute_result"
    }
   ],
   "source": [
    "# 피처 정보\n",
    "info"
   ]
  },
  {
   "cell_type": "code",
   "execution_count": 7,
   "metadata": {
    "colab": {
     "base_uri": "https://localhost:8080/"
    },
    "executionInfo": {
     "elapsed": 49,
     "status": "ok",
     "timestamp": 1666772915461,
     "user": {
      "displayName": "김태종",
      "userId": "09259876720802222860"
     },
     "user_tz": -540
    },
    "id": "lSTyz9ouILSa",
    "outputId": "0688c7cf-e3e6-4440-df2b-3dccd0ab2b67"
   },
   "outputs": [
    {
     "data": {
      "text/plain": [
       "(4701217, 24)"
      ]
     },
     "execution_count": 7,
     "metadata": {},
     "output_type": "execute_result"
    }
   ],
   "source": [
    "train.shape"
   ]
  },
  {
   "cell_type": "code",
   "execution_count": 8,
   "metadata": {
    "colab": {
     "base_uri": "https://localhost:8080/"
    },
    "executionInfo": {
     "elapsed": 30,
     "status": "ok",
     "timestamp": 1666772915468,
     "user": {
      "displayName": "김태종",
      "userId": "09259876720802222860"
     },
     "user_tz": -540
    },
    "id": "fS2IeUNH3_rU",
    "outputId": "b0c9113f-7f8e-41a7-db56-9ad87a9d5c2d"
   },
   "outputs": [
    {
     "name": "stdout",
     "output_type": "stream",
     "text": [
      "<class 'pandas.core.frame.DataFrame'>\n",
      "RangeIndex: 4701217 entries, 0 to 4701216\n",
      "Data columns (total 24 columns):\n",
      " #   Column                 Dtype  \n",
      "---  ------                 -----  \n",
      " 0   id                     object \n",
      " 1   base_date              int64  \n",
      " 2   day_of_week            object \n",
      " 3   base_hour              int64  \n",
      " 4   road_in_use            int64  \n",
      " 5   lane_count             int64  \n",
      " 6   road_rating            int64  \n",
      " 7   road_name              object \n",
      " 8   multi_linked           int64  \n",
      " 9   connect_code           int64  \n",
      " 10  maximum_speed_limit    float64\n",
      " 11  vehicle_restricted     float64\n",
      " 12  weight_restricted      float64\n",
      " 13  height_restricted      float64\n",
      " 14  road_type              int64  \n",
      " 15  start_node_name        object \n",
      " 16  start_latitude         float64\n",
      " 17  start_longitude        float64\n",
      " 18  start_turn_restricted  object \n",
      " 19  end_node_name          object \n",
      " 20  end_latitude           float64\n",
      " 21  end_longitude          float64\n",
      " 22  end_turn_restricted    object \n",
      " 23  target                 float64\n",
      "dtypes: float64(9), int64(8), object(7)\n",
      "memory usage: 860.8+ MB\n"
     ]
    }
   ],
   "source": [
    "# train세트 피처별 타입\n",
    "train.info()"
   ]
  },
  {
   "cell_type": "code",
   "execution_count": 9,
   "metadata": {
    "colab": {
     "base_uri": "https://localhost:8080/"
    },
    "executionInfo": {
     "elapsed": 2123,
     "status": "ok",
     "timestamp": 1666772917570,
     "user": {
      "displayName": "김태종",
      "userId": "09259876720802222860"
     },
     "user_tz": -540
    },
    "id": "VzefollO3_ok",
    "outputId": "daf4a7d4-733e-469c-d07e-37697f9e75d1"
   },
   "outputs": [
    {
     "data": {
      "text/plain": [
       "id                       0\n",
       "base_date                0\n",
       "day_of_week              0\n",
       "base_hour                0\n",
       "road_in_use              0\n",
       "lane_count               0\n",
       "road_rating              0\n",
       "road_name                0\n",
       "multi_linked             0\n",
       "connect_code             0\n",
       "maximum_speed_limit      0\n",
       "vehicle_restricted       0\n",
       "weight_restricted        0\n",
       "height_restricted        0\n",
       "road_type                0\n",
       "start_node_name          0\n",
       "start_latitude           0\n",
       "start_longitude          0\n",
       "start_turn_restricted    0\n",
       "end_node_name            0\n",
       "end_latitude             0\n",
       "end_longitude            0\n",
       "end_turn_restricted      0\n",
       "target                   0\n",
       "dtype: int64"
      ]
     },
     "execution_count": 9,
     "metadata": {},
     "output_type": "execute_result"
    }
   ],
   "source": [
    "# 피처별 결측치 확인\n",
    "train.isnull().sum()"
   ]
  },
  {
   "cell_type": "code",
   "execution_count": 10,
   "metadata": {
    "colab": {
     "base_uri": "https://localhost:8080/",
     "height": 369
    },
    "executionInfo": {
     "elapsed": 4,
     "status": "ok",
     "timestamp": 1666772917571,
     "user": {
      "displayName": "김태종",
      "userId": "09259876720802222860"
     },
     "user_tz": -540
    },
    "id": "_li0yua33_mE",
    "outputId": "468b49d4-09ea-432d-8c05-cc41f3e75a4f"
   },
   "outputs": [
    {
     "data": {
      "text/html": [
       "<div>\n",
       "<style scoped>\n",
       "    .dataframe tbody tr th:only-of-type {\n",
       "        vertical-align: middle;\n",
       "    }\n",
       "\n",
       "    .dataframe tbody tr th {\n",
       "        vertical-align: top;\n",
       "    }\n",
       "\n",
       "    .dataframe thead th {\n",
       "        text-align: right;\n",
       "    }\n",
       "</style>\n",
       "<table border=\"1\" class=\"dataframe\">\n",
       "  <thead>\n",
       "    <tr style=\"text-align: right;\">\n",
       "      <th></th>\n",
       "      <th>id</th>\n",
       "      <th>base_date</th>\n",
       "      <th>day_of_week</th>\n",
       "      <th>base_hour</th>\n",
       "      <th>road_in_use</th>\n",
       "      <th>lane_count</th>\n",
       "      <th>road_rating</th>\n",
       "      <th>road_name</th>\n",
       "      <th>multi_linked</th>\n",
       "      <th>connect_code</th>\n",
       "      <th>...</th>\n",
       "      <th>road_type</th>\n",
       "      <th>start_node_name</th>\n",
       "      <th>start_latitude</th>\n",
       "      <th>start_longitude</th>\n",
       "      <th>start_turn_restricted</th>\n",
       "      <th>end_node_name</th>\n",
       "      <th>end_latitude</th>\n",
       "      <th>end_longitude</th>\n",
       "      <th>end_turn_restricted</th>\n",
       "      <th>target</th>\n",
       "    </tr>\n",
       "  </thead>\n",
       "  <tbody>\n",
       "    <tr>\n",
       "      <th>0</th>\n",
       "      <td>TRAIN_0000000</td>\n",
       "      <td>20220623</td>\n",
       "      <td>목</td>\n",
       "      <td>17</td>\n",
       "      <td>0</td>\n",
       "      <td>1</td>\n",
       "      <td>106</td>\n",
       "      <td>지방도1112호선</td>\n",
       "      <td>0</td>\n",
       "      <td>0</td>\n",
       "      <td>...</td>\n",
       "      <td>3</td>\n",
       "      <td>제3교래교</td>\n",
       "      <td>33.427747</td>\n",
       "      <td>126.662612</td>\n",
       "      <td>없음</td>\n",
       "      <td>제3교래교</td>\n",
       "      <td>33.427749</td>\n",
       "      <td>126.662335</td>\n",
       "      <td>없음</td>\n",
       "      <td>52.0</td>\n",
       "    </tr>\n",
       "    <tr>\n",
       "      <th>1</th>\n",
       "      <td>TRAIN_0000001</td>\n",
       "      <td>20220728</td>\n",
       "      <td>목</td>\n",
       "      <td>21</td>\n",
       "      <td>0</td>\n",
       "      <td>2</td>\n",
       "      <td>103</td>\n",
       "      <td>일반국도11호선</td>\n",
       "      <td>0</td>\n",
       "      <td>0</td>\n",
       "      <td>...</td>\n",
       "      <td>0</td>\n",
       "      <td>광양사거리</td>\n",
       "      <td>33.500730</td>\n",
       "      <td>126.529107</td>\n",
       "      <td>있음</td>\n",
       "      <td>KAL사거리</td>\n",
       "      <td>33.504811</td>\n",
       "      <td>126.526240</td>\n",
       "      <td>없음</td>\n",
       "      <td>30.0</td>\n",
       "    </tr>\n",
       "    <tr>\n",
       "      <th>2</th>\n",
       "      <td>TRAIN_0000002</td>\n",
       "      <td>20211010</td>\n",
       "      <td>일</td>\n",
       "      <td>7</td>\n",
       "      <td>0</td>\n",
       "      <td>2</td>\n",
       "      <td>103</td>\n",
       "      <td>일반국도16호선</td>\n",
       "      <td>0</td>\n",
       "      <td>0</td>\n",
       "      <td>...</td>\n",
       "      <td>0</td>\n",
       "      <td>창고천교</td>\n",
       "      <td>33.279145</td>\n",
       "      <td>126.368598</td>\n",
       "      <td>없음</td>\n",
       "      <td>상창육교</td>\n",
       "      <td>33.280072</td>\n",
       "      <td>126.362147</td>\n",
       "      <td>없음</td>\n",
       "      <td>61.0</td>\n",
       "    </tr>\n",
       "    <tr>\n",
       "      <th>3</th>\n",
       "      <td>TRAIN_0000003</td>\n",
       "      <td>20220311</td>\n",
       "      <td>금</td>\n",
       "      <td>13</td>\n",
       "      <td>0</td>\n",
       "      <td>2</td>\n",
       "      <td>107</td>\n",
       "      <td>태평로</td>\n",
       "      <td>0</td>\n",
       "      <td>0</td>\n",
       "      <td>...</td>\n",
       "      <td>0</td>\n",
       "      <td>남양리조트</td>\n",
       "      <td>33.246081</td>\n",
       "      <td>126.567204</td>\n",
       "      <td>없음</td>\n",
       "      <td>서현주택</td>\n",
       "      <td>33.245565</td>\n",
       "      <td>126.566228</td>\n",
       "      <td>없음</td>\n",
       "      <td>20.0</td>\n",
       "    </tr>\n",
       "    <tr>\n",
       "      <th>4</th>\n",
       "      <td>TRAIN_0000004</td>\n",
       "      <td>20211005</td>\n",
       "      <td>화</td>\n",
       "      <td>8</td>\n",
       "      <td>0</td>\n",
       "      <td>2</td>\n",
       "      <td>103</td>\n",
       "      <td>일반국도12호선</td>\n",
       "      <td>0</td>\n",
       "      <td>0</td>\n",
       "      <td>...</td>\n",
       "      <td>0</td>\n",
       "      <td>애월샷시</td>\n",
       "      <td>33.462214</td>\n",
       "      <td>126.326551</td>\n",
       "      <td>없음</td>\n",
       "      <td>애월입구</td>\n",
       "      <td>33.462677</td>\n",
       "      <td>126.330152</td>\n",
       "      <td>없음</td>\n",
       "      <td>38.0</td>\n",
       "    </tr>\n",
       "  </tbody>\n",
       "</table>\n",
       "<p>5 rows × 24 columns</p>\n",
       "</div>"
      ],
      "text/plain": [
       "              id  base_date day_of_week  base_hour  road_in_use  lane_count  \\\n",
       "0  TRAIN_0000000   20220623           목         17            0           1   \n",
       "1  TRAIN_0000001   20220728           목         21            0           2   \n",
       "2  TRAIN_0000002   20211010           일          7            0           2   \n",
       "3  TRAIN_0000003   20220311           금         13            0           2   \n",
       "4  TRAIN_0000004   20211005           화          8            0           2   \n",
       "\n",
       "   road_rating  road_name  multi_linked  connect_code  ...  road_type  \\\n",
       "0          106  지방도1112호선             0             0  ...          3   \n",
       "1          103   일반국도11호선             0             0  ...          0   \n",
       "2          103   일반국도16호선             0             0  ...          0   \n",
       "3          107        태평로             0             0  ...          0   \n",
       "4          103   일반국도12호선             0             0  ...          0   \n",
       "\n",
       "   start_node_name  start_latitude  start_longitude  start_turn_restricted  \\\n",
       "0            제3교래교       33.427747       126.662612                     없음   \n",
       "1            광양사거리       33.500730       126.529107                     있음   \n",
       "2             창고천교       33.279145       126.368598                     없음   \n",
       "3            남양리조트       33.246081       126.567204                     없음   \n",
       "4             애월샷시       33.462214       126.326551                     없음   \n",
       "\n",
       "  end_node_name  end_latitude  end_longitude end_turn_restricted target  \n",
       "0         제3교래교     33.427749     126.662335                  없음   52.0  \n",
       "1        KAL사거리     33.504811     126.526240                  없음   30.0  \n",
       "2          상창육교     33.280072     126.362147                  없음   61.0  \n",
       "3          서현주택     33.245565     126.566228                  없음   20.0  \n",
       "4          애월입구     33.462677     126.330152                  없음   38.0  \n",
       "\n",
       "[5 rows x 24 columns]"
      ]
     },
     "execution_count": 10,
     "metadata": {},
     "output_type": "execute_result"
    }
   ],
   "source": [
    "train.head()"
   ]
  },
  {
   "cell_type": "code",
   "execution_count": 11,
   "metadata": {
    "colab": {
     "base_uri": "https://localhost:8080/",
     "height": 488
    },
    "executionInfo": {
     "elapsed": 715,
     "status": "ok",
     "timestamp": 1666772918283,
     "user": {
      "displayName": "김태종",
      "userId": "09259876720802222860"
     },
     "user_tz": -540
    },
    "id": "bJokJKDY-7Nx",
    "outputId": "1708469d-76ca-47da-8b35-024d22061b3b"
   },
   "outputs": [
    {
     "data": {
      "text/html": [
       "<div>\n",
       "<style scoped>\n",
       "    .dataframe tbody tr th:only-of-type {\n",
       "        vertical-align: middle;\n",
       "    }\n",
       "\n",
       "    .dataframe tbody tr th {\n",
       "        vertical-align: top;\n",
       "    }\n",
       "\n",
       "    .dataframe thead th {\n",
       "        text-align: right;\n",
       "    }\n",
       "</style>\n",
       "<table border=\"1\" class=\"dataframe\">\n",
       "  <thead>\n",
       "    <tr style=\"text-align: right;\">\n",
       "      <th></th>\n",
       "      <th>id</th>\n",
       "      <th>base_date</th>\n",
       "      <th>day_of_week</th>\n",
       "      <th>base_hour</th>\n",
       "      <th>road_in_use</th>\n",
       "      <th>lane_count</th>\n",
       "      <th>road_rating</th>\n",
       "      <th>road_name</th>\n",
       "      <th>multi_linked</th>\n",
       "      <th>connect_code</th>\n",
       "      <th>...</th>\n",
       "      <th>road_type</th>\n",
       "      <th>start_node_name</th>\n",
       "      <th>start_latitude</th>\n",
       "      <th>start_longitude</th>\n",
       "      <th>start_turn_restricted</th>\n",
       "      <th>end_node_name</th>\n",
       "      <th>end_latitude</th>\n",
       "      <th>end_longitude</th>\n",
       "      <th>end_turn_restricted</th>\n",
       "      <th>target</th>\n",
       "    </tr>\n",
       "  </thead>\n",
       "  <tbody>\n",
       "    <tr>\n",
       "      <th>6</th>\n",
       "      <td>TRAIN_0000006</td>\n",
       "      <td>20220106</td>\n",
       "      <td>목</td>\n",
       "      <td>0</td>\n",
       "      <td>0</td>\n",
       "      <td>2</td>\n",
       "      <td>107</td>\n",
       "      <td>-</td>\n",
       "      <td>0</td>\n",
       "      <td>0</td>\n",
       "      <td>...</td>\n",
       "      <td>0</td>\n",
       "      <td>가동</td>\n",
       "      <td>33.418412</td>\n",
       "      <td>126.268029</td>\n",
       "      <td>없음</td>\n",
       "      <td>나동</td>\n",
       "      <td>33.414175</td>\n",
       "      <td>126.269378</td>\n",
       "      <td>없음</td>\n",
       "      <td>39.0</td>\n",
       "    </tr>\n",
       "    <tr>\n",
       "      <th>14</th>\n",
       "      <td>TRAIN_0000014</td>\n",
       "      <td>20220203</td>\n",
       "      <td>목</td>\n",
       "      <td>16</td>\n",
       "      <td>0</td>\n",
       "      <td>1</td>\n",
       "      <td>107</td>\n",
       "      <td>-</td>\n",
       "      <td>0</td>\n",
       "      <td>0</td>\n",
       "      <td>...</td>\n",
       "      <td>3</td>\n",
       "      <td>송목교</td>\n",
       "      <td>33.316913</td>\n",
       "      <td>126.624634</td>\n",
       "      <td>없음</td>\n",
       "      <td>송목교</td>\n",
       "      <td>33.317065</td>\n",
       "      <td>126.623867</td>\n",
       "      <td>없음</td>\n",
       "      <td>58.0</td>\n",
       "    </tr>\n",
       "    <tr>\n",
       "      <th>28</th>\n",
       "      <td>TRAIN_0000028</td>\n",
       "      <td>20220612</td>\n",
       "      <td>일</td>\n",
       "      <td>14</td>\n",
       "      <td>0</td>\n",
       "      <td>2</td>\n",
       "      <td>107</td>\n",
       "      <td>-</td>\n",
       "      <td>0</td>\n",
       "      <td>0</td>\n",
       "      <td>...</td>\n",
       "      <td>0</td>\n",
       "      <td>광평교차로</td>\n",
       "      <td>33.330822</td>\n",
       "      <td>126.354179</td>\n",
       "      <td>없음</td>\n",
       "      <td>금악</td>\n",
       "      <td>33.330673</td>\n",
       "      <td>126.354987</td>\n",
       "      <td>없음</td>\n",
       "      <td>59.0</td>\n",
       "    </tr>\n",
       "    <tr>\n",
       "      <th>30</th>\n",
       "      <td>TRAIN_0000030</td>\n",
       "      <td>20220623</td>\n",
       "      <td>목</td>\n",
       "      <td>6</td>\n",
       "      <td>0</td>\n",
       "      <td>2</td>\n",
       "      <td>107</td>\n",
       "      <td>-</td>\n",
       "      <td>0</td>\n",
       "      <td>0</td>\n",
       "      <td>...</td>\n",
       "      <td>0</td>\n",
       "      <td>일호유리</td>\n",
       "      <td>33.472276</td>\n",
       "      <td>126.418443</td>\n",
       "      <td>없음</td>\n",
       "      <td>상귀교차로</td>\n",
       "      <td>33.473390</td>\n",
       "      <td>126.409129</td>\n",
       "      <td>없음</td>\n",
       "      <td>75.0</td>\n",
       "    </tr>\n",
       "    <tr>\n",
       "      <th>31</th>\n",
       "      <td>TRAIN_0000031</td>\n",
       "      <td>20211028</td>\n",
       "      <td>목</td>\n",
       "      <td>15</td>\n",
       "      <td>0</td>\n",
       "      <td>1</td>\n",
       "      <td>107</td>\n",
       "      <td>-</td>\n",
       "      <td>0</td>\n",
       "      <td>0</td>\n",
       "      <td>...</td>\n",
       "      <td>3</td>\n",
       "      <td>남수교</td>\n",
       "      <td>33.337244</td>\n",
       "      <td>126.695809</td>\n",
       "      <td>없음</td>\n",
       "      <td>남수교</td>\n",
       "      <td>33.337398</td>\n",
       "      <td>126.696117</td>\n",
       "      <td>없음</td>\n",
       "      <td>36.0</td>\n",
       "    </tr>\n",
       "    <tr>\n",
       "      <th>...</th>\n",
       "      <td>...</td>\n",
       "      <td>...</td>\n",
       "      <td>...</td>\n",
       "      <td>...</td>\n",
       "      <td>...</td>\n",
       "      <td>...</td>\n",
       "      <td>...</td>\n",
       "      <td>...</td>\n",
       "      <td>...</td>\n",
       "      <td>...</td>\n",
       "      <td>...</td>\n",
       "      <td>...</td>\n",
       "      <td>...</td>\n",
       "      <td>...</td>\n",
       "      <td>...</td>\n",
       "      <td>...</td>\n",
       "      <td>...</td>\n",
       "      <td>...</td>\n",
       "      <td>...</td>\n",
       "      <td>...</td>\n",
       "      <td>...</td>\n",
       "    </tr>\n",
       "    <tr>\n",
       "      <th>4701204</th>\n",
       "      <td>TRAIN_4701204</td>\n",
       "      <td>20211001</td>\n",
       "      <td>금</td>\n",
       "      <td>19</td>\n",
       "      <td>0</td>\n",
       "      <td>1</td>\n",
       "      <td>107</td>\n",
       "      <td>-</td>\n",
       "      <td>0</td>\n",
       "      <td>0</td>\n",
       "      <td>...</td>\n",
       "      <td>0</td>\n",
       "      <td>한남교차로</td>\n",
       "      <td>33.325096</td>\n",
       "      <td>126.665698</td>\n",
       "      <td>없음</td>\n",
       "      <td>서중2교</td>\n",
       "      <td>33.331742</td>\n",
       "      <td>126.676431</td>\n",
       "      <td>없음</td>\n",
       "      <td>55.0</td>\n",
       "    </tr>\n",
       "    <tr>\n",
       "      <th>4701205</th>\n",
       "      <td>TRAIN_4701205</td>\n",
       "      <td>20220112</td>\n",
       "      <td>수</td>\n",
       "      <td>19</td>\n",
       "      <td>0</td>\n",
       "      <td>1</td>\n",
       "      <td>107</td>\n",
       "      <td>-</td>\n",
       "      <td>0</td>\n",
       "      <td>0</td>\n",
       "      <td>...</td>\n",
       "      <td>0</td>\n",
       "      <td>감귤창고</td>\n",
       "      <td>33.450215</td>\n",
       "      <td>126.920771</td>\n",
       "      <td>없음</td>\n",
       "      <td>수협</td>\n",
       "      <td>33.448689</td>\n",
       "      <td>126.916358</td>\n",
       "      <td>없음</td>\n",
       "      <td>23.0</td>\n",
       "    </tr>\n",
       "    <tr>\n",
       "      <th>4701208</th>\n",
       "      <td>TRAIN_4701208</td>\n",
       "      <td>20220323</td>\n",
       "      <td>수</td>\n",
       "      <td>19</td>\n",
       "      <td>0</td>\n",
       "      <td>2</td>\n",
       "      <td>107</td>\n",
       "      <td>-</td>\n",
       "      <td>0</td>\n",
       "      <td>0</td>\n",
       "      <td>...</td>\n",
       "      <td>3</td>\n",
       "      <td>제2태흥교</td>\n",
       "      <td>33.287356</td>\n",
       "      <td>126.736525</td>\n",
       "      <td>없음</td>\n",
       "      <td>제2태흥교</td>\n",
       "      <td>33.287582</td>\n",
       "      <td>126.737512</td>\n",
       "      <td>없음</td>\n",
       "      <td>61.0</td>\n",
       "    </tr>\n",
       "    <tr>\n",
       "      <th>4701212</th>\n",
       "      <td>TRAIN_4701212</td>\n",
       "      <td>20211104</td>\n",
       "      <td>목</td>\n",
       "      <td>16</td>\n",
       "      <td>0</td>\n",
       "      <td>1</td>\n",
       "      <td>107</td>\n",
       "      <td>-</td>\n",
       "      <td>0</td>\n",
       "      <td>0</td>\n",
       "      <td>...</td>\n",
       "      <td>0</td>\n",
       "      <td>대림사거리</td>\n",
       "      <td>33.422145</td>\n",
       "      <td>126.278125</td>\n",
       "      <td>없음</td>\n",
       "      <td>금덕해운</td>\n",
       "      <td>33.420955</td>\n",
       "      <td>126.273750</td>\n",
       "      <td>없음</td>\n",
       "      <td>20.0</td>\n",
       "    </tr>\n",
       "    <tr>\n",
       "      <th>4701213</th>\n",
       "      <td>TRAIN_4701213</td>\n",
       "      <td>20220331</td>\n",
       "      <td>목</td>\n",
       "      <td>2</td>\n",
       "      <td>0</td>\n",
       "      <td>2</td>\n",
       "      <td>107</td>\n",
       "      <td>-</td>\n",
       "      <td>0</td>\n",
       "      <td>0</td>\n",
       "      <td>...</td>\n",
       "      <td>3</td>\n",
       "      <td>광삼교</td>\n",
       "      <td>33.472505</td>\n",
       "      <td>126.424368</td>\n",
       "      <td>없음</td>\n",
       "      <td>광삼교</td>\n",
       "      <td>33.472525</td>\n",
       "      <td>126.424890</td>\n",
       "      <td>없음</td>\n",
       "      <td>65.0</td>\n",
       "    </tr>\n",
       "  </tbody>\n",
       "</table>\n",
       "<p>569463 rows × 24 columns</p>\n",
       "</div>"
      ],
      "text/plain": [
       "                    id  base_date day_of_week  base_hour  road_in_use  \\\n",
       "6        TRAIN_0000006   20220106           목          0            0   \n",
       "14       TRAIN_0000014   20220203           목         16            0   \n",
       "28       TRAIN_0000028   20220612           일         14            0   \n",
       "30       TRAIN_0000030   20220623           목          6            0   \n",
       "31       TRAIN_0000031   20211028           목         15            0   \n",
       "...                ...        ...         ...        ...          ...   \n",
       "4701204  TRAIN_4701204   20211001           금         19            0   \n",
       "4701205  TRAIN_4701205   20220112           수         19            0   \n",
       "4701208  TRAIN_4701208   20220323           수         19            0   \n",
       "4701212  TRAIN_4701212   20211104           목         16            0   \n",
       "4701213  TRAIN_4701213   20220331           목          2            0   \n",
       "\n",
       "         lane_count  road_rating road_name  multi_linked  connect_code  ...  \\\n",
       "6                 2          107         -             0             0  ...   \n",
       "14                1          107         -             0             0  ...   \n",
       "28                2          107         -             0             0  ...   \n",
       "30                2          107         -             0             0  ...   \n",
       "31                1          107         -             0             0  ...   \n",
       "...             ...          ...       ...           ...           ...  ...   \n",
       "4701204           1          107         -             0             0  ...   \n",
       "4701205           1          107         -             0             0  ...   \n",
       "4701208           2          107         -             0             0  ...   \n",
       "4701212           1          107         -             0             0  ...   \n",
       "4701213           2          107         -             0             0  ...   \n",
       "\n",
       "         road_type  start_node_name  start_latitude  start_longitude  \\\n",
       "6                0               가동       33.418412       126.268029   \n",
       "14               3              송목교       33.316913       126.624634   \n",
       "28               0            광평교차로       33.330822       126.354179   \n",
       "30               0             일호유리       33.472276       126.418443   \n",
       "31               3              남수교       33.337244       126.695809   \n",
       "...            ...              ...             ...              ...   \n",
       "4701204          0            한남교차로       33.325096       126.665698   \n",
       "4701205          0             감귤창고       33.450215       126.920771   \n",
       "4701208          3            제2태흥교       33.287356       126.736525   \n",
       "4701212          0            대림사거리       33.422145       126.278125   \n",
       "4701213          3              광삼교       33.472505       126.424368   \n",
       "\n",
       "         start_turn_restricted end_node_name  end_latitude  end_longitude  \\\n",
       "6                           없음            나동     33.414175     126.269378   \n",
       "14                          없음           송목교     33.317065     126.623867   \n",
       "28                          없음            금악     33.330673     126.354987   \n",
       "30                          없음         상귀교차로     33.473390     126.409129   \n",
       "31                          없음           남수교     33.337398     126.696117   \n",
       "...                        ...           ...           ...            ...   \n",
       "4701204                     없음          서중2교     33.331742     126.676431   \n",
       "4701205                     없음            수협     33.448689     126.916358   \n",
       "4701208                     없음         제2태흥교     33.287582     126.737512   \n",
       "4701212                     없음          금덕해운     33.420955     126.273750   \n",
       "4701213                     없음           광삼교     33.472525     126.424890   \n",
       "\n",
       "        end_turn_restricted target  \n",
       "6                        없음   39.0  \n",
       "14                       없음   58.0  \n",
       "28                       없음   59.0  \n",
       "30                       없음   75.0  \n",
       "31                       없음   36.0  \n",
       "...                     ...    ...  \n",
       "4701204                  없음   55.0  \n",
       "4701205                  없음   23.0  \n",
       "4701208                  없음   61.0  \n",
       "4701212                  없음   20.0  \n",
       "4701213                  없음   65.0  \n",
       "\n",
       "[569463 rows x 24 columns]"
      ]
     },
     "execution_count": 11,
     "metadata": {},
     "output_type": "execute_result"
    }
   ],
   "source": [
    "train[train[\"road_name\"] == \"-\"]"
   ]
  },
  {
   "cell_type": "code",
   "execution_count": 12,
   "metadata": {
    "colab": {
     "base_uri": "https://localhost:8080/"
    },
    "executionInfo": {
     "elapsed": 18,
     "status": "ok",
     "timestamp": 1666772918284,
     "user": {
      "displayName": "김태종",
      "userId": "09259876720802222860"
     },
     "user_tz": -540
    },
    "id": "YIV8Mi2y3_jV",
    "outputId": "bed7e520-d23c-48cb-ba0a-405ea3aaf2f3"
   },
   "outputs": [
    {
     "data": {
      "text/plain": [
       "(291241, 23)"
      ]
     },
     "execution_count": 12,
     "metadata": {},
     "output_type": "execute_result"
    }
   ],
   "source": [
    "test.shape"
   ]
  },
  {
   "cell_type": "code",
   "execution_count": 13,
   "metadata": {
    "colab": {
     "base_uri": "https://localhost:8080/"
    },
    "executionInfo": {
     "elapsed": 11,
     "status": "ok",
     "timestamp": 1666772918284,
     "user": {
      "displayName": "김태종",
      "userId": "09259876720802222860"
     },
     "user_tz": -540
    },
    "id": "S0aseUKN3_gj",
    "outputId": "71db553a-6aea-4193-f75c-13d61129ed50"
   },
   "outputs": [
    {
     "data": {
      "text/plain": [
       "id                       0\n",
       "base_date                0\n",
       "day_of_week              0\n",
       "base_hour                0\n",
       "road_in_use              0\n",
       "lane_count               0\n",
       "road_rating              0\n",
       "road_name                0\n",
       "multi_linked             0\n",
       "connect_code             0\n",
       "maximum_speed_limit      0\n",
       "vehicle_restricted       0\n",
       "weight_restricted        0\n",
       "height_restricted        0\n",
       "road_type                0\n",
       "start_node_name          0\n",
       "start_latitude           0\n",
       "start_longitude          0\n",
       "start_turn_restricted    0\n",
       "end_node_name            0\n",
       "end_latitude             0\n",
       "end_longitude            0\n",
       "end_turn_restricted      0\n",
       "dtype: int64"
      ]
     },
     "execution_count": 13,
     "metadata": {},
     "output_type": "execute_result"
    }
   ],
   "source": [
    "test.isnull().sum()"
   ]
  },
  {
   "cell_type": "code",
   "execution_count": 14,
   "metadata": {
    "colab": {
     "base_uri": "https://localhost:8080/",
     "height": 369
    },
    "executionInfo": {
     "elapsed": 7,
     "status": "ok",
     "timestamp": 1666772918284,
     "user": {
      "displayName": "김태종",
      "userId": "09259876720802222860"
     },
     "user_tz": -540
    },
    "id": "Zu6TPXFt3_Yc",
    "outputId": "803cb366-454e-4e00-dfe4-39628ec5bc97"
   },
   "outputs": [
    {
     "data": {
      "text/html": [
       "<div>\n",
       "<style scoped>\n",
       "    .dataframe tbody tr th:only-of-type {\n",
       "        vertical-align: middle;\n",
       "    }\n",
       "\n",
       "    .dataframe tbody tr th {\n",
       "        vertical-align: top;\n",
       "    }\n",
       "\n",
       "    .dataframe thead th {\n",
       "        text-align: right;\n",
       "    }\n",
       "</style>\n",
       "<table border=\"1\" class=\"dataframe\">\n",
       "  <thead>\n",
       "    <tr style=\"text-align: right;\">\n",
       "      <th></th>\n",
       "      <th>id</th>\n",
       "      <th>base_date</th>\n",
       "      <th>day_of_week</th>\n",
       "      <th>base_hour</th>\n",
       "      <th>road_in_use</th>\n",
       "      <th>lane_count</th>\n",
       "      <th>road_rating</th>\n",
       "      <th>road_name</th>\n",
       "      <th>multi_linked</th>\n",
       "      <th>connect_code</th>\n",
       "      <th>...</th>\n",
       "      <th>height_restricted</th>\n",
       "      <th>road_type</th>\n",
       "      <th>start_node_name</th>\n",
       "      <th>start_latitude</th>\n",
       "      <th>start_longitude</th>\n",
       "      <th>start_turn_restricted</th>\n",
       "      <th>end_node_name</th>\n",
       "      <th>end_latitude</th>\n",
       "      <th>end_longitude</th>\n",
       "      <th>end_turn_restricted</th>\n",
       "    </tr>\n",
       "  </thead>\n",
       "  <tbody>\n",
       "    <tr>\n",
       "      <th>0</th>\n",
       "      <td>TEST_000000</td>\n",
       "      <td>20220825</td>\n",
       "      <td>목</td>\n",
       "      <td>17</td>\n",
       "      <td>0</td>\n",
       "      <td>3</td>\n",
       "      <td>107</td>\n",
       "      <td>연삼로</td>\n",
       "      <td>0</td>\n",
       "      <td>0</td>\n",
       "      <td>...</td>\n",
       "      <td>0.0</td>\n",
       "      <td>0</td>\n",
       "      <td>산지2교</td>\n",
       "      <td>33.499427</td>\n",
       "      <td>126.541298</td>\n",
       "      <td>없음</td>\n",
       "      <td>제주은행사거리</td>\n",
       "      <td>33.500772</td>\n",
       "      <td>126.543837</td>\n",
       "      <td>있음</td>\n",
       "    </tr>\n",
       "    <tr>\n",
       "      <th>1</th>\n",
       "      <td>TEST_000001</td>\n",
       "      <td>20220809</td>\n",
       "      <td>화</td>\n",
       "      <td>12</td>\n",
       "      <td>0</td>\n",
       "      <td>2</td>\n",
       "      <td>103</td>\n",
       "      <td>일반국도12호선</td>\n",
       "      <td>0</td>\n",
       "      <td>0</td>\n",
       "      <td>...</td>\n",
       "      <td>0.0</td>\n",
       "      <td>3</td>\n",
       "      <td>중문입구</td>\n",
       "      <td>33.258507</td>\n",
       "      <td>126.427003</td>\n",
       "      <td>없음</td>\n",
       "      <td>관광단지입구</td>\n",
       "      <td>33.258119</td>\n",
       "      <td>126.415840</td>\n",
       "      <td>없음</td>\n",
       "    </tr>\n",
       "    <tr>\n",
       "      <th>2</th>\n",
       "      <td>TEST_000002</td>\n",
       "      <td>20220805</td>\n",
       "      <td>금</td>\n",
       "      <td>2</td>\n",
       "      <td>0</td>\n",
       "      <td>1</td>\n",
       "      <td>103</td>\n",
       "      <td>일반국도16호선</td>\n",
       "      <td>0</td>\n",
       "      <td>0</td>\n",
       "      <td>...</td>\n",
       "      <td>0.0</td>\n",
       "      <td>0</td>\n",
       "      <td>도순3교</td>\n",
       "      <td>33.258960</td>\n",
       "      <td>126.476508</td>\n",
       "      <td>없음</td>\n",
       "      <td>도순2교</td>\n",
       "      <td>33.259206</td>\n",
       "      <td>126.474687</td>\n",
       "      <td>없음</td>\n",
       "    </tr>\n",
       "    <tr>\n",
       "      <th>3</th>\n",
       "      <td>TEST_000003</td>\n",
       "      <td>20220818</td>\n",
       "      <td>목</td>\n",
       "      <td>23</td>\n",
       "      <td>0</td>\n",
       "      <td>3</td>\n",
       "      <td>103</td>\n",
       "      <td>일반국도11호선</td>\n",
       "      <td>0</td>\n",
       "      <td>0</td>\n",
       "      <td>...</td>\n",
       "      <td>0.0</td>\n",
       "      <td>0</td>\n",
       "      <td>아라주공아파트</td>\n",
       "      <td>33.473494</td>\n",
       "      <td>126.545647</td>\n",
       "      <td>없음</td>\n",
       "      <td>인다마을</td>\n",
       "      <td>33.471061</td>\n",
       "      <td>126.545467</td>\n",
       "      <td>없음</td>\n",
       "    </tr>\n",
       "    <tr>\n",
       "      <th>4</th>\n",
       "      <td>TEST_000004</td>\n",
       "      <td>20220810</td>\n",
       "      <td>수</td>\n",
       "      <td>17</td>\n",
       "      <td>0</td>\n",
       "      <td>3</td>\n",
       "      <td>106</td>\n",
       "      <td>번영로</td>\n",
       "      <td>0</td>\n",
       "      <td>0</td>\n",
       "      <td>...</td>\n",
       "      <td>0.0</td>\n",
       "      <td>0</td>\n",
       "      <td>부록교 시종점</td>\n",
       "      <td>33.501477</td>\n",
       "      <td>126.569223</td>\n",
       "      <td>없음</td>\n",
       "      <td>봉개교 시종점</td>\n",
       "      <td>33.496863</td>\n",
       "      <td>126.581230</td>\n",
       "      <td>없음</td>\n",
       "    </tr>\n",
       "  </tbody>\n",
       "</table>\n",
       "<p>5 rows × 23 columns</p>\n",
       "</div>"
      ],
      "text/plain": [
       "            id  base_date day_of_week  base_hour  road_in_use  lane_count  \\\n",
       "0  TEST_000000   20220825           목         17            0           3   \n",
       "1  TEST_000001   20220809           화         12            0           2   \n",
       "2  TEST_000002   20220805           금          2            0           1   \n",
       "3  TEST_000003   20220818           목         23            0           3   \n",
       "4  TEST_000004   20220810           수         17            0           3   \n",
       "\n",
       "   road_rating road_name  multi_linked  connect_code  ...  height_restricted  \\\n",
       "0          107       연삼로             0             0  ...                0.0   \n",
       "1          103  일반국도12호선             0             0  ...                0.0   \n",
       "2          103  일반국도16호선             0             0  ...                0.0   \n",
       "3          103  일반국도11호선             0             0  ...                0.0   \n",
       "4          106       번영로             0             0  ...                0.0   \n",
       "\n",
       "   road_type  start_node_name  start_latitude  start_longitude  \\\n",
       "0          0             산지2교       33.499427       126.541298   \n",
       "1          3             중문입구       33.258507       126.427003   \n",
       "2          0             도순3교       33.258960       126.476508   \n",
       "3          0          아라주공아파트       33.473494       126.545647   \n",
       "4          0          부록교 시종점       33.501477       126.569223   \n",
       "\n",
       "  start_turn_restricted  end_node_name  end_latitude end_longitude  \\\n",
       "0                    없음        제주은행사거리     33.500772    126.543837   \n",
       "1                    없음         관광단지입구     33.258119    126.415840   \n",
       "2                    없음           도순2교     33.259206    126.474687   \n",
       "3                    없음           인다마을     33.471061    126.545467   \n",
       "4                    없음        봉개교 시종점     33.496863    126.581230   \n",
       "\n",
       "  end_turn_restricted  \n",
       "0                  있음  \n",
       "1                  없음  \n",
       "2                  없음  \n",
       "3                  없음  \n",
       "4                  없음  \n",
       "\n",
       "[5 rows x 23 columns]"
      ]
     },
     "execution_count": 14,
     "metadata": {},
     "output_type": "execute_result"
    }
   ],
   "source": [
    "test.head()"
   ]
  },
  {
   "cell_type": "markdown",
   "metadata": {
    "id": "NxnWZb3zIYll"
   },
   "source": [
    "### 데이터 중복값 확인"
   ]
  },
  {
   "cell_type": "code",
   "execution_count": 15,
   "metadata": {},
   "outputs": [
    {
     "name": "stdout",
     "output_type": "stream",
     "text": [
      "전체가 중복된 row 수 : 0\n"
     ]
    }
   ],
   "source": [
    "remainders = train.drop_duplicates().shape[0]\n",
    "print(f\"전체가 중복된 row 수 : {train.shape[0] - remainders}\")"
   ]
  },
  {
   "cell_type": "code",
   "execution_count": 16,
   "metadata": {
    "colab": {
     "base_uri": "https://localhost:8080/"
    },
    "executionInfo": {
     "elapsed": 5077,
     "status": "ok",
     "timestamp": 1666772923355,
     "user": {
      "displayName": "김태종",
      "userId": "09259876720802222860"
     },
     "user_tz": -540
    },
    "id": "kgIMkF5c3_Vg",
    "outputId": "1ea2a679-3aa4-49b1-d11d-dcaa5cd4cb28"
   },
   "outputs": [
    {
     "name": "stdout",
     "output_type": "stream",
     "text": [
      "중복된 값이 있는 Column : base_date\n",
      "중복 row 수 : 281\n",
      "------------------------------\n",
      "중복된 값이 있는 Column : day_of_week\n",
      "중복 row 수 : 7\n",
      "------------------------------\n",
      "중복된 값이 있는 Column : base_hour\n",
      "중복 row 수 : 24\n",
      "------------------------------\n",
      "중복된 값이 있는 Column : road_in_use\n",
      "중복 row 수 : 2\n",
      "------------------------------\n",
      "중복된 값이 있는 Column : lane_count\n",
      "중복 row 수 : 3\n",
      "------------------------------\n",
      "중복된 값이 있는 Column : road_rating\n",
      "중복 row 수 : 3\n",
      "------------------------------\n",
      "중복된 값이 있는 Column : road_name\n",
      "중복 row 수 : 61\n",
      "------------------------------\n",
      "중복된 값이 있는 Column : multi_linked\n",
      "중복 row 수 : 2\n",
      "------------------------------\n",
      "중복된 값이 있는 Column : connect_code\n",
      "중복 row 수 : 2\n",
      "------------------------------\n",
      "중복된 값이 있는 Column : maximum_speed_limit\n",
      "중복 row 수 : 6\n",
      "------------------------------\n",
      "중복된 값이 있는 Column : vehicle_restricted\n",
      "중복 row 수 : 1\n",
      "------------------------------\n",
      "중복된 값이 있는 Column : weight_restricted\n",
      "중복 row 수 : 4\n",
      "------------------------------\n",
      "중복된 값이 있는 Column : height_restricted\n",
      "중복 row 수 : 1\n",
      "------------------------------\n",
      "중복된 값이 있는 Column : road_type\n",
      "중복 row 수 : 2\n",
      "------------------------------\n",
      "중복된 값이 있는 Column : start_node_name\n",
      "중복 row 수 : 487\n",
      "------------------------------\n",
      "중복된 값이 있는 Column : start_latitude\n",
      "중복 row 수 : 586\n",
      "------------------------------\n",
      "중복된 값이 있는 Column : start_longitude\n",
      "중복 row 수 : 586\n",
      "------------------------------\n",
      "중복된 값이 있는 Column : start_turn_restricted\n",
      "중복 row 수 : 2\n",
      "------------------------------\n",
      "중복된 값이 있는 Column : end_node_name\n",
      "중복 row 수 : 487\n",
      "------------------------------\n",
      "중복된 값이 있는 Column : end_latitude\n",
      "중복 row 수 : 586\n",
      "------------------------------\n",
      "중복된 값이 있는 Column : end_longitude\n",
      "중복 row 수 : 586\n",
      "------------------------------\n",
      "중복된 값이 있는 Column : end_turn_restricted\n",
      "중복 row 수 : 2\n",
      "------------------------------\n",
      "중복된 값이 있는 Column : target\n",
      "중복 row 수 : 102\n",
      "------------------------------\n"
     ]
    }
   ],
   "source": [
    "for col in list(train):  # list(데이터 프레임) 이렇게 하면 컬럼명을 출력한다. \n",
    "    \n",
    "    remainders = train.drop_duplicates([col]).shape[0]  # col 에서 중복값이 있으면 드랍\n",
    "    # 드랍한 데이터 프레임과 원래 데이터 프레임의 row길이를 비교한다. \n",
    "    if remainders != train.shape[0]:\n",
    "        print(f\"중복된 값이 있는 Column : {col}\")\n",
    "        print(f\"중복 row 수 : {remainders}\")\n",
    "        print(\"-\"*30)"
   ]
  },
  {
   "cell_type": "markdown",
   "metadata": {
    "id": "qxsTfopaK2Q9"
   },
   "source": [
    "### 상관계수 확인"
   ]
  },
  {
   "cell_type": "code",
   "execution_count": 17,
   "metadata": {
    "colab": {
     "base_uri": "https://localhost:8080/",
     "height": 646
    },
    "executionInfo": {
     "elapsed": 4841,
     "status": "ok",
     "timestamp": 1666772928186,
     "user": {
      "displayName": "김태종",
      "userId": "09259876720802222860"
     },
     "user_tz": -540
    },
    "id": "uFl94mSCIki3",
    "outputId": "3d7cfe66-1b9b-4a8d-d62e-53f2158861aa"
   },
   "outputs": [
    {
     "data": {
      "text/html": [
       "<div>\n",
       "<style scoped>\n",
       "    .dataframe tbody tr th:only-of-type {\n",
       "        vertical-align: middle;\n",
       "    }\n",
       "\n",
       "    .dataframe tbody tr th {\n",
       "        vertical-align: top;\n",
       "    }\n",
       "\n",
       "    .dataframe thead th {\n",
       "        text-align: right;\n",
       "    }\n",
       "</style>\n",
       "<table border=\"1\" class=\"dataframe\">\n",
       "  <thead>\n",
       "    <tr style=\"text-align: right;\">\n",
       "      <th></th>\n",
       "      <th>base_date</th>\n",
       "      <th>base_hour</th>\n",
       "      <th>road_in_use</th>\n",
       "      <th>lane_count</th>\n",
       "      <th>road_rating</th>\n",
       "      <th>multi_linked</th>\n",
       "      <th>connect_code</th>\n",
       "      <th>maximum_speed_limit</th>\n",
       "      <th>vehicle_restricted</th>\n",
       "      <th>weight_restricted</th>\n",
       "      <th>height_restricted</th>\n",
       "      <th>road_type</th>\n",
       "      <th>start_latitude</th>\n",
       "      <th>start_longitude</th>\n",
       "      <th>end_latitude</th>\n",
       "      <th>end_longitude</th>\n",
       "      <th>target</th>\n",
       "    </tr>\n",
       "  </thead>\n",
       "  <tbody>\n",
       "    <tr>\n",
       "      <th>base_date</th>\n",
       "      <td>1.000000</td>\n",
       "      <td>-0.008645</td>\n",
       "      <td>-0.001800</td>\n",
       "      <td>0.011463</td>\n",
       "      <td>0.018547</td>\n",
       "      <td>0.000832</td>\n",
       "      <td>-0.010633</td>\n",
       "      <td>-0.018713</td>\n",
       "      <td>NaN</td>\n",
       "      <td>-0.011030</td>\n",
       "      <td>NaN</td>\n",
       "      <td>-0.004599</td>\n",
       "      <td>-0.016818</td>\n",
       "      <td>-0.004954</td>\n",
       "      <td>-0.016786</td>\n",
       "      <td>-0.004972</td>\n",
       "      <td>-0.033997</td>\n",
       "    </tr>\n",
       "    <tr>\n",
       "      <th>base_hour</th>\n",
       "      <td>-0.008645</td>\n",
       "      <td>1.000000</td>\n",
       "      <td>-0.001188</td>\n",
       "      <td>-0.029194</td>\n",
       "      <td>0.031658</td>\n",
       "      <td>0.005711</td>\n",
       "      <td>-0.002649</td>\n",
       "      <td>-0.036756</td>\n",
       "      <td>NaN</td>\n",
       "      <td>-0.003231</td>\n",
       "      <td>NaN</td>\n",
       "      <td>-0.007880</td>\n",
       "      <td>-0.021599</td>\n",
       "      <td>-0.011478</td>\n",
       "      <td>-0.021597</td>\n",
       "      <td>-0.011489</td>\n",
       "      <td>-0.159407</td>\n",
       "    </tr>\n",
       "    <tr>\n",
       "      <th>road_in_use</th>\n",
       "      <td>-0.001800</td>\n",
       "      <td>-0.001188</td>\n",
       "      <td>1.000000</td>\n",
       "      <td>0.008773</td>\n",
       "      <td>-0.033396</td>\n",
       "      <td>-0.000806</td>\n",
       "      <td>-0.001880</td>\n",
       "      <td>-0.003815</td>\n",
       "      <td>NaN</td>\n",
       "      <td>-0.014873</td>\n",
       "      <td>NaN</td>\n",
       "      <td>-0.018760</td>\n",
       "      <td>-0.027831</td>\n",
       "      <td>0.018197</td>\n",
       "      <td>-0.028571</td>\n",
       "      <td>0.018275</td>\n",
       "      <td>0.026095</td>\n",
       "    </tr>\n",
       "    <tr>\n",
       "      <th>lane_count</th>\n",
       "      <td>0.011463</td>\n",
       "      <td>-0.029194</td>\n",
       "      <td>0.008773</td>\n",
       "      <td>1.000000</td>\n",
       "      <td>-0.095717</td>\n",
       "      <td>-0.026555</td>\n",
       "      <td>-0.029290</td>\n",
       "      <td>0.384002</td>\n",
       "      <td>NaN</td>\n",
       "      <td>-0.177224</td>\n",
       "      <td>NaN</td>\n",
       "      <td>-0.050715</td>\n",
       "      <td>0.182674</td>\n",
       "      <td>-0.094806</td>\n",
       "      <td>0.182330</td>\n",
       "      <td>-0.094732</td>\n",
       "      <td>-0.144256</td>\n",
       "    </tr>\n",
       "    <tr>\n",
       "      <th>road_rating</th>\n",
       "      <td>0.018547</td>\n",
       "      <td>0.031658</td>\n",
       "      <td>-0.033396</td>\n",
       "      <td>-0.095717</td>\n",
       "      <td>1.000000</td>\n",
       "      <td>0.024218</td>\n",
       "      <td>-0.054160</td>\n",
       "      <td>-0.327474</td>\n",
       "      <td>NaN</td>\n",
       "      <td>-0.118630</td>\n",
       "      <td>NaN</td>\n",
       "      <td>-0.125618</td>\n",
       "      <td>-0.204793</td>\n",
       "      <td>0.007401</td>\n",
       "      <td>-0.204843</td>\n",
       "      <td>0.007386</td>\n",
       "      <td>-0.261693</td>\n",
       "    </tr>\n",
       "    <tr>\n",
       "      <th>multi_linked</th>\n",
       "      <td>0.000832</td>\n",
       "      <td>0.005711</td>\n",
       "      <td>-0.000806</td>\n",
       "      <td>-0.026555</td>\n",
       "      <td>0.024218</td>\n",
       "      <td>1.000000</td>\n",
       "      <td>-0.001111</td>\n",
       "      <td>-0.020245</td>\n",
       "      <td>NaN</td>\n",
       "      <td>-0.008790</td>\n",
       "      <td>NaN</td>\n",
       "      <td>0.042977</td>\n",
       "      <td>-0.014906</td>\n",
       "      <td>0.026895</td>\n",
       "      <td>-0.014907</td>\n",
       "      <td>0.026896</td>\n",
       "      <td>-0.008408</td>\n",
       "    </tr>\n",
       "    <tr>\n",
       "      <th>connect_code</th>\n",
       "      <td>-0.010633</td>\n",
       "      <td>-0.002649</td>\n",
       "      <td>-0.001880</td>\n",
       "      <td>-0.029290</td>\n",
       "      <td>-0.054160</td>\n",
       "      <td>-0.001111</td>\n",
       "      <td>1.000000</td>\n",
       "      <td>-0.015190</td>\n",
       "      <td>NaN</td>\n",
       "      <td>-0.020491</td>\n",
       "      <td>NaN</td>\n",
       "      <td>-0.025846</td>\n",
       "      <td>0.036623</td>\n",
       "      <td>-0.045695</td>\n",
       "      <td>0.037163</td>\n",
       "      <td>-0.044853</td>\n",
       "      <td>0.048348</td>\n",
       "    </tr>\n",
       "    <tr>\n",
       "      <th>maximum_speed_limit</th>\n",
       "      <td>-0.018713</td>\n",
       "      <td>-0.036756</td>\n",
       "      <td>-0.003815</td>\n",
       "      <td>0.384002</td>\n",
       "      <td>-0.327474</td>\n",
       "      <td>-0.020245</td>\n",
       "      <td>-0.015190</td>\n",
       "      <td>1.000000</td>\n",
       "      <td>NaN</td>\n",
       "      <td>0.085080</td>\n",
       "      <td>NaN</td>\n",
       "      <td>0.059511</td>\n",
       "      <td>0.253147</td>\n",
       "      <td>-0.033018</td>\n",
       "      <td>0.252958</td>\n",
       "      <td>-0.032907</td>\n",
       "      <td>0.425715</td>\n",
       "    </tr>\n",
       "    <tr>\n",
       "      <th>vehicle_restricted</th>\n",
       "      <td>NaN</td>\n",
       "      <td>NaN</td>\n",
       "      <td>NaN</td>\n",
       "      <td>NaN</td>\n",
       "      <td>NaN</td>\n",
       "      <td>NaN</td>\n",
       "      <td>NaN</td>\n",
       "      <td>NaN</td>\n",
       "      <td>NaN</td>\n",
       "      <td>NaN</td>\n",
       "      <td>NaN</td>\n",
       "      <td>NaN</td>\n",
       "      <td>NaN</td>\n",
       "      <td>NaN</td>\n",
       "      <td>NaN</td>\n",
       "      <td>NaN</td>\n",
       "      <td>NaN</td>\n",
       "    </tr>\n",
       "    <tr>\n",
       "      <th>weight_restricted</th>\n",
       "      <td>-0.011030</td>\n",
       "      <td>-0.003231</td>\n",
       "      <td>-0.014873</td>\n",
       "      <td>-0.177224</td>\n",
       "      <td>-0.118630</td>\n",
       "      <td>-0.008790</td>\n",
       "      <td>-0.020491</td>\n",
       "      <td>0.085080</td>\n",
       "      <td>NaN</td>\n",
       "      <td>1.000000</td>\n",
       "      <td>NaN</td>\n",
       "      <td>0.792803</td>\n",
       "      <td>-0.128291</td>\n",
       "      <td>0.034926</td>\n",
       "      <td>-0.128305</td>\n",
       "      <td>0.034915</td>\n",
       "      <td>0.294092</td>\n",
       "    </tr>\n",
       "    <tr>\n",
       "      <th>height_restricted</th>\n",
       "      <td>NaN</td>\n",
       "      <td>NaN</td>\n",
       "      <td>NaN</td>\n",
       "      <td>NaN</td>\n",
       "      <td>NaN</td>\n",
       "      <td>NaN</td>\n",
       "      <td>NaN</td>\n",
       "      <td>NaN</td>\n",
       "      <td>NaN</td>\n",
       "      <td>NaN</td>\n",
       "      <td>NaN</td>\n",
       "      <td>NaN</td>\n",
       "      <td>NaN</td>\n",
       "      <td>NaN</td>\n",
       "      <td>NaN</td>\n",
       "      <td>NaN</td>\n",
       "      <td>NaN</td>\n",
       "    </tr>\n",
       "    <tr>\n",
       "      <th>road_type</th>\n",
       "      <td>-0.004599</td>\n",
       "      <td>-0.007880</td>\n",
       "      <td>-0.018760</td>\n",
       "      <td>-0.050715</td>\n",
       "      <td>-0.125618</td>\n",
       "      <td>0.042977</td>\n",
       "      <td>-0.025846</td>\n",
       "      <td>0.059511</td>\n",
       "      <td>NaN</td>\n",
       "      <td>0.792803</td>\n",
       "      <td>NaN</td>\n",
       "      <td>1.000000</td>\n",
       "      <td>-0.043420</td>\n",
       "      <td>0.033684</td>\n",
       "      <td>-0.043430</td>\n",
       "      <td>0.033664</td>\n",
       "      <td>0.200840</td>\n",
       "    </tr>\n",
       "    <tr>\n",
       "      <th>start_latitude</th>\n",
       "      <td>-0.016818</td>\n",
       "      <td>-0.021599</td>\n",
       "      <td>-0.027831</td>\n",
       "      <td>0.182674</td>\n",
       "      <td>-0.204793</td>\n",
       "      <td>-0.014906</td>\n",
       "      <td>0.036623</td>\n",
       "      <td>0.253147</td>\n",
       "      <td>NaN</td>\n",
       "      <td>-0.128291</td>\n",
       "      <td>NaN</td>\n",
       "      <td>-0.043420</td>\n",
       "      <td>1.000000</td>\n",
       "      <td>0.127042</td>\n",
       "      <td>0.999106</td>\n",
       "      <td>0.127005</td>\n",
       "      <td>0.036280</td>\n",
       "    </tr>\n",
       "    <tr>\n",
       "      <th>start_longitude</th>\n",
       "      <td>-0.004954</td>\n",
       "      <td>-0.011478</td>\n",
       "      <td>0.018197</td>\n",
       "      <td>-0.094806</td>\n",
       "      <td>0.007401</td>\n",
       "      <td>0.026895</td>\n",
       "      <td>-0.045695</td>\n",
       "      <td>-0.033018</td>\n",
       "      <td>NaN</td>\n",
       "      <td>0.034926</td>\n",
       "      <td>NaN</td>\n",
       "      <td>0.033684</td>\n",
       "      <td>0.127042</td>\n",
       "      <td>1.000000</td>\n",
       "      <td>0.126900</td>\n",
       "      <td>0.999219</td>\n",
       "      <td>-0.001168</td>\n",
       "    </tr>\n",
       "    <tr>\n",
       "      <th>end_latitude</th>\n",
       "      <td>-0.016786</td>\n",
       "      <td>-0.021597</td>\n",
       "      <td>-0.028571</td>\n",
       "      <td>0.182330</td>\n",
       "      <td>-0.204843</td>\n",
       "      <td>-0.014907</td>\n",
       "      <td>0.037163</td>\n",
       "      <td>0.252958</td>\n",
       "      <td>NaN</td>\n",
       "      <td>-0.128305</td>\n",
       "      <td>NaN</td>\n",
       "      <td>-0.043430</td>\n",
       "      <td>0.999106</td>\n",
       "      <td>0.126900</td>\n",
       "      <td>1.000000</td>\n",
       "      <td>0.127098</td>\n",
       "      <td>0.036139</td>\n",
       "    </tr>\n",
       "    <tr>\n",
       "      <th>end_longitude</th>\n",
       "      <td>-0.004972</td>\n",
       "      <td>-0.011489</td>\n",
       "      <td>0.018275</td>\n",
       "      <td>-0.094732</td>\n",
       "      <td>0.007386</td>\n",
       "      <td>0.026896</td>\n",
       "      <td>-0.044853</td>\n",
       "      <td>-0.032907</td>\n",
       "      <td>NaN</td>\n",
       "      <td>0.034915</td>\n",
       "      <td>NaN</td>\n",
       "      <td>0.033664</td>\n",
       "      <td>0.127005</td>\n",
       "      <td>0.999219</td>\n",
       "      <td>0.127098</td>\n",
       "      <td>1.000000</td>\n",
       "      <td>-0.001000</td>\n",
       "    </tr>\n",
       "    <tr>\n",
       "      <th>target</th>\n",
       "      <td>-0.033997</td>\n",
       "      <td>-0.159407</td>\n",
       "      <td>0.026095</td>\n",
       "      <td>-0.144256</td>\n",
       "      <td>-0.261693</td>\n",
       "      <td>-0.008408</td>\n",
       "      <td>0.048348</td>\n",
       "      <td>0.425715</td>\n",
       "      <td>NaN</td>\n",
       "      <td>0.294092</td>\n",
       "      <td>NaN</td>\n",
       "      <td>0.200840</td>\n",
       "      <td>0.036280</td>\n",
       "      <td>-0.001168</td>\n",
       "      <td>0.036139</td>\n",
       "      <td>-0.001000</td>\n",
       "      <td>1.000000</td>\n",
       "    </tr>\n",
       "  </tbody>\n",
       "</table>\n",
       "</div>"
      ],
      "text/plain": [
       "                     base_date  base_hour  road_in_use  lane_count  \\\n",
       "base_date             1.000000  -0.008645    -0.001800    0.011463   \n",
       "base_hour            -0.008645   1.000000    -0.001188   -0.029194   \n",
       "road_in_use          -0.001800  -0.001188     1.000000    0.008773   \n",
       "lane_count            0.011463  -0.029194     0.008773    1.000000   \n",
       "road_rating           0.018547   0.031658    -0.033396   -0.095717   \n",
       "multi_linked          0.000832   0.005711    -0.000806   -0.026555   \n",
       "connect_code         -0.010633  -0.002649    -0.001880   -0.029290   \n",
       "maximum_speed_limit  -0.018713  -0.036756    -0.003815    0.384002   \n",
       "vehicle_restricted         NaN        NaN          NaN         NaN   \n",
       "weight_restricted    -0.011030  -0.003231    -0.014873   -0.177224   \n",
       "height_restricted          NaN        NaN          NaN         NaN   \n",
       "road_type            -0.004599  -0.007880    -0.018760   -0.050715   \n",
       "start_latitude       -0.016818  -0.021599    -0.027831    0.182674   \n",
       "start_longitude      -0.004954  -0.011478     0.018197   -0.094806   \n",
       "end_latitude         -0.016786  -0.021597    -0.028571    0.182330   \n",
       "end_longitude        -0.004972  -0.011489     0.018275   -0.094732   \n",
       "target               -0.033997  -0.159407     0.026095   -0.144256   \n",
       "\n",
       "                     road_rating  multi_linked  connect_code  \\\n",
       "base_date               0.018547      0.000832     -0.010633   \n",
       "base_hour               0.031658      0.005711     -0.002649   \n",
       "road_in_use            -0.033396     -0.000806     -0.001880   \n",
       "lane_count             -0.095717     -0.026555     -0.029290   \n",
       "road_rating             1.000000      0.024218     -0.054160   \n",
       "multi_linked            0.024218      1.000000     -0.001111   \n",
       "connect_code           -0.054160     -0.001111      1.000000   \n",
       "maximum_speed_limit    -0.327474     -0.020245     -0.015190   \n",
       "vehicle_restricted           NaN           NaN           NaN   \n",
       "weight_restricted      -0.118630     -0.008790     -0.020491   \n",
       "height_restricted            NaN           NaN           NaN   \n",
       "road_type              -0.125618      0.042977     -0.025846   \n",
       "start_latitude         -0.204793     -0.014906      0.036623   \n",
       "start_longitude         0.007401      0.026895     -0.045695   \n",
       "end_latitude           -0.204843     -0.014907      0.037163   \n",
       "end_longitude           0.007386      0.026896     -0.044853   \n",
       "target                 -0.261693     -0.008408      0.048348   \n",
       "\n",
       "                     maximum_speed_limit  vehicle_restricted  \\\n",
       "base_date                      -0.018713                 NaN   \n",
       "base_hour                      -0.036756                 NaN   \n",
       "road_in_use                    -0.003815                 NaN   \n",
       "lane_count                      0.384002                 NaN   \n",
       "road_rating                    -0.327474                 NaN   \n",
       "multi_linked                   -0.020245                 NaN   \n",
       "connect_code                   -0.015190                 NaN   \n",
       "maximum_speed_limit             1.000000                 NaN   \n",
       "vehicle_restricted                   NaN                 NaN   \n",
       "weight_restricted               0.085080                 NaN   \n",
       "height_restricted                    NaN                 NaN   \n",
       "road_type                       0.059511                 NaN   \n",
       "start_latitude                  0.253147                 NaN   \n",
       "start_longitude                -0.033018                 NaN   \n",
       "end_latitude                    0.252958                 NaN   \n",
       "end_longitude                  -0.032907                 NaN   \n",
       "target                          0.425715                 NaN   \n",
       "\n",
       "                     weight_restricted  height_restricted  road_type  \\\n",
       "base_date                    -0.011030                NaN  -0.004599   \n",
       "base_hour                    -0.003231                NaN  -0.007880   \n",
       "road_in_use                  -0.014873                NaN  -0.018760   \n",
       "lane_count                   -0.177224                NaN  -0.050715   \n",
       "road_rating                  -0.118630                NaN  -0.125618   \n",
       "multi_linked                 -0.008790                NaN   0.042977   \n",
       "connect_code                 -0.020491                NaN  -0.025846   \n",
       "maximum_speed_limit           0.085080                NaN   0.059511   \n",
       "vehicle_restricted                 NaN                NaN        NaN   \n",
       "weight_restricted             1.000000                NaN   0.792803   \n",
       "height_restricted                  NaN                NaN        NaN   \n",
       "road_type                     0.792803                NaN   1.000000   \n",
       "start_latitude               -0.128291                NaN  -0.043420   \n",
       "start_longitude               0.034926                NaN   0.033684   \n",
       "end_latitude                 -0.128305                NaN  -0.043430   \n",
       "end_longitude                 0.034915                NaN   0.033664   \n",
       "target                        0.294092                NaN   0.200840   \n",
       "\n",
       "                     start_latitude  start_longitude  end_latitude  \\\n",
       "base_date                 -0.016818        -0.004954     -0.016786   \n",
       "base_hour                 -0.021599        -0.011478     -0.021597   \n",
       "road_in_use               -0.027831         0.018197     -0.028571   \n",
       "lane_count                 0.182674        -0.094806      0.182330   \n",
       "road_rating               -0.204793         0.007401     -0.204843   \n",
       "multi_linked              -0.014906         0.026895     -0.014907   \n",
       "connect_code               0.036623        -0.045695      0.037163   \n",
       "maximum_speed_limit        0.253147        -0.033018      0.252958   \n",
       "vehicle_restricted              NaN              NaN           NaN   \n",
       "weight_restricted         -0.128291         0.034926     -0.128305   \n",
       "height_restricted               NaN              NaN           NaN   \n",
       "road_type                 -0.043420         0.033684     -0.043430   \n",
       "start_latitude             1.000000         0.127042      0.999106   \n",
       "start_longitude            0.127042         1.000000      0.126900   \n",
       "end_latitude               0.999106         0.126900      1.000000   \n",
       "end_longitude              0.127005         0.999219      0.127098   \n",
       "target                     0.036280        -0.001168      0.036139   \n",
       "\n",
       "                     end_longitude    target  \n",
       "base_date                -0.004972 -0.033997  \n",
       "base_hour                -0.011489 -0.159407  \n",
       "road_in_use               0.018275  0.026095  \n",
       "lane_count               -0.094732 -0.144256  \n",
       "road_rating               0.007386 -0.261693  \n",
       "multi_linked              0.026896 -0.008408  \n",
       "connect_code             -0.044853  0.048348  \n",
       "maximum_speed_limit      -0.032907  0.425715  \n",
       "vehicle_restricted             NaN       NaN  \n",
       "weight_restricted         0.034915  0.294092  \n",
       "height_restricted              NaN       NaN  \n",
       "road_type                 0.033664  0.200840  \n",
       "start_latitude            0.127005  0.036280  \n",
       "start_longitude           0.999219 -0.001168  \n",
       "end_latitude              0.127098  0.036139  \n",
       "end_longitude             1.000000 -0.001000  \n",
       "target                   -0.001000  1.000000  "
      ]
     },
     "execution_count": 17,
     "metadata": {},
     "output_type": "execute_result"
    }
   ],
   "source": [
    "train.corr()"
   ]
  },
  {
   "cell_type": "markdown",
   "metadata": {
    "id": "juhSluUBAef4"
   },
   "source": [
    "### "
   ]
  },
  {
   "cell_type": "markdown",
   "metadata": {
    "id": "zNsqQ4w47Xay"
   },
   "source": [
    "### 2. 전체 상관계수"
   ]
  },
  {
   "cell_type": "code",
   "execution_count": 18,
   "metadata": {
    "colab": {
     "base_uri": "https://localhost:8080/",
     "height": 716
    },
    "executionInfo": {
     "elapsed": 3156,
     "status": "ok",
     "timestamp": 1666772931325,
     "user": {
      "displayName": "김태종",
      "userId": "09259876720802222860"
     },
     "user_tz": -540
    },
    "id": "KiC7R0DTIkgC",
    "outputId": "e02d6ec2-4cac-42a5-bee4-ee1e22267efd"
   },
   "outputs": [
    {
     "name": "stderr",
     "output_type": "stream",
     "text": [
      "/opt/conda/lib/python3.9/site-packages/matplotlib/backends/backend_agg.py:240: RuntimeWarning: Glyph 8722 missing from current font.\n",
      "  font.set_text(s, 0.0, flags=flags)\n",
      "/opt/conda/lib/python3.9/site-packages/matplotlib/backends/backend_agg.py:203: RuntimeWarning: Glyph 8722 missing from current font.\n",
      "  font.set_text(s, 0, flags=flags)\n"
     ]
    },
    {
     "data": {
      "image/png": "[encoded data removed]",
      "text/plain": [
       "<Figure size 1152x720 with 2 Axes>"
      ]
     },
     "metadata": {
      "needs_background": "light"
     },
     "output_type": "display_data"
    }
   ],
   "source": [
    "plt.figure(figsize = (16,10))\n",
    "sns.heatmap(train.corr())\n",
    "plt.show()"
   ]
  },
  {
   "cell_type": "markdown",
   "metadata": {
    "id": "kApa7QqWC687"
   },
   "source": [
    "__Target과 상관관계가 높은 피처__\n",
    "1. road_rating : 도로등급\n",
    "1. maximum_speed_limit : 최고 제한속도\n",
    "1. weight_restricted : 통과제한차량\n",
    "1. road_type : 도로유형"
   ]
  },
  {
   "cell_type": "code",
   "execution_count": 19,
   "metadata": {
    "colab": {
     "base_uri": "https://localhost:8080/"
    },
    "executionInfo": {
     "elapsed": 16,
     "status": "ok",
     "timestamp": 1666772931325,
     "user": {
      "displayName": "김태종",
      "userId": "09259876720802222860"
     },
     "user_tz": -540
    },
    "id": "MBhF222WD11o",
    "outputId": "070027b3-d831-426c-c4ff-bc42d8937322"
   },
   "outputs": [
    {
     "data": {
      "text/plain": [
       "array([32400.,     0., 43200., 50000.])"
      ]
     },
     "execution_count": 19,
     "metadata": {},
     "output_type": "execute_result"
    }
   ],
   "source": [
    "train[\"weight_restricted\"].unique()"
   ]
  },
  {
   "cell_type": "markdown",
   "metadata": {
    "id": "czJsov9s7Ud8"
   },
   "source": [
    "### 2. 날짜와 평균속도의 상관관계"
   ]
  },
  {
   "cell_type": "markdown",
   "metadata": {
    "id": "alb2wBc2Fh8D"
   },
   "source": [
    "__datetime 변환__"
   ]
  },
  {
   "cell_type": "code",
   "execution_count": 20,
   "metadata": {
    "colab": {
     "base_uri": "https://localhost:8080/"
    },
    "executionInfo": {
     "elapsed": 12,
     "status": "ok",
     "timestamp": 1666772931326,
     "user": {
      "displayName": "김태종",
      "userId": "09259876720802222860"
     },
     "user_tz": -540
    },
    "id": "NdjBvShCFyQQ",
    "outputId": "5c96af10-c33f-477a-f43b-e9bd4c1063f7"
   },
   "outputs": [
    {
     "data": {
      "text/plain": [
       "0          20220623\n",
       "1          20220728\n",
       "2          20211010\n",
       "3          20220311\n",
       "4          20211005\n",
       "             ...   \n",
       "4701212    20211104\n",
       "4701213    20220331\n",
       "4701214    20220613\n",
       "4701215    20211020\n",
       "4701216    20211019\n",
       "Name: base_date, Length: 4701217, dtype: int64"
      ]
     },
     "execution_count": 20,
     "metadata": {},
     "output_type": "execute_result"
    }
   ],
   "source": [
    "# int 타입\n",
    "train[\"base_date\"]"
   ]
  },
  {
   "cell_type": "code",
   "execution_count": 21,
   "metadata": {
    "executionInfo": {
     "elapsed": 2685,
     "status": "ok",
     "timestamp": 1666772934001,
     "user": {
      "displayName": "김태종",
      "userId": "09259876720802222860"
     },
     "user_tz": -540
    },
    "id": "QZvbuOuFFpsj"
   },
   "outputs": [],
   "source": [
    "# 문자열로 변환\n",
    "train[\"base_date\"] = train[\"base_date\"].astype(str)\n",
    "test[\"base_date\"] = test[\"base_date\"].astype(str)"
   ]
  },
  {
   "cell_type": "code",
   "execution_count": 22,
   "metadata": {
    "executionInfo": {
     "elapsed": 2510,
     "status": "ok",
     "timestamp": 1666772936510,
     "user": {
      "displayName": "김태종",
      "userId": "09259876720802222860"
     },
     "user_tz": -540
    },
    "id": "8QA7iLi_Ikdp"
   },
   "outputs": [],
   "source": [
    "# 날짜를 변환해서 년원일분으로 나눠주는 함수\n",
    "def split_date(df, col):\n",
    "    date = pd.to_datetime(df[col])\n",
    "    df[col] = date\n",
    "    df[\"year\"] = date.dt.year\n",
    "    df[\"month\"] = date.dt.month\n",
    "    df[\"day\"] = date.dt.day\n",
    "\n",
    "# train, test 데이터 둘 다 변환\n",
    "split_date(train, \"base_date\")\n",
    "split_date(test, \"base_date\")"
   ]
  },
  {
   "cell_type": "code",
   "execution_count": 23,
   "metadata": {
    "colab": {
     "base_uri": "https://localhost:8080/",
     "height": 424
    },
    "executionInfo": {
     "elapsed": 10,
     "status": "ok",
     "timestamp": 1666772936511,
     "user": {
      "displayName": "김태종",
      "userId": "09259876720802222860"
     },
     "user_tz": -540
    },
    "id": "mU_plpHQIkbq",
    "outputId": "05e68249-2fcd-4920-c4df-e6fb00f9a579"
   },
   "outputs": [
    {
     "data": {
      "text/html": [
       "<div>\n",
       "<style scoped>\n",
       "    .dataframe tbody tr th:only-of-type {\n",
       "        vertical-align: middle;\n",
       "    }\n",
       "\n",
       "    .dataframe tbody tr th {\n",
       "        vertical-align: top;\n",
       "    }\n",
       "\n",
       "    .dataframe thead th {\n",
       "        text-align: right;\n",
       "    }\n",
       "</style>\n",
       "<table border=\"1\" class=\"dataframe\">\n",
       "  <thead>\n",
       "    <tr style=\"text-align: right;\">\n",
       "      <th></th>\n",
       "      <th>base_date</th>\n",
       "      <th>year</th>\n",
       "      <th>month</th>\n",
       "      <th>day</th>\n",
       "    </tr>\n",
       "  </thead>\n",
       "  <tbody>\n",
       "    <tr>\n",
       "      <th>0</th>\n",
       "      <td>2022-06-23</td>\n",
       "      <td>2022</td>\n",
       "      <td>6</td>\n",
       "      <td>23</td>\n",
       "    </tr>\n",
       "    <tr>\n",
       "      <th>1</th>\n",
       "      <td>2022-07-28</td>\n",
       "      <td>2022</td>\n",
       "      <td>7</td>\n",
       "      <td>28</td>\n",
       "    </tr>\n",
       "    <tr>\n",
       "      <th>2</th>\n",
       "      <td>2021-10-10</td>\n",
       "      <td>2021</td>\n",
       "      <td>10</td>\n",
       "      <td>10</td>\n",
       "    </tr>\n",
       "    <tr>\n",
       "      <th>3</th>\n",
       "      <td>2022-03-11</td>\n",
       "      <td>2022</td>\n",
       "      <td>3</td>\n",
       "      <td>11</td>\n",
       "    </tr>\n",
       "    <tr>\n",
       "      <th>4</th>\n",
       "      <td>2021-10-05</td>\n",
       "      <td>2021</td>\n",
       "      <td>10</td>\n",
       "      <td>5</td>\n",
       "    </tr>\n",
       "    <tr>\n",
       "      <th>...</th>\n",
       "      <td>...</td>\n",
       "      <td>...</td>\n",
       "      <td>...</td>\n",
       "      <td>...</td>\n",
       "    </tr>\n",
       "    <tr>\n",
       "      <th>4701212</th>\n",
       "      <td>2021-11-04</td>\n",
       "      <td>2021</td>\n",
       "      <td>11</td>\n",
       "      <td>4</td>\n",
       "    </tr>\n",
       "    <tr>\n",
       "      <th>4701213</th>\n",
       "      <td>2022-03-31</td>\n",
       "      <td>2022</td>\n",
       "      <td>3</td>\n",
       "      <td>31</td>\n",
       "    </tr>\n",
       "    <tr>\n",
       "      <th>4701214</th>\n",
       "      <td>2022-06-13</td>\n",
       "      <td>2022</td>\n",
       "      <td>6</td>\n",
       "      <td>13</td>\n",
       "    </tr>\n",
       "    <tr>\n",
       "      <th>4701215</th>\n",
       "      <td>2021-10-20</td>\n",
       "      <td>2021</td>\n",
       "      <td>10</td>\n",
       "      <td>20</td>\n",
       "    </tr>\n",
       "    <tr>\n",
       "      <th>4701216</th>\n",
       "      <td>2021-10-19</td>\n",
       "      <td>2021</td>\n",
       "      <td>10</td>\n",
       "      <td>19</td>\n",
       "    </tr>\n",
       "  </tbody>\n",
       "</table>\n",
       "<p>4701217 rows × 4 columns</p>\n",
       "</div>"
      ],
      "text/plain": [
       "         base_date  year  month  day\n",
       "0       2022-06-23  2022      6   23\n",
       "1       2022-07-28  2022      7   28\n",
       "2       2021-10-10  2021     10   10\n",
       "3       2022-03-11  2022      3   11\n",
       "4       2021-10-05  2021     10    5\n",
       "...            ...   ...    ...  ...\n",
       "4701212 2021-11-04  2021     11    4\n",
       "4701213 2022-03-31  2022      3   31\n",
       "4701214 2022-06-13  2022      6   13\n",
       "4701215 2021-10-20  2021     10   20\n",
       "4701216 2021-10-19  2021     10   19\n",
       "\n",
       "[4701217 rows x 4 columns]"
      ]
     },
     "execution_count": 23,
     "metadata": {},
     "output_type": "execute_result"
    }
   ],
   "source": [
    "train[[\"base_date\",\"year\", \"month\", \"day\"]]"
   ]
  },
  {
   "cell_type": "code",
   "execution_count": 24,
   "metadata": {
    "colab": {
     "base_uri": "https://localhost:8080/",
     "height": 424
    },
    "executionInfo": {
     "elapsed": 9,
     "status": "ok",
     "timestamp": 1666772936511,
     "user": {
      "displayName": "김태종",
      "userId": "09259876720802222860"
     },
     "user_tz": -540
    },
    "id": "QcWYCfG-IkY-",
    "outputId": "777eb6a4-4bae-4532-9d56-8a0a6981d0de"
   },
   "outputs": [
    {
     "data": {
      "text/html": [
       "<div>\n",
       "<style scoped>\n",
       "    .dataframe tbody tr th:only-of-type {\n",
       "        vertical-align: middle;\n",
       "    }\n",
       "\n",
       "    .dataframe tbody tr th {\n",
       "        vertical-align: top;\n",
       "    }\n",
       "\n",
       "    .dataframe thead th {\n",
       "        text-align: right;\n",
       "    }\n",
       "</style>\n",
       "<table border=\"1\" class=\"dataframe\">\n",
       "  <thead>\n",
       "    <tr style=\"text-align: right;\">\n",
       "      <th></th>\n",
       "      <th>base_date</th>\n",
       "      <th>year</th>\n",
       "      <th>month</th>\n",
       "      <th>day</th>\n",
       "    </tr>\n",
       "  </thead>\n",
       "  <tbody>\n",
       "    <tr>\n",
       "      <th>0</th>\n",
       "      <td>2022-08-25</td>\n",
       "      <td>2022</td>\n",
       "      <td>8</td>\n",
       "      <td>25</td>\n",
       "    </tr>\n",
       "    <tr>\n",
       "      <th>1</th>\n",
       "      <td>2022-08-09</td>\n",
       "      <td>2022</td>\n",
       "      <td>8</td>\n",
       "      <td>9</td>\n",
       "    </tr>\n",
       "    <tr>\n",
       "      <th>2</th>\n",
       "      <td>2022-08-05</td>\n",
       "      <td>2022</td>\n",
       "      <td>8</td>\n",
       "      <td>5</td>\n",
       "    </tr>\n",
       "    <tr>\n",
       "      <th>3</th>\n",
       "      <td>2022-08-18</td>\n",
       "      <td>2022</td>\n",
       "      <td>8</td>\n",
       "      <td>18</td>\n",
       "    </tr>\n",
       "    <tr>\n",
       "      <th>4</th>\n",
       "      <td>2022-08-10</td>\n",
       "      <td>2022</td>\n",
       "      <td>8</td>\n",
       "      <td>10</td>\n",
       "    </tr>\n",
       "    <tr>\n",
       "      <th>...</th>\n",
       "      <td>...</td>\n",
       "      <td>...</td>\n",
       "      <td>...</td>\n",
       "      <td>...</td>\n",
       "    </tr>\n",
       "    <tr>\n",
       "      <th>291236</th>\n",
       "      <td>2022-08-27</td>\n",
       "      <td>2022</td>\n",
       "      <td>8</td>\n",
       "      <td>27</td>\n",
       "    </tr>\n",
       "    <tr>\n",
       "      <th>291237</th>\n",
       "      <td>2022-08-19</td>\n",
       "      <td>2022</td>\n",
       "      <td>8</td>\n",
       "      <td>19</td>\n",
       "    </tr>\n",
       "    <tr>\n",
       "      <th>291238</th>\n",
       "      <td>2022-08-05</td>\n",
       "      <td>2022</td>\n",
       "      <td>8</td>\n",
       "      <td>5</td>\n",
       "    </tr>\n",
       "    <tr>\n",
       "      <th>291239</th>\n",
       "      <td>2022-08-12</td>\n",
       "      <td>2022</td>\n",
       "      <td>8</td>\n",
       "      <td>12</td>\n",
       "    </tr>\n",
       "    <tr>\n",
       "      <th>291240</th>\n",
       "      <td>2022-08-12</td>\n",
       "      <td>2022</td>\n",
       "      <td>8</td>\n",
       "      <td>12</td>\n",
       "    </tr>\n",
       "  </tbody>\n",
       "</table>\n",
       "<p>291241 rows × 4 columns</p>\n",
       "</div>"
      ],
      "text/plain": [
       "        base_date  year  month  day\n",
       "0      2022-08-25  2022      8   25\n",
       "1      2022-08-09  2022      8    9\n",
       "2      2022-08-05  2022      8    5\n",
       "3      2022-08-18  2022      8   18\n",
       "4      2022-08-10  2022      8   10\n",
       "...           ...   ...    ...  ...\n",
       "291236 2022-08-27  2022      8   27\n",
       "291237 2022-08-19  2022      8   19\n",
       "291238 2022-08-05  2022      8    5\n",
       "291239 2022-08-12  2022      8   12\n",
       "291240 2022-08-12  2022      8   12\n",
       "\n",
       "[291241 rows x 4 columns]"
      ]
     },
     "execution_count": 24,
     "metadata": {},
     "output_type": "execute_result"
    }
   ],
   "source": [
    "test[[\"base_date\",\"year\", \"month\", \"day\"]]"
   ]
  },
  {
   "cell_type": "code",
   "execution_count": 25,
   "metadata": {
    "colab": {
     "base_uri": "https://localhost:8080/",
     "height": 297
    },
    "executionInfo": {
     "elapsed": 58946,
     "status": "ok",
     "timestamp": 1666772995448,
     "user": {
      "displayName": "김태종",
      "userId": "09259876720802222860"
     },
     "user_tz": -540
    },
    "id": "hwAaeQLQKa4J",
    "outputId": "fbddcb58-a276-45de-94aa-7815a84da6b0"
   },
   "outputs": [
    {
     "data": {
      "text/plain": [
       "<AxesSubplot:xlabel='month', ylabel='target'>"
      ]
     },
     "execution_count": 25,
     "metadata": {},
     "output_type": "execute_result"
    },
    {
     "data": {
      "image/png": "[encoded data removed]",
      "text/plain": [
       "<Figure size 432x288 with 1 Axes>"
      ]
     },
     "metadata": {
      "needs_background": "light"
     },
     "output_type": "display_data"
    }
   ],
   "source": [
    "# 월별 평균 속도 시각화\n",
    "sns.barplot(data = train, x = \"month\", y = \"target\")"
   ]
  },
  {
   "cell_type": "markdown",
   "metadata": {
    "id": "HyJVtI1GLH4G"
   },
   "source": [
    "- 7월은 왜 저러지?\n",
    "- 7월과 7월이 아닌 달로 나눠서 1,0으로 나눠볼 수도 있을 것 같다."
   ]
  },
  {
   "cell_type": "code",
   "execution_count": 26,
   "metadata": {
    "colab": {
     "base_uri": "https://localhost:8080/",
     "height": 297
    },
    "executionInfo": {
     "elapsed": 84991,
     "status": "ok",
     "timestamp": 1666773080435,
     "user": {
      "displayName": "김태종",
      "userId": "09259876720802222860"
     },
     "user_tz": -540
    },
    "id": "8BuhKNUoKay-",
    "outputId": "050ce624-9f57-492b-96a1-d651b14870d0"
   },
   "outputs": [
    {
     "data": {
      "text/plain": [
       "<AxesSubplot:xlabel='year', ylabel='target'>"
      ]
     },
     "execution_count": 26,
     "metadata": {},
     "output_type": "execute_result"
    },
    {
     "data": {
      "image/png": "[encoded data removed]",
      "text/plain": [
       "<Figure size 432x288 with 1 Axes>"
      ]
     },
     "metadata": {
      "needs_background": "light"
     },
     "output_type": "display_data"
    }
   ],
   "source": [
    "# 연도별 평균속도 변화\n",
    "# 거의 무의미한 결과라서 무시\n",
    "sns.barplot(data = train, x = \"year\", y = \"target\")"
   ]
  },
  {
   "cell_type": "code",
   "execution_count": 27,
   "metadata": {
    "colab": {
     "base_uri": "https://localhost:8080/",
     "height": 298
    },
    "executionInfo": {
     "elapsed": 9,
     "status": "ok",
     "timestamp": 1666773080435,
     "user": {
      "displayName": "김태종",
      "userId": "09259876720802222860"
     },
     "user_tz": -540
    },
    "id": "yegQxbyyMTPT",
    "outputId": "82e94f94-1345-4934-ba7e-da0b5e4626e0"
   },
   "outputs": [
    {
     "data": {
      "text/plain": [
       "<AxesSubplot:xlabel='base_date', ylabel='target'>"
      ]
     },
     "execution_count": 27,
     "metadata": {},
     "output_type": "execute_result"
    },
    {
     "data": {
      "image/png": "[encoded data removed]",
      "text/plain": [
       "<Figure size 432x288 with 1 Axes>"
      ]
     },
     "metadata": {
      "needs_background": "light"
     },
     "output_type": "display_data"
    }
   ],
   "source": [
    "# 일별 평균속도\n",
    "\n",
    "a = train.groupby([\"base_date\"])[[\"target\"]].mean()\n",
    "sns.lineplot(data = a, x = a.index, y = \"target\")"
   ]
  },
  {
   "cell_type": "code",
   "execution_count": 28,
   "metadata": {
    "colab": {
     "base_uri": "https://localhost:8080/",
     "height": 297
    },
    "executionInfo": {
     "elapsed": 568,
     "status": "ok",
     "timestamp": 1666773080999,
     "user": {
      "displayName": "김태종",
      "userId": "09259876720802222860"
     },
     "user_tz": -540
    },
    "id": "75KyrxPirTWK",
    "outputId": "79fcb98a-2694-4274-ba3d-184f6ff6748e"
   },
   "outputs": [
    {
     "data": {
      "text/plain": [
       "<AxesSubplot:xlabel='day', ylabel='target'>"
      ]
     },
     "execution_count": 28,
     "metadata": {},
     "output_type": "execute_result"
    },
    {
     "data": {
      "image/png": "[encoded data removed]",
      "text/plain": [
       "<Figure size 432x288 with 1 Axes>"
      ]
     },
     "metadata": {
      "needs_background": "light"
     },
     "output_type": "display_data"
    }
   ],
   "source": [
    "a = train[train[\"month\"] == 7].groupby([\"day\"])[[\"target\"]].mean()\n",
    "sns.lineplot(data = a, x = a.index, y = \"target\")"
   ]
  },
  {
   "cell_type": "code",
   "execution_count": 29,
   "metadata": {
    "colab": {
     "base_uri": "https://localhost:8080/",
     "height": 606
    },
    "executionInfo": {
     "elapsed": 2388,
     "status": "ok",
     "timestamp": 1666773083382,
     "user": {
      "displayName": "김태종",
      "userId": "09259876720802222860"
     },
     "user_tz": -540
    },
    "id": "KPqVrJxHtw2T",
    "outputId": "e49717f3-f85a-4c0f-f42b-adc5c2f114bb"
   },
   "outputs": [
    {
     "data": {
      "image/png": "[encoded data removed]",
      "text/plain": [
       "<Figure size 1152x720 with 1 Axes>"
      ]
     },
     "metadata": {
      "needs_background": "light"
     },
     "output_type": "display_data"
    }
   ],
   "source": [
    "# 월별 일별 평균속도\n",
    "plt.figure(figsize=(16,10))\n",
    "for i in range(1,13):\n",
    "    a = train[train[\"month\"] == i].groupby([\"day\"])[[\"target\"]].mean()\n",
    "    sns.lineplot(data = a, x = a.index, y = \"target\", label = i)\n",
    "\n",
    "plt.legend()\n",
    "plt.show()"
   ]
  },
  {
   "cell_type": "code",
   "execution_count": 30,
   "metadata": {
    "colab": {
     "base_uri": "https://localhost:8080/",
     "height": 642
    },
    "executionInfo": {
     "elapsed": 636,
     "status": "ok",
     "timestamp": 1666773084014,
     "user": {
      "displayName": "김태종",
      "userId": "09259876720802222860"
     },
     "user_tz": -540
    },
    "id": "9HutmuvqrhDn",
    "outputId": "4cff94d4-c64f-482b-8923-5b283a3d060d"
   },
   "outputs": [
    {
     "data": {
      "image/png": "[encoded data removed]",
      "text/plain": [
       "<Figure size 1152x720 with 2 Axes>"
      ]
     },
     "metadata": {
      "needs_background": "light"
     },
     "output_type": "display_data"
    }
   ],
   "source": [
    "plt.figure(figsize=(16,10))\n",
    "a = train[train[\"year\"]==2022].groupby([\"month\", \"day\"])[[\"target\"]].mean().unstack()\n",
    "sns.heatmap(a)\n",
    "plt.show()"
   ]
  },
  {
   "cell_type": "markdown",
   "metadata": {
    "id": "5SLr7zO8KZ8v"
   },
   "source": [
    "__요일과 평균속도의 관계__"
   ]
  },
  {
   "cell_type": "code",
   "execution_count": 31,
   "metadata": {
    "colab": {
     "base_uri": "https://localhost:8080/",
     "height": 300
    },
    "executionInfo": {
     "elapsed": 6,
     "status": "ok",
     "timestamp": 1666773084015,
     "user": {
      "displayName": "김태종",
      "userId": "09259876720802222860"
     },
     "user_tz": -540
    },
    "id": "6hfusYTnIkWV",
    "outputId": "b0cb4288-0d2a-438d-df15-edbeaed53b8b"
   },
   "outputs": [
    {
     "data": {
      "text/html": [
       "<div>\n",
       "<style scoped>\n",
       "    .dataframe tbody tr th:only-of-type {\n",
       "        vertical-align: middle;\n",
       "    }\n",
       "\n",
       "    .dataframe tbody tr th {\n",
       "        vertical-align: top;\n",
       "    }\n",
       "\n",
       "    .dataframe thead th {\n",
       "        text-align: right;\n",
       "    }\n",
       "</style>\n",
       "<table border=\"1\" class=\"dataframe\">\n",
       "  <thead>\n",
       "    <tr style=\"text-align: right;\">\n",
       "      <th></th>\n",
       "      <th>target</th>\n",
       "    </tr>\n",
       "    <tr>\n",
       "      <th>day_of_week</th>\n",
       "      <th></th>\n",
       "    </tr>\n",
       "  </thead>\n",
       "  <tbody>\n",
       "    <tr>\n",
       "      <th>금</th>\n",
       "      <td>42.450328</td>\n",
       "    </tr>\n",
       "    <tr>\n",
       "      <th>목</th>\n",
       "      <td>42.768345</td>\n",
       "    </tr>\n",
       "    <tr>\n",
       "      <th>수</th>\n",
       "      <td>42.770372</td>\n",
       "    </tr>\n",
       "    <tr>\n",
       "      <th>월</th>\n",
       "      <td>42.761365</td>\n",
       "    </tr>\n",
       "    <tr>\n",
       "      <th>일</th>\n",
       "      <td>43.179300</td>\n",
       "    </tr>\n",
       "    <tr>\n",
       "      <th>토</th>\n",
       "      <td>42.894117</td>\n",
       "    </tr>\n",
       "    <tr>\n",
       "      <th>화</th>\n",
       "      <td>42.699198</td>\n",
       "    </tr>\n",
       "  </tbody>\n",
       "</table>\n",
       "</div>"
      ],
      "text/plain": [
       "                target\n",
       "day_of_week           \n",
       "금            42.450328\n",
       "목            42.768345\n",
       "수            42.770372\n",
       "월            42.761365\n",
       "일            43.179300\n",
       "토            42.894117\n",
       "화            42.699198"
      ]
     },
     "execution_count": 31,
     "metadata": {},
     "output_type": "execute_result"
    }
   ],
   "source": [
    "# 요일과 평균속도 \n",
    "# seaborn에서 한글이 깨져서 데이터 프레임 대체 \n",
    "# 7개 정도 비교하는데는 문제 없어보임\n",
    "train.groupby([\"day_of_week\"])[[\"target\"]].mean()"
   ]
  },
  {
   "cell_type": "code",
   "execution_count": 32,
   "metadata": {
    "executionInfo": {
     "elapsed": 17205,
     "status": "ok",
     "timestamp": 1666773101215,
     "user": {
      "displayName": "김태종",
      "userId": "09259876720802222860"
     },
     "user_tz": -540
    },
    "id": "tCyTT8KBSbij"
   },
   "outputs": [],
   "source": [
    "from datetime import datetime, date\n",
    "\n",
    "# 요일을 숫자로 변환\n",
    "def weekday(d):\n",
    "    return d.weekday()\n",
    "\n",
    "# train test 둘다 요일 숫자로 변환\n",
    "train[\"day_of_week\"] = train[\"base_date\"].apply(weekday)\n",
    "test[\"day_of_week\"] = test[\"base_date\"].apply(weekday)"
   ]
  },
  {
   "cell_type": "code",
   "execution_count": 33,
   "metadata": {
    "colab": {
     "base_uri": "https://localhost:8080/",
     "height": 486
    },
    "executionInfo": {
     "elapsed": 716,
     "status": "ok",
     "timestamp": 1666773101922,
     "user": {
      "displayName": "김태종",
      "userId": "09259876720802222860"
     },
     "user_tz": -540
    },
    "id": "m8Qn4dUlPL4F",
    "outputId": "2236317f-4a7d-464d-fcff-240f3e73dfac"
   },
   "outputs": [
    {
     "data": {
      "text/html": [
       "<div>\n",
       "<style scoped>\n",
       "    .dataframe tbody tr th:only-of-type {\n",
       "        vertical-align: middle;\n",
       "    }\n",
       "\n",
       "    .dataframe tbody tr th {\n",
       "        vertical-align: top;\n",
       "    }\n",
       "\n",
       "    .dataframe thead tr th {\n",
       "        text-align: left;\n",
       "    }\n",
       "\n",
       "    .dataframe thead tr:last-of-type th {\n",
       "        text-align: right;\n",
       "    }\n",
       "</style>\n",
       "<table border=\"1\" class=\"dataframe\">\n",
       "  <thead>\n",
       "    <tr>\n",
       "      <th></th>\n",
       "      <th colspan=\"7\" halign=\"left\">target</th>\n",
       "    </tr>\n",
       "    <tr>\n",
       "      <th>day_of_week</th>\n",
       "      <th>0</th>\n",
       "      <th>1</th>\n",
       "      <th>2</th>\n",
       "      <th>3</th>\n",
       "      <th>4</th>\n",
       "      <th>5</th>\n",
       "      <th>6</th>\n",
       "    </tr>\n",
       "    <tr>\n",
       "      <th>end_node_name</th>\n",
       "      <th></th>\n",
       "      <th></th>\n",
       "      <th></th>\n",
       "      <th></th>\n",
       "      <th></th>\n",
       "      <th></th>\n",
       "      <th></th>\n",
       "    </tr>\n",
       "  </thead>\n",
       "  <tbody>\n",
       "    <tr>\n",
       "      <th>BYC</th>\n",
       "      <td>24.907368</td>\n",
       "      <td>24.868003</td>\n",
       "      <td>25.653425</td>\n",
       "      <td>24.567850</td>\n",
       "      <td>24.561404</td>\n",
       "      <td>24.575323</td>\n",
       "      <td>25.978022</td>\n",
       "    </tr>\n",
       "    <tr>\n",
       "      <th>CU서귀호근로점</th>\n",
       "      <td>32.295455</td>\n",
       "      <td>31.016393</td>\n",
       "      <td>32.186047</td>\n",
       "      <td>31.849624</td>\n",
       "      <td>31.303571</td>\n",
       "      <td>32.755102</td>\n",
       "      <td>34.000000</td>\n",
       "    </tr>\n",
       "    <tr>\n",
       "      <th>KAL사거리</th>\n",
       "      <td>26.355422</td>\n",
       "      <td>26.151551</td>\n",
       "      <td>26.366667</td>\n",
       "      <td>26.039766</td>\n",
       "      <td>25.646226</td>\n",
       "      <td>26.934602</td>\n",
       "      <td>27.311765</td>\n",
       "    </tr>\n",
       "    <tr>\n",
       "      <th>가는질</th>\n",
       "      <td>52.749258</td>\n",
       "      <td>52.684466</td>\n",
       "      <td>52.489146</td>\n",
       "      <td>52.523148</td>\n",
       "      <td>52.767507</td>\n",
       "      <td>53.148499</td>\n",
       "      <td>53.395570</td>\n",
       "    </tr>\n",
       "    <tr>\n",
       "      <th>가동</th>\n",
       "      <td>28.602683</td>\n",
       "      <td>28.803951</td>\n",
       "      <td>28.507952</td>\n",
       "      <td>28.573469</td>\n",
       "      <td>29.074126</td>\n",
       "      <td>28.294666</td>\n",
       "      <td>28.496518</td>\n",
       "    </tr>\n",
       "    <tr>\n",
       "      <th>...</th>\n",
       "      <td>...</td>\n",
       "      <td>...</td>\n",
       "      <td>...</td>\n",
       "      <td>...</td>\n",
       "      <td>...</td>\n",
       "      <td>...</td>\n",
       "      <td>...</td>\n",
       "    </tr>\n",
       "    <tr>\n",
       "      <th>회수사거리</th>\n",
       "      <td>39.660448</td>\n",
       "      <td>39.252475</td>\n",
       "      <td>39.122222</td>\n",
       "      <td>39.003704</td>\n",
       "      <td>39.231325</td>\n",
       "      <td>39.221542</td>\n",
       "      <td>39.545455</td>\n",
       "    </tr>\n",
       "    <tr>\n",
       "      <th>회수입구</th>\n",
       "      <td>41.622381</td>\n",
       "      <td>41.514038</td>\n",
       "      <td>41.633278</td>\n",
       "      <td>41.542010</td>\n",
       "      <td>41.342306</td>\n",
       "      <td>41.510595</td>\n",
       "      <td>41.685656</td>\n",
       "    </tr>\n",
       "    <tr>\n",
       "      <th>회천교차로</th>\n",
       "      <td>59.749415</td>\n",
       "      <td>59.510588</td>\n",
       "      <td>59.593750</td>\n",
       "      <td>60.011696</td>\n",
       "      <td>59.566210</td>\n",
       "      <td>59.547756</td>\n",
       "      <td>59.422503</td>\n",
       "    </tr>\n",
       "    <tr>\n",
       "      <th>효례교</th>\n",
       "      <td>48.746163</td>\n",
       "      <td>48.952719</td>\n",
       "      <td>48.819235</td>\n",
       "      <td>49.168816</td>\n",
       "      <td>48.312357</td>\n",
       "      <td>48.800000</td>\n",
       "      <td>48.898601</td>\n",
       "    </tr>\n",
       "    <tr>\n",
       "      <th>흘천5교</th>\n",
       "      <td>25.541814</td>\n",
       "      <td>25.260664</td>\n",
       "      <td>25.236659</td>\n",
       "      <td>25.704094</td>\n",
       "      <td>25.287671</td>\n",
       "      <td>25.277970</td>\n",
       "      <td>26.277011</td>\n",
       "    </tr>\n",
       "  </tbody>\n",
       "</table>\n",
       "<p>487 rows × 7 columns</p>\n",
       "</div>"
      ],
      "text/plain": [
       "                  target                                              \\\n",
       "day_of_week            0          1          2          3          4   \n",
       "end_node_name                                                          \n",
       "BYC            24.907368  24.868003  25.653425  24.567850  24.561404   \n",
       "CU서귀호근로점       32.295455  31.016393  32.186047  31.849624  31.303571   \n",
       "KAL사거리         26.355422  26.151551  26.366667  26.039766  25.646226   \n",
       "가는질            52.749258  52.684466  52.489146  52.523148  52.767507   \n",
       "가동             28.602683  28.803951  28.507952  28.573469  29.074126   \n",
       "...                  ...        ...        ...        ...        ...   \n",
       "회수사거리          39.660448  39.252475  39.122222  39.003704  39.231325   \n",
       "회수입구           41.622381  41.514038  41.633278  41.542010  41.342306   \n",
       "회천교차로          59.749415  59.510588  59.593750  60.011696  59.566210   \n",
       "효례교            48.746163  48.952719  48.819235  49.168816  48.312357   \n",
       "흘천5교           25.541814  25.260664  25.236659  25.704094  25.287671   \n",
       "\n",
       "                                     \n",
       "day_of_week            5          6  \n",
       "end_node_name                        \n",
       "BYC            24.575323  25.978022  \n",
       "CU서귀호근로점       32.755102  34.000000  \n",
       "KAL사거리         26.934602  27.311765  \n",
       "가는질            53.148499  53.395570  \n",
       "가동             28.294666  28.496518  \n",
       "...                  ...        ...  \n",
       "회수사거리          39.221542  39.545455  \n",
       "회수입구           41.510595  41.685656  \n",
       "회천교차로          59.547756  59.422503  \n",
       "효례교            48.800000  48.898601  \n",
       "흘천5교           25.277970  26.277011  \n",
       "\n",
       "[487 rows x 7 columns]"
      ]
     },
     "execution_count": 33,
     "metadata": {},
     "output_type": "execute_result"
    }
   ],
   "source": [
    "# 요일과 도착지점의 상관관계가 있을 수 있지 않을까?\n",
    "# 사실 히트맵을 그리려고 했는데 한글설정을 실패해서 남겨놓습니다....\n",
    "temp = train.groupby([\"end_node_name\",\"day_of_week\"])[[\"target\"]].mean().unstack()\n",
    "temp"
   ]
  },
  {
   "cell_type": "code",
   "execution_count": 34,
   "metadata": {
    "executionInfo": {
     "elapsed": 17184,
     "status": "ok",
     "timestamp": 1666773119103,
     "user": {
      "displayName": "김태종",
      "userId": "09259876720802222860"
     },
     "user_tz": -540
    },
    "id": "DRSUSvO-Owzp"
   },
   "outputs": [],
   "source": [
    "# 날짜를 받아서 주말 평일을 판단하는 함수\n",
    "# 평일이면 0 주말이면 1 반환\n",
    "# 금,토,일을 주말로 본다\n",
    "def is_weekend(d):\n",
    "    if d.weekday() > 4:\n",
    "        wd = 0\n",
    "    else:\n",
    "        wd = 1\n",
    "    return wd\n",
    "\n",
    "# 사실 요일별 차이가 없어서 무의미해보임\n",
    "train[\"is_weekend\"] = train[\"base_date\"].apply(is_weekend)\n",
    "test[\"is_weekend\"] = test[\"base_date\"].apply(is_weekend)"
   ]
  },
  {
   "cell_type": "code",
   "execution_count": 35,
   "metadata": {
    "colab": {
     "base_uri": "https://localhost:8080/",
     "height": 298
    },
    "executionInfo": {
     "elapsed": 737,
     "status": "ok",
     "timestamp": 1666773119828,
     "user": {
      "displayName": "김태종",
      "userId": "09259876720802222860"
     },
     "user_tz": -540
    },
    "id": "o45LIaQ5Owxf",
    "outputId": "9327d120-f27b-47aa-a037-b6d01ff402b3"
   },
   "outputs": [
    {
     "data": {
      "text/plain": [
       "<AxesSubplot:xlabel='is_weekend', ylabel='target'>"
      ]
     },
     "execution_count": 35,
     "metadata": {},
     "output_type": "execute_result"
    },
    {
     "data": {
      "image/png": "[encoded data removed]",
      "text/plain": [
       "<Figure size 432x288 with 1 Axes>"
      ]
     },
     "metadata": {
      "needs_background": "light"
     },
     "output_type": "display_data"
    }
   ],
   "source": [
    "# 주말과 평일 시각화\n",
    "a = train.groupby([\"is_weekend\"])[[\"target\"]].mean()\n",
    "sns.barplot(data = a, x = a.index, y = \"target\")"
   ]
  },
  {
   "cell_type": "code",
   "execution_count": 36,
   "metadata": {
    "colab": {
     "base_uri": "https://localhost:8080/",
     "height": 335
    },
    "executionInfo": {
     "elapsed": 12,
     "status": "ok",
     "timestamp": 1666773119829,
     "user": {
      "displayName": "김태종",
      "userId": "09259876720802222860"
     },
     "user_tz": -540
    },
    "id": "xTI7EDVGVluq",
    "outputId": "4f1024e5-2162-4ed2-8d15-70f9d1f866ef"
   },
   "outputs": [
    {
     "data": {
      "text/plain": [
       "<AxesSubplot:xlabel='None-base_hour', ylabel='is_weekend'>"
      ]
     },
     "execution_count": 36,
     "metadata": {},
     "output_type": "execute_result"
    },
    {
     "data": {
      "image/png": "[encoded data removed]",
      "text/plain": [
       "<Figure size 432x288 with 2 Axes>"
      ]
     },
     "metadata": {
      "needs_background": "light"
     },
     "output_type": "display_data"
    }
   ],
   "source": [
    "# 주말과 평일 시각화\n",
    "a = train.groupby([\"is_weekend\",\"base_hour\"])[[\"target\"]].mean()\n",
    "sns.heatmap(a.unstack())"
   ]
  },
  {
   "cell_type": "markdown",
   "metadata": {
    "id": "5zbV09jkV9X0"
   },
   "source": [
    "> 평일 주말과 시간은 상관이 없음"
   ]
  },
  {
   "cell_type": "markdown",
   "metadata": {
    "id": "Z0rXLSWJhk8t"
   },
   "source": [
    "__시간과 평균속도의 관계__"
   ]
  },
  {
   "cell_type": "code",
   "execution_count": 37,
   "metadata": {
    "colab": {
     "base_uri": "https://localhost:8080/",
     "height": 280
    },
    "executionInfo": {
     "elapsed": 558,
     "status": "ok",
     "timestamp": 1666773120382,
     "user": {
      "displayName": "김태종",
      "userId": "09259876720802222860"
     },
     "user_tz": -540
    },
    "id": "kGVXA0uChkyH",
    "outputId": "ccb5d825-9edd-42c2-9f74-e1f76ae78024"
   },
   "outputs": [
    {
     "data": {
      "image/png": "[encoded data removed]",
      "text/plain": [
       "<Figure size 432x288 with 1 Axes>"
      ]
     },
     "metadata": {
      "needs_background": "light"
     },
     "output_type": "display_data"
    }
   ],
   "source": [
    "# 하루 중 가장 정체 되는 시간\n",
    "# 빨간 선은 타겟의 중앙값\n",
    "# 극단값이 많이 존재하는 데이터 이므로 평규보다는 중앙값이 더 좋은 지표로 보임\n",
    "a = train.groupby([\"base_hour\"])[[\"target\"]].mean()\n",
    "sns.lineplot(data = a, x = a.index, y = \"target\")\n",
    "sns.lineplot(data = a, x = a.index, y = train[\"target\"].median())\n",
    "plt.show()"
   ]
  },
  {
   "cell_type": "code",
   "execution_count": 38,
   "metadata": {
    "colab": {
     "base_uri": "https://localhost:8080/",
     "height": 520
    },
    "executionInfo": {
     "elapsed": 5,
     "status": "ok",
     "timestamp": 1666773120382,
     "user": {
      "displayName": "김태종",
      "userId": "09259876720802222860"
     },
     "user_tz": -540
    },
    "id": "XEAWmtx0j3IX",
    "outputId": "2421733d-961b-4081-ba3b-2b7a14aa57bd"
   },
   "outputs": [
    {
     "data": {
      "text/html": [
       "<div>\n",
       "<style scoped>\n",
       "    .dataframe tbody tr th:only-of-type {\n",
       "        vertical-align: middle;\n",
       "    }\n",
       "\n",
       "    .dataframe tbody tr th {\n",
       "        vertical-align: top;\n",
       "    }\n",
       "\n",
       "    .dataframe thead th {\n",
       "        text-align: right;\n",
       "    }\n",
       "</style>\n",
       "<table border=\"1\" class=\"dataframe\">\n",
       "  <thead>\n",
       "    <tr style=\"text-align: right;\">\n",
       "      <th></th>\n",
       "      <th>target</th>\n",
       "    </tr>\n",
       "    <tr>\n",
       "      <th>base_hour</th>\n",
       "      <th></th>\n",
       "    </tr>\n",
       "  </thead>\n",
       "  <tbody>\n",
       "    <tr>\n",
       "      <th>8</th>\n",
       "      <td>41.656292</td>\n",
       "    </tr>\n",
       "    <tr>\n",
       "      <th>9</th>\n",
       "      <td>40.875939</td>\n",
       "    </tr>\n",
       "    <tr>\n",
       "      <th>10</th>\n",
       "      <td>40.222232</td>\n",
       "    </tr>\n",
       "    <tr>\n",
       "      <th>11</th>\n",
       "      <td>39.824593</td>\n",
       "    </tr>\n",
       "    <tr>\n",
       "      <th>12</th>\n",
       "      <td>39.838538</td>\n",
       "    </tr>\n",
       "    <tr>\n",
       "      <th>13</th>\n",
       "      <td>39.731471</td>\n",
       "    </tr>\n",
       "    <tr>\n",
       "      <th>14</th>\n",
       "      <td>39.561121</td>\n",
       "    </tr>\n",
       "    <tr>\n",
       "      <th>15</th>\n",
       "      <td>39.351700</td>\n",
       "    </tr>\n",
       "    <tr>\n",
       "      <th>16</th>\n",
       "      <td>39.127929</td>\n",
       "    </tr>\n",
       "    <tr>\n",
       "      <th>17</th>\n",
       "      <td>38.473363</td>\n",
       "    </tr>\n",
       "    <tr>\n",
       "      <th>18</th>\n",
       "      <td>38.241258</td>\n",
       "    </tr>\n",
       "    <tr>\n",
       "      <th>19</th>\n",
       "      <td>40.104112</td>\n",
       "    </tr>\n",
       "    <tr>\n",
       "      <th>20</th>\n",
       "      <td>41.113806</td>\n",
       "    </tr>\n",
       "    <tr>\n",
       "      <th>21</th>\n",
       "      <td>42.173431</td>\n",
       "    </tr>\n",
       "  </tbody>\n",
       "</table>\n",
       "</div>"
      ],
      "text/plain": [
       "              target\n",
       "base_hour           \n",
       "8          41.656292\n",
       "9          40.875939\n",
       "10         40.222232\n",
       "11         39.824593\n",
       "12         39.838538\n",
       "13         39.731471\n",
       "14         39.561121\n",
       "15         39.351700\n",
       "16         39.127929\n",
       "17         38.473363\n",
       "18         38.241258\n",
       "19         40.104112\n",
       "20         41.113806\n",
       "21         42.173431"
      ]
     },
     "execution_count": 38,
     "metadata": {},
     "output_type": "execute_result"
    }
   ],
   "source": [
    "# 평균 속도보다 느리게 달리는 시간대 \n",
    "a[a[\"target\"]<=train[\"target\"].median()]"
   ]
  },
  {
   "cell_type": "code",
   "execution_count": 39,
   "metadata": {
    "colab": {
     "base_uri": "https://localhost:8080/",
     "height": 606
    },
    "executionInfo": {
     "elapsed": 541,
     "status": "ok",
     "timestamp": 1666773120918,
     "user": {
      "displayName": "김태종",
      "userId": "09259876720802222860"
     },
     "user_tz": -540
    },
    "id": "l71lP8ozhkt8",
    "outputId": "8ecbd87a-dd4b-485a-9e87-103ef531e88b"
   },
   "outputs": [
    {
     "data": {
      "image/png": "[encoded data removed]",
      "text/plain": [
       "<Figure size 1152x720 with 2 Axes>"
      ]
     },
     "metadata": {
      "needs_background": "light"
     },
     "output_type": "display_data"
    }
   ],
   "source": [
    "# 평균 속도에 대한 요일과 시간의 관계\n",
    "a = train.groupby([\"base_hour\", \"day_of_week\"])[[\"target\"]].mean()\n",
    "a = a.unstack()\n",
    "\n",
    "plt.figure(figsize=(16,10))\n",
    "sns.heatmap(a)\n",
    "plt.show()"
   ]
  },
  {
   "cell_type": "markdown",
   "metadata": {
    "id": "aRlnnuDSjB5j"
   },
   "source": [
    "- 전체 평균을 기준으로 봤을때 8시 부터 21시까지는 모두 정체 시간대로 볼 수 있다. \n",
    "- 하지만 이는 새벽시간대가 특히 교통량이 적어서 평균 속도가 왜곡 된것으로 볼 수 있다. \n",
    "- 그러므로 8~21시 구간의 평균을 기준으로 잡고 다시 확인해보자"
   ]
  },
  {
   "cell_type": "code",
   "execution_count": 40,
   "metadata": {
    "colab": {
     "base_uri": "https://localhost:8080/",
     "height": 280
    },
    "executionInfo": {
     "elapsed": 548,
     "status": "ok",
     "timestamp": 1666773121462,
     "user": {
      "displayName": "김태종",
      "userId": "09259876720802222860"
     },
     "user_tz": -540
    },
    "id": "XBZQZe0khkq_",
    "outputId": "c42a2d01-e50a-42df-bc3e-8314305d8242"
   },
   "outputs": [
    {
     "data": {
      "image/png": "[encoded data removed]",
      "text/plain": [
       "<Figure size 432x288 with 1 Axes>"
      ]
     },
     "metadata": {
      "needs_background": "light"
     },
     "output_type": "display_data"
    }
   ],
   "source": [
    "# 빨간 선은 모든 시간대의 평균속도의 중앙값\n",
    "# 초록 선은 주요 주행시간 기준 평균 속도 중앙값\n",
    "a = train.groupby([\"base_hour\"])[[\"target\"]].mean()\n",
    "sns.lineplot(data = a, x = a.index, y = \"target\")\n",
    "sns.lineplot(data = a, x = a.index, y = train[\"target\"].median())\n",
    "sns.lineplot(data = a, x = a.index, y = train[(train[\"base_hour\"]>=8) & (train[\"base_hour\"]<=21)][\"target\"].median())\n",
    "plt.show()"
   ]
  },
  {
   "cell_type": "code",
   "execution_count": 41,
   "metadata": {
    "colab": {
     "base_uri": "https://localhost:8080/",
     "height": 143
    },
    "executionInfo": {
     "elapsed": 520,
     "status": "ok",
     "timestamp": 1666773121980,
     "user": {
      "displayName": "김태종",
      "userId": "09259876720802222860"
     },
     "user_tz": -540
    },
    "id": "VExckPqmoEiE",
    "outputId": "c8ae1f2e-055c-4ad0-99b4-49298a674bde"
   },
   "outputs": [
    {
     "data": {
      "text/html": [
       "<div>\n",
       "<style scoped>\n",
       "    .dataframe tbody tr th:only-of-type {\n",
       "        vertical-align: middle;\n",
       "    }\n",
       "\n",
       "    .dataframe tbody tr th {\n",
       "        vertical-align: top;\n",
       "    }\n",
       "\n",
       "    .dataframe thead th {\n",
       "        text-align: right;\n",
       "    }\n",
       "</style>\n",
       "<table border=\"1\" class=\"dataframe\">\n",
       "  <thead>\n",
       "    <tr style=\"text-align: right;\">\n",
       "      <th></th>\n",
       "      <th>target</th>\n",
       "    </tr>\n",
       "    <tr>\n",
       "      <th>base_hour</th>\n",
       "      <th></th>\n",
       "    </tr>\n",
       "  </thead>\n",
       "  <tbody>\n",
       "    <tr>\n",
       "      <th>17</th>\n",
       "      <td>38.473363</td>\n",
       "    </tr>\n",
       "    <tr>\n",
       "      <th>18</th>\n",
       "      <td>38.241258</td>\n",
       "    </tr>\n",
       "  </tbody>\n",
       "</table>\n",
       "</div>"
      ],
      "text/plain": [
       "              target\n",
       "base_hour           \n",
       "17         38.473363\n",
       "18         38.241258"
      ]
     },
     "execution_count": 41,
     "metadata": {},
     "output_type": "execute_result"
    }
   ],
   "source": [
    "# 초록선 밑에 값\n",
    "a[a[\"target\"]<=train[(train[\"base_hour\"]>=8) & (train[\"base_hour\"]<=21)][\"target\"].median()]"
   ]
  },
  {
   "cell_type": "markdown",
   "metadata": {
    "id": "ctw5PaQ8mMWU"
   },
   "source": [
    "- 위 그래프로 볼때, 3개의 구간으로 라벨링 할 수 있을것으로 보임\n",
    "- 0\\~5시 까지는 3\n",
    "- 6\\~7/22\\~23시 까지는 2\n",
    "- 8\\~17/17\\~21시 까지는 1\n",
    "- 17~18시는 0"
   ]
  },
  {
   "cell_type": "code",
   "execution_count": 42,
   "metadata": {
    "executionInfo": {
     "elapsed": 2592,
     "status": "ok",
     "timestamp": 1666773124570,
     "user": {
      "displayName": "김태종",
      "userId": "09259876720802222860"
     },
     "user_tz": -540
    },
    "id": "o9R7TAxanklk"
   },
   "outputs": [],
   "source": [
    "# 시간 범주화\n",
    "def time_category(x):\n",
    "    if (0<=x<=5):\n",
    "        y = 3\n",
    "    if (6<=x<=7)or(22<=x<=23):\n",
    "        y = 2\n",
    "    if (8<=x<=16)or(19<=x<=21):\n",
    "        y = 1\n",
    "    if (17<=x<=18):\n",
    "        y = 0    \n",
    "    return y\n",
    "\n",
    "train[\"time_category\"] = train[\"base_hour\"].apply(time_category)\n",
    "test[\"time_category\"] = test[\"base_hour\"].apply(time_category)"
   ]
  },
  {
   "cell_type": "markdown",
   "metadata": {
    "id": "fRxigrYIOD4g"
   },
   "source": [
    ">집단간의 차이를 통계적 차이를 T-test같은 방법으로 추정해 볼 수 있을듯 하나 시간이 없어서 생략"
   ]
  },
  {
   "cell_type": "markdown",
   "metadata": {
    "id": "U7UKhTauSD8D"
   },
   "source": [
    "### 3. 출발지 도착지와 평균속도"
   ]
  },
  {
   "cell_type": "code",
   "execution_count": 43,
   "metadata": {
    "colab": {
     "base_uri": "https://localhost:8080/",
     "height": 1000
    },
    "executionInfo": {
     "elapsed": 16244,
     "status": "ok",
     "timestamp": 1666773140812,
     "user": {
      "displayName": "김태종",
      "userId": "09259876720802222860"
     },
     "user_tz": -540
    },
    "id": "J3c3tla6IkT7",
    "outputId": "663b9f3b-b1f3-4e79-fe65-9070ca52e110"
   },
   "outputs": [
    {
     "data": {
      "image/png": "[encoded data removed]",
      "text/plain": [
       "<Figure size 1152x1440 with 2 Axes>"
      ]
     },
     "metadata": {
      "needs_background": "light"
     },
     "output_type": "display_data"
    }
   ],
   "source": [
    "# 출발 \n",
    "plt.figure(figsize = (16,20))\n",
    "plt.subplot(211)\n",
    "plt.title(\"starting point\")\n",
    "sns.scatterplot(data = train, y = \"start_latitude\", x = \"start_longitude\", color = \"blue\")\n",
    "\n",
    "plt.subplot(212)\n",
    "plt.title(\"arrival point\")\n",
    "sns.scatterplot(data = train, y = \"end_latitude\", x = \"end_longitude\", color = \"red\")\n",
    "\n",
    "plt.show()"
   ]
  },
  {
   "cell_type": "markdown",
   "metadata": {
    "id": "3FXEqYiUqdOD"
   },
   "source": [
    "__도로 등급 분석__"
   ]
  },
  {
   "cell_type": "code",
   "execution_count": 44,
   "metadata": {
    "colab": {
     "base_uri": "https://localhost:8080/"
    },
    "executionInfo": {
     "elapsed": 20,
     "status": "ok",
     "timestamp": 1666773140812,
     "user": {
      "displayName": "김태종",
      "userId": "09259876720802222860"
     },
     "user_tz": -540
    },
    "id": "ZeuZEzZ_qcmv",
    "outputId": "194fda16-9c49-4fbe-c53e-fbb258c63b3d"
   },
   "outputs": [
    {
     "data": {
      "text/plain": [
       "road_rating\n",
       "103    46.388468\n",
       "106    48.021548\n",
       "107    34.701408\n",
       "Name: target, dtype: float64"
      ]
     },
     "execution_count": 44,
     "metadata": {},
     "output_type": "execute_result"
    }
   ],
   "source": [
    "# 도로 등급별 평균속도\n",
    "# 원핫 인코딩 필요\n",
    "train.groupby([\"road_rating\"])[\"target\"].mean()"
   ]
  },
  {
   "cell_type": "markdown",
   "metadata": {
    "id": "N7-gpNkTq5pj"
   },
   "source": [
    "__최고 제한 속도 분석__"
   ]
  },
  {
   "cell_type": "code",
   "execution_count": 45,
   "metadata": {
    "colab": {
     "base_uri": "https://localhost:8080/"
    },
    "executionInfo": {
     "elapsed": 15,
     "status": "ok",
     "timestamp": 1666773140813,
     "user": {
      "displayName": "김태종",
      "userId": "09259876720802222860"
     },
     "user_tz": -540
    },
    "id": "JlZNIwf8qcjq",
    "outputId": "25d8eefd-3375-4090-d2d3-4d7da94d8b3d"
   },
   "outputs": [
    {
     "data": {
      "text/plain": [
       "0          60.0\n",
       "1          60.0\n",
       "2          80.0\n",
       "3          50.0\n",
       "4          80.0\n",
       "           ... \n",
       "4701212    50.0\n",
       "4701213    80.0\n",
       "4701214    60.0\n",
       "4701215    80.0\n",
       "4701216    60.0\n",
       "Name: maximum_speed_limit, Length: 4701217, dtype: float64"
      ]
     },
     "execution_count": 45,
     "metadata": {},
     "output_type": "execute_result"
    }
   ],
   "source": [
    "train[\"maximum_speed_limit\"]"
   ]
  },
  {
   "cell_type": "code",
   "execution_count": 46,
   "metadata": {
    "colab": {
     "base_uri": "https://localhost:8080/",
     "height": 309
    },
    "executionInfo": {
     "elapsed": 692,
     "status": "ok",
     "timestamp": 1666773141492,
     "user": {
      "displayName": "김태종",
      "userId": "09259876720802222860"
     },
     "user_tz": -540
    },
    "id": "-pManPSYqcg1",
    "outputId": "641a688c-86cf-44c9-8dec-0d25d2ac20df"
   },
   "outputs": [
    {
     "data": {
      "text/plain": [
       "<AxesSubplot:xlabel='maximum_speed_limit', ylabel='Count'>"
      ]
     },
     "execution_count": 46,
     "metadata": {},
     "output_type": "execute_result"
    },
    {
     "data": {
      "image/png": "[encoded data removed]",
      "text/plain": [
       "<Figure size 432x288 with 1 Axes>"
      ]
     },
     "metadata": {
      "needs_background": "light"
     },
     "output_type": "display_data"
    }
   ],
   "source": [
    "# 최고속도 분포\n",
    "sns.histplot(data = train, x = \"maximum_speed_limit\")"
   ]
  },
  {
   "cell_type": "code",
   "execution_count": 47,
   "metadata": {
    "colab": {
     "base_uri": "https://localhost:8080/",
     "height": 298
    },
    "executionInfo": {
     "elapsed": 14243,
     "status": "ok",
     "timestamp": 1666773155730,
     "user": {
      "displayName": "김태종",
      "userId": "09259876720802222860"
     },
     "user_tz": -540
    },
    "id": "PpkLLxDmrbQy",
    "outputId": "062165e8-bc4f-49c4-8118-aed1e3a77e2a"
   },
   "outputs": [
    {
     "data": {
      "text/plain": [
       "<AxesSubplot:xlabel='maximum_speed_limit', ylabel='target'>"
      ]
     },
     "execution_count": 47,
     "metadata": {},
     "output_type": "execute_result"
    },
    {
     "data": {
      "image/png": "[encoded data removed]",
      "text/plain": [
       "<Figure size 432x288 with 1 Axes>"
      ]
     },
     "metadata": {
      "needs_background": "light"
     },
     "output_type": "display_data"
    }
   ],
   "source": [
    "# 어느정도 상관 관계가 있음\n",
    "# 50km/h 이상 구간에서는 거의 모든 속도를 다 볼 수 있지만 그 이하 구간에서는 최고 속력을 내는 경우가 없음\n",
    "# 의외로 80km/h 도로에서 최고속도를 못내는 경우가 많음\n",
    "sns.scatterplot(data = train, x= \"maximum_speed_limit\", y = \"target\")"
   ]
  },
  {
   "cell_type": "markdown",
   "metadata": {
    "id": "jDfo1JBOtF5i"
   },
   "source": [
    "__통과제한 차량 분석__"
   ]
  },
  {
   "cell_type": "code",
   "execution_count": 48,
   "metadata": {
    "colab": {
     "base_uri": "https://localhost:8080/"
    },
    "executionInfo": {
     "elapsed": 23,
     "status": "ok",
     "timestamp": 1666773155730,
     "user": {
      "displayName": "김태종",
      "userId": "09259876720802222860"
     },
     "user_tz": -540
    },
    "id": "7FB73z3LtgEL",
    "outputId": "f9618aa4-a455-4802-cd71-08c1cba8e072"
   },
   "outputs": [
    {
     "data": {
      "text/plain": [
       "array([32400.,     0., 43200., 50000.])"
      ]
     },
     "execution_count": 48,
     "metadata": {},
     "output_type": "execute_result"
    }
   ],
   "source": [
    "train[\"weight_restricted\"].unique()"
   ]
  },
  {
   "cell_type": "code",
   "execution_count": 49,
   "metadata": {
    "colab": {
     "base_uri": "https://localhost:8080/",
     "height": 299
    },
    "executionInfo": {
     "elapsed": 19,
     "status": "ok",
     "timestamp": 1666773155731,
     "user": {
      "displayName": "김태종",
      "userId": "09259876720802222860"
     },
     "user_tz": -540
    },
    "id": "vg-xWSQItmaV",
    "outputId": "22f689ba-ba75-46de-b15f-b582dcee0a70"
   },
   "outputs": [
    {
     "data": {
      "text/plain": [
       "<AxesSubplot:xlabel='weight_restricted', ylabel='target'>"
      ]
     },
     "execution_count": 49,
     "metadata": {},
     "output_type": "execute_result"
    },
    {
     "data": {
      "image/png": "[encoded data removed]",
      "text/plain": [
       "<Figure size 432x288 with 1 Axes>"
      ]
     },
     "metadata": {
      "needs_background": "light"
     },
     "output_type": "display_data"
    }
   ],
   "source": [
    "# 통과제한 차량별 평균 속도\n",
    "a = train.groupby([\"weight_restricted\"])[[\"target\"]].mean()\n",
    "sns.barplot(data = a, x = a.index, y=\"target\")\n",
    "\n",
    "# 원핫인코딩 필요"
   ]
  },
  {
   "cell_type": "markdown",
   "metadata": {
    "id": "x4QrdqM2te4w"
   },
   "source": [
    "__차로수 분석__"
   ]
  },
  {
   "cell_type": "code",
   "execution_count": 50,
   "metadata": {
    "colab": {
     "base_uri": "https://localhost:8080/"
    },
    "executionInfo": {
     "elapsed": 17,
     "status": "ok",
     "timestamp": 1666773155731,
     "user": {
      "displayName": "김태종",
      "userId": "09259876720802222860"
     },
     "user_tz": -540
    },
    "id": "GCbmvLIBrbOQ",
    "outputId": "aba643b9-9487-4512-fe46-a8dbe14e6bdf"
   },
   "outputs": [
    {
     "data": {
      "text/plain": [
       "lane_count\n",
       "1    43.570562\n",
       "2    44.915713\n",
       "3    34.917783\n",
       "Name: target, dtype: float64"
      ]
     },
     "execution_count": 50,
     "metadata": {},
     "output_type": "execute_result"
    }
   ],
   "source": [
    "train.groupby([\"lane_count\"])[\"target\"].mean()"
   ]
  },
  {
   "cell_type": "markdown",
   "metadata": {
    "id": "mXfcW_SNYULa"
   },
   "source": [
    "> lane_count를 순서를 정렬하자"
   ]
  },
  {
   "cell_type": "code",
   "execution_count": 51,
   "metadata": {
    "executionInfo": {
     "elapsed": 2210,
     "status": "ok",
     "timestamp": 1666773157928,
     "user": {
      "displayName": "김태종",
      "userId": "09259876720802222860"
     },
     "user_tz": -540
    },
    "id": "2gFVP0BCYS0E"
   },
   "outputs": [],
   "source": [
    "def lane_val(x):\n",
    "    if x == 3:\n",
    "        return 0\n",
    "    if x == 1:\n",
    "        return 1\n",
    "    if x == 2:\n",
    "        return 2\n",
    "        \n",
    "train[\"lane_val\"] = train[\"lane_count\"].apply(lane_val)\n",
    "test[\"lane_val\"] = test[\"lane_count\"].apply(lane_val)"
   ]
  },
  {
   "cell_type": "markdown",
   "metadata": {
    "id": "urDC-2P_w3-t"
   },
   "source": [
    "__도로 유형 분석__"
   ]
  },
  {
   "cell_type": "code",
   "execution_count": 52,
   "metadata": {
    "colab": {
     "base_uri": "https://localhost:8080/"
    },
    "executionInfo": {
     "elapsed": 15,
     "status": "ok",
     "timestamp": 1666773157929,
     "user": {
      "displayName": "김태종",
      "userId": "09259876720802222860"
     },
     "user_tz": -540
    },
    "id": "fGtOOkztrbMC",
    "outputId": "998aa49a-bfbf-4a48-e73f-210093d1c094"
   },
   "outputs": [
    {
     "data": {
      "text/plain": [
       "0          3\n",
       "1          0\n",
       "2          0\n",
       "3          0\n",
       "4          0\n",
       "          ..\n",
       "4701212    0\n",
       "4701213    3\n",
       "4701214    0\n",
       "4701215    0\n",
       "4701216    0\n",
       "Name: road_type, Length: 4701217, dtype: int64"
      ]
     },
     "execution_count": 52,
     "metadata": {},
     "output_type": "execute_result"
    }
   ],
   "source": [
    "train[\"road_type\"]"
   ]
  },
  {
   "cell_type": "code",
   "execution_count": 53,
   "metadata": {
    "colab": {
     "base_uri": "https://localhost:8080/",
     "height": 298
    },
    "executionInfo": {
     "elapsed": 11,
     "status": "ok",
     "timestamp": 1666773157929,
     "user": {
      "displayName": "김태종",
      "userId": "09259876720802222860"
     },
     "user_tz": -540
    },
    "id": "NQeGBSEarbJm",
    "outputId": "4bf885bd-e2b7-4d38-e36a-687776286319"
   },
   "outputs": [
    {
     "data": {
      "text/plain": [
       "<AxesSubplot:xlabel='road_type', ylabel='target'>"
      ]
     },
     "execution_count": 53,
     "metadata": {},
     "output_type": "execute_result"
    },
    {
     "data": {
      "image/png": "[encoded data removed]",
      "text/plain": [
       "<Figure size 432x288 with 1 Axes>"
      ]
     },
     "metadata": {
      "needs_background": "light"
     },
     "output_type": "display_data"
    }
   ],
   "source": [
    "# 도로 유형별 통계\n",
    "# 원핫 인코딩 필요\n",
    "a = train.groupby([\"road_type\"])[[\"target\"]].mean()\n",
    "sns.barplot(data = a, x = a.index, y = \"target\")"
   ]
  },
  {
   "cell_type": "markdown",
   "metadata": {
    "id": "1ldfKL1u-h_i"
   },
   "source": [
    "__주행거리__"
   ]
  },
  {
   "cell_type": "code",
   "execution_count": 54,
   "metadata": {
    "colab": {
     "base_uri": "https://localhost:8080/"
    },
    "executionInfo": {
     "elapsed": 8,
     "status": "ok",
     "timestamp": 1666773157929,
     "user": {
      "displayName": "김태종",
      "userId": "09259876720802222860"
     },
     "user_tz": -540
    },
    "id": "l9k-Xd6vqcd-",
    "outputId": "57aac06d-2a84-440e-d9ed-db50faae811f"
   },
   "outputs": [
    {
     "data": {
      "text/plain": [
       "0          0.000277\n",
       "1          0.004987\n",
       "2          0.006516\n",
       "3          0.001104\n",
       "4          0.003630\n",
       "             ...   \n",
       "4701212    0.004533\n",
       "4701213    0.000522\n",
       "4701214    0.003084\n",
       "4701215    0.002063\n",
       "4701216    0.001465\n",
       "Name: distance, Length: 4701217, dtype: float64"
      ]
     },
     "execution_count": 54,
     "metadata": {},
     "output_type": "execute_result"
    }
   ],
   "source": [
    "train[\"distance\"] = ((train[\"end_latitude\"] - train[\"start_latitude\"])**2 + (train[\"end_longitude\"] - train[\"start_longitude\"])**2 )**(1/2)\n",
    "train[\"distance\"]"
   ]
  },
  {
   "cell_type": "code",
   "execution_count": 55,
   "metadata": {
    "colab": {
     "base_uri": "https://localhost:8080/"
    },
    "executionInfo": {
     "elapsed": 8,
     "status": "ok",
     "timestamp": 1666773157930,
     "user": {
      "displayName": "김태종",
      "userId": "09259876720802222860"
     },
     "user_tz": -540
    },
    "id": "KEsL8QaNBO7X",
    "outputId": "5f23e6bd-48eb-4f93-82f0-21c85a903140"
   },
   "outputs": [
    {
     "data": {
      "text/plain": [
       "0         0.002873\n",
       "1         0.011171\n",
       "2         0.001837\n",
       "3         0.002440\n",
       "4         0.012863\n",
       "            ...   \n",
       "291236    0.003197\n",
       "291237    0.004778\n",
       "291238    0.003880\n",
       "291239    0.000933\n",
       "291240    0.000857\n",
       "Name: distance, Length: 291241, dtype: float64"
      ]
     },
     "execution_count": 55,
     "metadata": {},
     "output_type": "execute_result"
    }
   ],
   "source": [
    "test[\"distance\"] = ((test[\"end_latitude\"] - test[\"start_latitude\"])**2 + (test[\"end_longitude\"] - test[\"start_longitude\"])**2 )**(1/2)\n",
    "test[\"distance\"]"
   ]
  },
  {
   "cell_type": "code",
   "execution_count": 56,
   "metadata": {
    "colab": {
     "base_uri": "https://localhost:8080/",
     "height": 297
    },
    "executionInfo": {
     "elapsed": 16808,
     "status": "ok",
     "timestamp": 1666773174732,
     "user": {
      "displayName": "김태종",
      "userId": "09259876720802222860"
     },
     "user_tz": -540
    },
    "id": "kvVryKnY_uhV",
    "outputId": "8e698b6b-f366-4dc0-9a25-a0d0bcac695e"
   },
   "outputs": [
    {
     "data": {
      "text/plain": [
       "<AxesSubplot:xlabel='distance', ylabel='Density'>"
      ]
     },
     "execution_count": 56,
     "metadata": {},
     "output_type": "execute_result"
    },
    {
     "data": {
      "image/png": "[encoded data removed]",
      "text/plain": [
       "<Figure size 432x288 with 1 Axes>"
      ]
     },
     "metadata": {
      "needs_background": "light"
     },
     "output_type": "display_data"
    }
   ],
   "source": [
    "# 거리 분포 확인\n",
    "sns.kdeplot(train[\"distance\"])"
   ]
  },
  {
   "cell_type": "code",
   "execution_count": 57,
   "metadata": {
    "colab": {
     "base_uri": "https://localhost:8080/",
     "height": 297
    },
    "executionInfo": {
     "elapsed": 14936,
     "status": "ok",
     "timestamp": 1666773189651,
     "user": {
      "displayName": "김태종",
      "userId": "09259876720802222860"
     },
     "user_tz": -540
    },
    "id": "wlvm7l3u1e6E",
    "outputId": "454df2e2-2bd7-4034-bf34-d7132bc0199d"
   },
   "outputs": [
    {
     "data": {
      "text/plain": [
       "<AxesSubplot:xlabel='distance', ylabel='target'>"
      ]
     },
     "execution_count": 57,
     "metadata": {},
     "output_type": "execute_result"
    },
    {
     "data": {
      "image/png": "[encoded data removed]",
      "text/plain": [
       "<Figure size 432x288 with 1 Axes>"
      ]
     },
     "metadata": {
      "needs_background": "light"
     },
     "output_type": "display_data"
    }
   ],
   "source": [
    "sns.scatterplot(data = train, x = \"distance\", y = \"target\")"
   ]
  },
  {
   "cell_type": "code",
   "execution_count": 58,
   "metadata": {
    "executionInfo": {
     "elapsed": 21,
     "status": "ok",
     "timestamp": 1666773189652,
     "user": {
      "displayName": "김태종",
      "userId": "09259876720802222860"
     },
     "user_tz": -540
    },
    "id": "YYP6PZGsAc9b"
   },
   "outputs": [],
   "source": [
    "# # 거리 정규화\n",
    "# scale = train[\"distance\"].max() - train[\"distance\"].min()\n",
    "# train[\"distance\"] = (train[\"distance\"]-train[\"distance\"].min())/scale"
   ]
  },
  {
   "cell_type": "code",
   "execution_count": 59,
   "metadata": {
    "executionInfo": {
     "elapsed": 20,
     "status": "ok",
     "timestamp": 1666773189652,
     "user": {
      "displayName": "김태종",
      "userId": "09259876720802222860"
     },
     "user_tz": -540
    },
    "id": "DIVZTw02FYS4"
   },
   "outputs": [],
   "source": [
    "# # 거리 정규화\n",
    "train[\"distance_std\"] = np.log1p(train[\"distance\"] * 100000)\n",
    "test[\"distance_std\"] = np.log1p(test[\"distance\"] * 100000)"
   ]
  },
  {
   "cell_type": "code",
   "execution_count": 60,
   "metadata": {
    "colab": {
     "base_uri": "https://localhost:8080/",
     "height": 298
    },
    "executionInfo": {
     "elapsed": 18835,
     "status": "ok",
     "timestamp": 1666773208468,
     "user": {
      "displayName": "김태종",
      "userId": "09259876720802222860"
     },
     "user_tz": -540
    },
    "id": "TLh0SET1Ac2h",
    "outputId": "6d1bffa9-6aa1-4cea-b832-c95a9805a2ac"
   },
   "outputs": [
    {
     "data": {
      "text/plain": [
       "<AxesSubplot:xlabel='distance_std', ylabel='Density'>"
      ]
     },
     "execution_count": 60,
     "metadata": {},
     "output_type": "execute_result"
    },
    {
     "data": {
      "image/png": "[encoded data removed]",
      "text/plain": [
       "<Figure size 432x288 with 1 Axes>"
      ]
     },
     "metadata": {
      "needs_background": "light"
     },
     "output_type": "display_data"
    }
   ],
   "source": [
    "sns.kdeplot(train[\"distance_std\"])"
   ]
  },
  {
   "cell_type": "code",
   "execution_count": 61,
   "metadata": {
    "colab": {
     "base_uri": "https://localhost:8080/",
     "height": 297
    },
    "executionInfo": {
     "elapsed": 1285,
     "status": "ok",
     "timestamp": 1666773209743,
     "user": {
      "displayName": "김태종",
      "userId": "09259876720802222860"
     },
     "user_tz": -540
    },
    "id": "rIu8GbobF55I",
    "outputId": "926e6607-c6a1-452e-b944-51ec87a35ed8"
   },
   "outputs": [
    {
     "data": {
      "text/plain": [
       "<AxesSubplot:xlabel='distance', ylabel='Density'>"
      ]
     },
     "execution_count": 61,
     "metadata": {},
     "output_type": "execute_result"
    },
    {
     "data": {
      "image/png": "[encoded data removed]",
      "text/plain": [
       "<Figure size 432x288 with 1 Axes>"
      ]
     },
     "metadata": {
      "needs_background": "light"
     },
     "output_type": "display_data"
    }
   ],
   "source": [
    "sns.kdeplot(test[\"distance\"])"
   ]
  },
  {
   "cell_type": "markdown",
   "metadata": {
    "id": "EcAZ3c0bAWCD"
   },
   "source": [
    "__target 분포 확인__"
   ]
  },
  {
   "cell_type": "code",
   "execution_count": 62,
   "metadata": {
    "colab": {
     "base_uri": "https://localhost:8080/",
     "height": 297
    },
    "executionInfo": {
     "elapsed": 17660,
     "status": "ok",
     "timestamp": 1666773227401,
     "user": {
      "displayName": "김태종",
      "userId": "09259876720802222860"
     },
     "user_tz": -540
    },
    "id": "SBlGcLi91et_",
    "outputId": "9018b96e-8295-4a71-f86a-f951fa47ebae"
   },
   "outputs": [
    {
     "data": {
      "text/plain": [
       "<AxesSubplot:xlabel='target', ylabel='Density'>"
      ]
     },
     "execution_count": 62,
     "metadata": {},
     "output_type": "execute_result"
    },
    {
     "data": {
      "image/png": "[encoded data removed]",
      "text/plain": [
       "<Figure size 432x288 with 1 Axes>"
      ]
     },
     "metadata": {
      "needs_background": "light"
     },
     "output_type": "display_data"
    }
   ],
   "source": [
    "sns.kdeplot(train[\"target\"])"
   ]
  },
  {
   "cell_type": "markdown",
   "metadata": {
    "id": "gbK2bXYTGDvK"
   },
   "source": [
    "> 분포에 문제 없음"
   ]
  },
  {
   "cell_type": "markdown",
   "metadata": {
    "id": "Zbf5eehuqMwz"
   },
   "source": [
    "## 4. 예측"
   ]
  },
  {
   "cell_type": "code",
   "execution_count": 63,
   "metadata": {
    "executionInfo": {
     "elapsed": 2676,
     "status": "ok",
     "timestamp": 1666773230064,
     "user": {
      "displayName": "김태종",
      "userId": "09259876720802222860"
     },
     "user_tz": -540
    },
    "id": "vZuiBBGmqQyF"
   },
   "outputs": [],
   "source": [
    "# 요일 시작지점과 도착지점의 회전제한 유무 수치형으로 변환\n",
    "str_col = ['day_of_week','start_turn_restricted','end_turn_restricted']\n",
    "for i in str_col:\n",
    "    le = LabelEncoder()\n",
    "    le=le.fit(train[i])\n",
    "    train[i]=le.transform(train[i])\n",
    "    \n",
    "    for label in np.unique(test[i]):\n",
    "        if label not in le.classes_: \n",
    "            le.classes_ = np.append(le.classes_, label)\n",
    "    test[i]=le.transform(test[i])"
   ]
  },
  {
   "cell_type": "code",
   "execution_count": 64,
   "metadata": {
    "executionInfo": {
     "elapsed": 13,
     "status": "ok",
     "timestamp": 1666773230064,
     "user": {
      "displayName": "김태종",
      "userId": "09259876720802222860"
     },
     "user_tz": -540
    },
    "id": "Ev6zSiif3Drj"
   },
   "outputs": [
    {
     "name": "stderr",
     "output_type": "stream",
     "text": [
      "/opt/conda/lib/python3.9/site-packages/pkg_resources/__init__.py:116: PkgResourcesDeprecationWarning: 0.996-ko-0.9.2 is an invalid version and will not be supported in a future release\n",
      "  warnings.warn(\n"
     ]
    }
   ],
   "source": [
    "from xgboost import XGBRegressor\n",
    "from lightgbm import LGBMRegressor\n",
    "from sklearn.ensemble import GradientBoostingRegressor, RandomForestRegressor\n",
    "\n",
    "from sklearn.model_selection import train_test_split\n",
    "from sklearn.metrics import mean_absolute_error"
   ]
  },
  {
   "cell_type": "code",
   "execution_count": 65,
   "metadata": {
    "executionInfo": {
     "elapsed": 13,
     "status": "ok",
     "timestamp": 1666773230065,
     "user": {
      "displayName": "김태종",
      "userId": "09259876720802222860"
     },
     "user_tz": -540
    },
    "id": "tWc6jh9u4HKy"
   },
   "outputs": [],
   "source": [
    "random_state=2020        # 하지만 우리는 이렇게 고정값을 세팅해 두겠습니다. \n",
    "\n",
    "gboost = GradientBoostingRegressor(random_state=random_state)\n",
    "xgboost = XGBRegressor(learning_rate = 0.05,max_depth = 10, n_estimators = 10000, random_state=random_state)\n",
    "lightgbm = LGBMRegressor(random_state=random_state)\n",
    "rdforest = RandomForestRegressor(random_state=random_state)\n",
    "\n",
    "models = [{'model':gboost, 'name':'GradientBoosting'}, {'model':xgboost, 'name':'XGBoost'},\n",
    "          {'model':lightgbm, 'name':'LightGBM'}, {\"model\":rdforest, \"name\" : \"RandomForest\"}]\n",
    "\n",
    "# 점수 평가\n",
    "def get_scores(models, train, y):\n",
    "    df = {}\n",
    "\n",
    "    for model in models:\n",
    "        # 모델 이름 획득\n",
    "        model_name = model[\"name\"]\n",
    "\n",
    "        # train, test 데이터셋 분리 - 여기에도 random_states를 고정합니다. \n",
    "        X_train, X_test, y_train, y_test = train_test_split(train,\n",
    "                                                            y,\n",
    "                                                            random_state = random_state,\n",
    "                                                            test_size = 0.2)\n",
    "\n",
    "        # 모델 학습\n",
    "        model[\"model\"].fit(X_train, y_train)\n",
    "\n",
    "        # 예측\n",
    "        y_pred = model[\"model\"].predict(X_test)\n",
    "\n",
    "        # 예측 결과의 rmse값 저장\n",
    "        df[model_name] = mean_absolute_error(y_test, y_pred)\n",
    "\n",
    "        # data frame에 저장\n",
    "        score_df = pd.DataFrame(df, index = [\"MAE\"]).T.sort_values(\"MAE\", ascending = False)\n",
    "    return score_df"
   ]
  },
  {
   "cell_type": "markdown",
   "metadata": {
    "id": "Ky-bAP-jpQ0Y"
   },
   "source": [
    "__1차 시도__  \n",
    "MAE  \n",
    "GradientBoosting\t6.626976  \n",
    "XGBoost\t6.613849  \n",
    "LightGBM\t4.942239  \n",
    "RandomForest\t3.800149  "
   ]
  },
  {
   "cell_type": "code",
   "execution_count": 66,
   "metadata": {
    "executionInfo": {
     "elapsed": 13,
     "status": "ok",
     "timestamp": 1666773230065,
     "user": {
      "displayName": "김태종",
      "userId": "09259876720802222860"
     },
     "user_tz": -540
    },
    "id": "yqCGSHgepCix"
   },
   "outputs": [],
   "source": [
    "# # 1차 시도\n",
    "# y_train = train['target'] \n",
    "\n",
    "# X_train = train[[\"year\",\"month\",\"day\",\"day_of_week\", \"time_category\",\"road_in_use\", \"road_rating\", \"maximum_speed_limit\", \"weight_restricted\",\"start_latitude\", \"start_longitude\", \"end_latitude\",\"end_longitude\",\"end_turn_restricted\"]]\n",
    "\n",
    "# Test = test[[\"year\",\"month\",\"day\",\"day_of_week\", \"time_category\",\"road_in_use\", \"road_rating\", \"maximum_speed_limit\", \"weight_restricted\",\"start_latitude\", \"start_longitude\", \"end_latitude\",\"end_longitude\",\"end_turn_restricted\"]]\n",
    "# print(X_train.shape)\n",
    "# print(y_train.shape)\n",
    "\n",
    "# # 원핫인코딩\n",
    "# X_train = pd.get_dummies(X_train, columns = [\"road_rating\",\"weight_restricted\"])\n",
    "# Test = pd.get_dummies(test, columns = [\"road_rating\",\"weight_restricted\"])\n",
    "\n",
    "# get_scores(models, X_train, y_train)"
   ]
  },
  {
   "cell_type": "markdown",
   "metadata": {
    "id": "k2A3uZ_DpTjk"
   },
   "source": [
    "__2차 시도__"
   ]
  },
  {
   "cell_type": "code",
   "execution_count": 67,
   "metadata": {
    "executionInfo": {
     "elapsed": 13,
     "status": "ok",
     "timestamp": 1666773230065,
     "user": {
      "displayName": "김태종",
      "userId": "09259876720802222860"
     },
     "user_tz": -540
    },
    "id": "EUI_JW3KpF95"
   },
   "outputs": [],
   "source": [
    "# # 2차 시도\n",
    "# y_train = train['target'] \n",
    "\n",
    "# X_train = train[[\"year\",\"month\",\"day\", \"time_category\",\"road_in_use\",\"maximum_speed_limit\", \"weight_restricted\",\"start_latitude\", \"start_longitude\", \"end_latitude\",\"end_longitude\",\"end_turn_restricted\"]]\n",
    "\n",
    "# Test = test[[\"year\",\"month\",\"day\", \"time_category\",\"road_in_use\",  \"maximum_speed_limit\", \"weight_restricted\",\"start_latitude\", \"start_longitude\", \"end_latitude\",\"end_longitude\",\"end_turn_restricted\"]]\n",
    "\n",
    "# print(X_train.shape)\n",
    "# print(y_train.shape)\n",
    "\n",
    "# # 원핫인코딩\n",
    "# X_train = pd.get_dummies(X_train, columns = [\"weight_restricted\"])\n",
    "# Test = pd.get_dummies(Test, columns = [\"weight_restricted\"])\n",
    "# X_train = X_train.values\n",
    "# get_scores(models, X_train, y_train)"
   ]
  },
  {
   "cell_type": "markdown",
   "metadata": {
    "id": "V4bDsWNOpV9R"
   },
   "source": [
    "__3차 시도__\n",
    "\n",
    "MAE  \n",
    "XGBoost\t7.168604  \n",
    "GradientBoosting\t7.154547  \n",
    "LightGBM\t5.639127  \n",
    "RandomForest\t4.874068  "
   ]
  },
  {
   "cell_type": "code",
   "execution_count": 68,
   "metadata": {
    "executionInfo": {
     "elapsed": 13,
     "status": "ok",
     "timestamp": 1666773230065,
     "user": {
      "displayName": "김태종",
      "userId": "09259876720802222860"
     },
     "user_tz": -540
    },
    "id": "-yvO0Mq1VIUA"
   },
   "outputs": [],
   "source": [
    "# #3차시도\n",
    "# y_train = train['target'] \n",
    "\n",
    "# X_train = train[[\"year\",\"month\",\"day\", \"road_in_use\",\"maximum_speed_limit\", \"weight_restricted\",\"start_latitude\", \"start_longitude\", \"end_latitude\",\"end_longitude\",\"end_turn_restricted\"]]\n",
    "\n",
    "# Test = test[[\"year\",\"month\",\"day\", \"road_in_use\",  \"maximum_speed_limit\", \"weight_restricted\",\"start_latitude\", \"start_longitude\", \"end_latitude\",\"end_longitude\",\"end_turn_restricted\"]]\n",
    "# X_train = X_train.values\n",
    "# print(X_train.shape)\n",
    "# print(y_train.shape)\n",
    "\n",
    "# get_scores(models, X_train, y_train)"
   ]
  },
  {
   "cell_type": "markdown",
   "metadata": {
    "id": "hbnWEInYGIHk"
   },
   "source": [
    "__4차 시도__\n",
    "\n",
    "MAE  \n",
    "XGBoost\t7.028998  \n",
    "GradientBoosting\t7.018870  \n",
    "LightGBM\t5.533011  \n",
    "RandomForest\t4.874066  "
   ]
  },
  {
   "cell_type": "code",
   "execution_count": 69,
   "metadata": {
    "colab": {
     "base_uri": "https://localhost:8080/"
    },
    "executionInfo": {
     "elapsed": 13,
     "status": "ok",
     "timestamp": 1666773230066,
     "user": {
      "displayName": "김태종",
      "userId": "09259876720802222860"
     },
     "user_tz": -540
    },
    "id": "tHMvLEGFL-8G",
    "outputId": "195be26a-fb8d-43e7-8aef-72dc1707ea1c"
   },
   "outputs": [
    {
     "name": "stdout",
     "output_type": "stream",
     "text": [
      "<class 'pandas.core.frame.DataFrame'>\n",
      "RangeIndex: 4701217 entries, 0 to 4701216\n",
      "Data columns (total 32 columns):\n",
      " #   Column                 Dtype         \n",
      "---  ------                 -----         \n",
      " 0   id                     object        \n",
      " 1   base_date              datetime64[ns]\n",
      " 2   day_of_week            int64         \n",
      " 3   base_hour              int64         \n",
      " 4   road_in_use            int64         \n",
      " 5   lane_count             int64         \n",
      " 6   road_rating            int64         \n",
      " 7   road_name              object        \n",
      " 8   multi_linked           int64         \n",
      " 9   connect_code           int64         \n",
      " 10  maximum_speed_limit    float64       \n",
      " 11  vehicle_restricted     float64       \n",
      " 12  weight_restricted      float64       \n",
      " 13  height_restricted      float64       \n",
      " 14  road_type              int64         \n",
      " 15  start_node_name        object        \n",
      " 16  start_latitude         float64       \n",
      " 17  start_longitude        float64       \n",
      " 18  start_turn_restricted  int64         \n",
      " 19  end_node_name          object        \n",
      " 20  end_latitude           float64       \n",
      " 21  end_longitude          float64       \n",
      " 22  end_turn_restricted    int64         \n",
      " 23  target                 float64       \n",
      " 24  year                   int64         \n",
      " 25  month                  int64         \n",
      " 26  day                    int64         \n",
      " 27  is_weekend             int64         \n",
      " 28  time_category          int64         \n",
      " 29  lane_val               int64         \n",
      " 30  distance               float64       \n",
      " 31  distance_std           float64       \n",
      "dtypes: datetime64[ns](1), float64(11), int64(16), object(4)\n",
      "memory usage: 1.1+ GB\n"
     ]
    }
   ],
   "source": [
    "train.info()"
   ]
  },
  {
   "cell_type": "code",
   "execution_count": 70,
   "metadata": {
    "executionInfo": {
     "elapsed": 5,
     "status": "ok",
     "timestamp": 1666773230066,
     "user": {
      "displayName": "김태종",
      "userId": "09259876720802222860"
     },
     "user_tz": -540
    },
    "id": "IIjsPXc7GKUU"
   },
   "outputs": [],
   "source": [
    "# #4차시도\n",
    "# y_train = train['target'] \n",
    "\n",
    "# X_train = train[[\"year\",\"month\",\"day\", \"road_in_use\",\"maximum_speed_limit\", \"weight_restricted\",\"start_latitude\", \"start_longitude\", \"end_latitude\",\"end_longitude\",\"end_turn_restricted\", \"distance_std\"]]\n",
    "\n",
    "# Test = test[[\"year\",\"month\",\"day\", \"road_in_use\",  \"maximum_speed_limit\", \"weight_restricted\",\"start_latitude\", \"start_longitude\", \"end_latitude\",\"end_longitude\",\"end_turn_restricted\",\"distance_std\"]]\n",
    "\n",
    "# # 원핫인코딩\n",
    "# X_train = pd.get_dummies(X_train, columns = [\"weight_restricted\"])\n",
    "# Test = pd.get_dummies(Test, columns = [\"weight_restricted\"])\n",
    "# X_train = X_train.values\n",
    "# get_scores(models, X_train, y_train)"
   ]
  },
  {
   "cell_type": "markdown",
   "metadata": {
    "id": "dN4--oRnGZqN"
   },
   "source": [
    "__5차 시도__\n",
    "\n",
    "MAE  \n",
    "XGBoost\t7.028998  \n",
    "GradientBoosting\t7.018870  \n",
    "LightGBM\t5.533011  \n",
    "RandomForest\t4.874217  "
   ]
  },
  {
   "cell_type": "code",
   "execution_count": 71,
   "metadata": {
    "executionInfo": {
     "elapsed": 6,
     "status": "ok",
     "timestamp": 1666773230067,
     "user": {
      "displayName": "김태종",
      "userId": "09259876720802222860"
     },
     "user_tz": -540
    },
    "id": "U-jkkem1VIPP"
   },
   "outputs": [],
   "source": [
    "# #5차시도\n",
    "# y_train = train['target'] \n",
    "\n",
    "# X_train = train[[\"year\",\"month\",\"day\", \"maximum_speed_limit\", \"weight_restricted\",\"start_latitude\", \"start_longitude\", \"end_latitude\",\"end_longitude\",\"end_turn_restricted\", \"distance_std\"]]\n",
    "\n",
    "# Test = test[[\"year\",\"month\",\"day\", \"maximum_speed_limit\", \"weight_restricted\",\"start_latitude\", \"start_longitude\", \"end_latitude\",\"end_longitude\",\"end_turn_restricted\",\"distance_std\"]]\n",
    "\n",
    "# # 원핫인코딩\n",
    "# X_train = pd.get_dummies(X_train, columns = [\"weight_restricted\"])\n",
    "# Test = pd.get_dummies(Test, columns = [\"weight_restricted\"])\n",
    "# X_train = X_train.values\n",
    "# get_scores(models, X_train, y_train)"
   ]
  },
  {
   "cell_type": "markdown",
   "metadata": {
    "id": "TpbwnbI5GfkH"
   },
   "source": [
    "__6차 시도__  \n",
    "MAE  \n",
    "XGBoost\t8.700481  \n",
    "GradientBoosting\t8.700422  \n",
    "LightGBM\t6.918960  \n",
    "RandomForest\t5.697142  "
   ]
  },
  {
   "cell_type": "code",
   "execution_count": 72,
   "metadata": {
    "executionInfo": {
     "elapsed": 6,
     "status": "ok",
     "timestamp": 1666773230067,
     "user": {
      "displayName": "김태종",
      "userId": "09259876720802222860"
     },
     "user_tz": -540
    },
    "id": "vJEeQfcyGgEj"
   },
   "outputs": [],
   "source": [
    "# #6차시도\n",
    "# y_train = train['target'] \n",
    "\n",
    "# X_train = train[[\"year\",\"month\",\"day\", \"maximum_speed_limit\", \"weight_restricted\", \"distance_std\"]]\n",
    "\n",
    "# Test = test[[\"year\",\"month\",\"day\", \"maximum_speed_limit\", \"weight_restricted\",\"distance_std\"]]\n",
    "\n",
    "# # 원핫인코딩\n",
    "# X_train = pd.get_dummies(X_train, columns = [\"weight_restricted\"])\n",
    "# Test = pd.get_dummies(Test, columns = [\"weight_restricted\"])\n",
    "# X_train = X_train.values\n",
    "# get_scores(models, X_train, y_train)"
   ]
  },
  {
   "cell_type": "markdown",
   "metadata": {
    "id": "stTFFwgfcdXO"
   },
   "source": [
    "__7차 시도__  \n",
    "MAE   \n",
    "XGBoost\t6.486970  \n",
    "GradientBoosting\t6.463965  \n",
    "LightGBM\t4.845100  \n",
    "RandomForest\t3.800750  "
   ]
  },
  {
   "cell_type": "code",
   "execution_count": 73,
   "metadata": {
    "executionInfo": {
     "elapsed": 6,
     "status": "ok",
     "timestamp": 1666773230067,
     "user": {
      "displayName": "김태종",
      "userId": "09259876720802222860"
     },
     "user_tz": -540
    },
    "id": "gskgNZjocdKQ"
   },
   "outputs": [],
   "source": [
    "# 7차 시도\n",
    "# y_train = train['target'] \n",
    "\n",
    "# X_train = train[[\"year\",\"month\",\"day\",\"day_of_week\", \"time_category\",\"road_in_use\", \"road_rating\", \"maximum_speed_limit\", \"weight_restricted\",\"start_latitude\", \"start_longitude\", \"end_latitude\",\"end_longitude\",\"end_turn_restricted\",\"distance\"]]\n",
    "\n",
    "# Test = test[[\"year\",\"month\",\"day\",\"day_of_week\", \"time_category\",\"road_in_use\", \"road_rating\", \"maximum_speed_limit\", \"weight_restricted\",\"start_latitude\", \"start_longitude\", \"end_latitude\",\"end_longitude\",\"end_turn_restricted\",\"distance\"]]\n",
    "# print(X_train.shape)\n",
    "# print(y_train.shape)\n",
    "\n",
    "# # 원핫인코딩\n",
    "# X_train = pd.get_dummies(X_train, columns = [\"road_rating\",\"weight_restricted\"])\n",
    "# Test = pd.get_dummies(test, columns = [\"road_rating\",\"weight_restricted\"])\n",
    "\n",
    "# get_scores(models, X_train, y_train)"
   ]
  },
  {
   "cell_type": "markdown",
   "metadata": {
    "id": "hnDU_4zDyuHl"
   },
   "source": [
    "__8차 시도__  \n",
    "lightgbm 파라미터 수정 :  \n",
    "lightgbm = LGBMRegressor(learning_rate = 0.05, max_depth = 10, n_estimators = 1000,random_state=random_state)  \n",
    "> 이제부터 lightgbm만 사용해서 실험\n",
    "\n",
    "\n",
    "MAE\n",
    "LightGBM\t3.94981"
   ]
  },
  {
   "cell_type": "code",
   "execution_count": 74,
   "metadata": {
    "executionInfo": {
     "elapsed": 5,
     "status": "ok",
     "timestamp": 1666773230067,
     "user": {
      "displayName": "김태종",
      "userId": "09259876720802222860"
     },
     "user_tz": -540
    },
    "id": "ieyfH4gIzunh"
   },
   "outputs": [],
   "source": [
    "# random_state=2020        # 하지만 우리는 이렇게 고정값을 세팅해 두겠습니다. \n",
    "\n",
    "# gboost = GradientBoostingRegressor(random_state=random_state)\n",
    "# xgboost = XGBRegressor(learning_rate = 0.05,max_depth = 10, n_estimators = 10000, random_state=random_state)\n",
    "# lightgbm = LGBMRegressor(learning_rate = 0.05, max_depth = 10, n_estimators = 1000,random_state=random_state)\n",
    "# rdforest = RandomForestRegressor(random_state=random_state)\n",
    "\n",
    "# models = [{'model':lightgbm, 'name':'LightGBM'}]\n",
    "\n",
    "# # 점수 평가\n",
    "# def get_scores(models, train, y):\n",
    "#     df = {}\n",
    "\n",
    "#     for model in models:\n",
    "#         # 모델 이름 획득\n",
    "#         model_name = model[\"name\"]\n",
    "\n",
    "#         # train, test 데이터셋 분리 - 여기에도 random_states를 고정합니다. \n",
    "#         X_train, X_test, y_train, y_test = train_test_split(train,\n",
    "#                                                             y,\n",
    "#                                                             random_state = random_state,\n",
    "#                                                             test_size = 0.2)\n",
    "\n",
    "#         # 모델 학습\n",
    "#         model[\"model\"].fit(X_train, y_train)\n",
    "\n",
    "#         # 예측\n",
    "#         y_pred = model[\"model\"].predict(X_test)\n",
    "\n",
    "#         # 예측 결과의 rmse값 저장\n",
    "#         df[model_name] = mean_absolute_error(y_test, y_pred)\n",
    "#         print(model_name,df[model_name])\n",
    "\n",
    "#         # data frame에 저장\n",
    "#         score_df = pd.DataFrame(df, index = [\"MAE\"]).T.sort_values(\"MAE\", ascending = False)\n",
    "#     return score_df"
   ]
  },
  {
   "cell_type": "code",
   "execution_count": 75,
   "metadata": {
    "executionInfo": {
     "elapsed": 810,
     "status": "ok",
     "timestamp": 1666773230872,
     "user": {
      "displayName": "김태종",
      "userId": "09259876720802222860"
     },
     "user_tz": -540
    },
    "id": "-M9Gre1Kyt5m"
   },
   "outputs": [],
   "source": [
    "# # 8차 시도\n",
    "# y_train = train['target'] \n",
    "\n",
    "# X_train = train[[\"year\",\"month\",\"day\",\"day_of_week\", \"time_category\",\"road_in_use\", \"road_rating\", \"weight_restricted\",\"start_latitude\", \"start_longitude\", \"end_latitude\",\"end_longitude\",\"end_turn_restricted\",\"distance\"]]\n",
    "\n",
    "# Test = test[[\"year\",\"month\",\"day\",\"day_of_week\", \"time_category\",\"road_in_use\", \"road_rating\", \"weight_restricted\",\"start_latitude\", \"start_longitude\", \"end_latitude\",\"end_longitude\",\"end_turn_restricted\",\"distance\"]]\n",
    "# print(X_train.shape)\n",
    "# print(y_train.shape)\n",
    "\n",
    "# # 원핫인코딩\n",
    "# X_train = pd.get_dummies(X_train, columns = [\"road_rating\",\"weight_restricted\"])\n",
    "# Test = pd.get_dummies(test, columns = [\"road_rating\",\"weight_restricted\"])\n",
    "\n",
    "# get_scores(models, X_train, y_train)"
   ]
  },
  {
   "cell_type": "markdown",
   "metadata": {
    "id": "bsMAcS6soeFx"
   },
   "source": [
    "__9차시도__\n",
    "1. month_value 피처 추가  \n",
    "    - 7월만 유독 다른 경향을 보여줘서 7월과 7월이 아닌 달로 분리해서 0, 1로 원핫인코딩 함 \n",
    "\n",
    "2. day_of_week 피처 삭제"
   ]
  },
  {
   "cell_type": "code",
   "execution_count": 76,
   "metadata": {
    "executionInfo": {
     "elapsed": 488,
     "status": "ok",
     "timestamp": 1666773231359,
     "user": {
      "displayName": "김태종",
      "userId": "09259876720802222860"
     },
     "user_tz": -540
    },
    "id": "C3GbLXckoumb"
   },
   "outputs": [],
   "source": [
    "def m_value(x):\n",
    "    if x == 7:\n",
    "        return 1\n",
    "    else :\n",
    "        return 0\n",
    "\n",
    "train[\"month_value\"] = train[\"month\"].apply(m_value)\n",
    "test[\"month_value\"] = test[\"month\"].apply(m_value)"
   ]
  },
  {
   "cell_type": "code",
   "execution_count": 77,
   "metadata": {
    "executionInfo": {
     "elapsed": 4,
     "status": "ok",
     "timestamp": 1666773231359,
     "user": {
      "displayName": "김태종",
      "userId": "09259876720802222860"
     },
     "user_tz": -540
    },
    "id": "iJGrIHUuoeoQ"
   },
   "outputs": [],
   "source": [
    "# # 9차 시도\n",
    "# y_train = train['target'] \n",
    "\n",
    "# X_train = train[[\"year\",\"month\",\"day\", \"month_value\",\"time_category\", \"road_rating\", \"weight_restricted\",\"start_latitude\", \"start_longitude\", \"end_latitude\",\"end_longitude\",\"end_turn_restricted\",\"distance\"]]\n",
    "\n",
    "# Test = test[[\"year\",\"month\",\"day\",\"month_value\", \"time_category\", \"road_rating\", \"weight_restricted\",\"start_latitude\", \"start_longitude\", \"end_latitude\",\"end_longitude\",\"end_turn_restricted\",\"distance\"]]\n",
    "# print(X_train.shape)\n",
    "# print(y_train.shape)\n",
    "\n",
    "# # 원핫인코딩\n",
    "# X_train = pd.get_dummies(X_train, columns = [\"road_rating\",\"weight_restricted\"])\n",
    "# Test = pd.get_dummies(test, columns = [\"road_rating\",\"weight_restricted\"])\n",
    "\n",
    "# get_scores(models, X_train, y_train)"
   ]
  },
  {
   "cell_type": "markdown",
   "metadata": {
    "id": "hhwmcdDNrEUH"
   },
   "source": [
    "__10차 시도__\n",
    "1. month 삭제"
   ]
  },
  {
   "cell_type": "code",
   "execution_count": 78,
   "metadata": {
    "executionInfo": {
     "elapsed": 3,
     "status": "ok",
     "timestamp": 1666773231359,
     "user": {
      "displayName": "김태종",
      "userId": "09259876720802222860"
     },
     "user_tz": -540
    },
    "id": "4Ic93sARrEFr"
   },
   "outputs": [],
   "source": [
    "# # 10차 시도\n",
    "# y_train = train['target'] \n",
    "\n",
    "# X_train = train[[\"year\",\"day\", \"month_value\",\"time_category\", \"road_rating\", \"weight_restricted\",\"start_latitude\", \"start_longitude\", \"end_latitude\",\"end_longitude\",\"end_turn_restricted\",\"distance\"]]\n",
    "\n",
    "# Test = test[[\"year\",\"day\",\"month_value\", \"time_category\", \"road_rating\", \"weight_restricted\",\"start_latitude\", \"start_longitude\", \"end_latitude\",\"end_longitude\",\"end_turn_restricted\",\"distance\"]]\n",
    "# print(X_train.shape)\n",
    "# print(y_train.shape)\n",
    "\n",
    "# # 원핫인코딩\n",
    "# X_train = pd.get_dummies(X_train, columns = [\"road_rating\",\"weight_restricted\"])\n",
    "# Test = pd.get_dummies(test, columns = [\"road_rating\",\"weight_restricted\"])\n",
    "\n",
    "# get_scores(models, X_train, y_train)"
   ]
  },
  {
   "cell_type": "markdown",
   "metadata": {
    "id": "m1UnqEdisza0"
   },
   "source": [
    "__11차 시도__\n",
    "1. multi_linked, connect_code 분석\n",
    "\n",
    "\n",
    "\n",
    "MAE  \n",
    "LightGBM\t3.951884"
   ]
  },
  {
   "cell_type": "code",
   "execution_count": 79,
   "metadata": {
    "executionInfo": {
     "elapsed": 4,
     "status": "ok",
     "timestamp": 1666773231360,
     "user": {
      "displayName": "김태종",
      "userId": "09259876720802222860"
     },
     "user_tz": -540
    },
    "id": "DKmv_0u0s6a3"
   },
   "outputs": [],
   "source": [
    "# print(train[\"multi_linked\"].unique())\n",
    "# print(train[\"connect_code\"].unique())"
   ]
  },
  {
   "cell_type": "code",
   "execution_count": 80,
   "metadata": {
    "executionInfo": {
     "elapsed": 4,
     "status": "ok",
     "timestamp": 1666773231360,
     "user": {
      "displayName": "김태종",
      "userId": "09259876720802222860"
     },
     "user_tz": -540
    },
    "id": "saYZ3MnVs6X7"
   },
   "outputs": [],
   "source": [
    "# a = train.groupby([\"multi_linked\",\"connect_code\"])[\"target\"].mean()\n",
    "# a.unstack()"
   ]
  },
  {
   "cell_type": "code",
   "execution_count": 81,
   "metadata": {
    "executionInfo": {
     "elapsed": 4,
     "status": "ok",
     "timestamp": 1666773231360,
     "user": {
      "displayName": "김태종",
      "userId": "09259876720802222860"
     },
     "user_tz": -540
    },
    "id": "6Kn5MH1NvDW4"
   },
   "outputs": [],
   "source": [
    "train[\"multi_connect_code\"] = train['multi_linked'] + train['connect_code']\n",
    "test[\"multi_connect_code\"] = test['multi_linked'] + test['connect_code']"
   ]
  },
  {
   "cell_type": "code",
   "execution_count": 82,
   "metadata": {
    "executionInfo": {
     "elapsed": 3,
     "status": "ok",
     "timestamp": 1666773231360,
     "user": {
      "displayName": "김태종",
      "userId": "09259876720802222860"
     },
     "user_tz": -540
    },
    "id": "f5Z1no3evE9B"
   },
   "outputs": [],
   "source": [
    "# # 11차 시도\n",
    "# y_train = train['target'] \n",
    "\n",
    "# X_train = train[[\"year\",\"day\", \"month\",\"time_category\", \"road_rating\", \"weight_restricted\",\"multi_connect_code\",\"start_latitude\", \"start_longitude\", \"end_latitude\",\"end_longitude\",\"end_turn_restricted\",\"distance\"]]\n",
    "\n",
    "# Test = test[[\"year\",\"day\",\"month\", \"time_category\", \"road_rating\", \"weight_restricted\",\"multi_connect_code\",\"start_latitude\", \"start_longitude\", \"end_latitude\",\"end_longitude\",\"end_turn_restricted\",\"distance\"]]\n",
    "# print(X_train.shape)\n",
    "# print(y_train.shape)\n",
    "\n",
    "# # 원핫인코딩\n",
    "# X_train = pd.get_dummies(X_train, columns = [\"road_rating\",\"weight_restricted\",\"multi_connect_code\"])\n",
    "# Test = pd.get_dummies(test, columns = [\"road_rating\",\"weight_restricted\",\"multi_connect_code\"])\n",
    "\n",
    "# get_scores(models, X_train, y_train)"
   ]
  },
  {
   "cell_type": "markdown",
   "metadata": {
    "id": "0W4WaMmXxHxo"
   },
   "source": [
    "__12차 시도__\n",
    "1. time_category 삭제\n",
    "\n",
    "MAE  \n",
    "LightGBM\t3.694648"
   ]
  },
  {
   "cell_type": "code",
   "execution_count": 83,
   "metadata": {
    "executionInfo": {
     "elapsed": 8,
     "status": "ok",
     "timestamp": 1666773231972,
     "user": {
      "displayName": "김태종",
      "userId": "09259876720802222860"
     },
     "user_tz": -540
    },
    "id": "wNjoyzfuxJc0"
   },
   "outputs": [],
   "source": [
    "# # 12차 시도\n",
    "# y_train = train['target'] \n",
    "\n",
    "# X_train = train[[\"year\",\"day\", \"month\", \"base_hour\",\"road_rating\", \"weight_restricted\",\"multi_connect_code\",\"start_latitude\", \"start_longitude\", \"end_latitude\",\"end_longitude\",\"end_turn_restricted\",\"distance\"]]\n",
    "\n",
    "# Test = test[[\"year\",\"day\",\"month\", \"base_hour\",\"road_rating\", \"weight_restricted\",\"multi_connect_code\",\"start_latitude\", \"start_longitude\", \"end_latitude\",\"end_longitude\",\"end_turn_restricted\",\"distance\"]]\n",
    "# print(X_train.shape)\n",
    "# print(y_train.shape)\n",
    "\n",
    "# # 원핫인코딩\n",
    "# X_train = pd.get_dummies(X_train, columns = [\"road_rating\",\"weight_restricted\",\"multi_connect_code\"])\n",
    "# Test = pd.get_dummies(test, columns = [\"road_rating\",\"weight_restricted\",\"multi_connect_code\"])\n",
    "\n",
    "# get_scores(models, X_train, y_train)"
   ]
  },
  {
   "cell_type": "markdown",
   "metadata": {
    "id": "E6Fpnw9E05Ap"
   },
   "source": [
    "__13차 시도__\n",
    "1. maximum_speed_limit 피처 추가"
   ]
  },
  {
   "cell_type": "code",
   "execution_count": 84,
   "metadata": {
    "executionInfo": {
     "elapsed": 7,
     "status": "ok",
     "timestamp": 1666773231972,
     "user": {
      "displayName": "김태종",
      "userId": "09259876720802222860"
     },
     "user_tz": -540
    },
    "id": "BTNB7wLl040W"
   },
   "outputs": [],
   "source": [
    "# # 13차 시도\n",
    "# y_train = train['target'] \n",
    "\n",
    "# X_train = train[[\"year\",\"day\", \"month\", \"base_hour\",\"road_rating\", \"maximum_speed_limit\", \"weight_restricted\",\"multi_connect_code\",\"start_latitude\", \"start_longitude\", \"end_latitude\",\"end_longitude\",\"end_turn_restricted\",\"distance\"]]\n",
    "\n",
    "# Test = test[[\"year\",\"day\",\"month\", \"base_hour\",\"road_rating\", \"maximum_speed_limit\",\"weight_restricted\",\"multi_connect_code\",\"start_latitude\", \"start_longitude\", \"end_latitude\",\"end_longitude\",\"end_turn_restricted\",\"distance\"]]\n",
    "# print(X_train.shape)\n",
    "# print(y_train.shape)\n",
    "\n",
    "# # 원핫인코딩\n",
    "# X_train = pd.get_dummies(X_train, columns = [\"road_rating\",\"weight_restricted\",\"multi_connect_code\",\"maximum_speed_limit\"])\n",
    "# Test = pd.get_dummies(test, columns = [\"road_rating\",\"weight_restricted\",\"multi_connect_code\",\"maximum_speed_limit\"])\n",
    "\n",
    "# get_scores(models, X_train, y_train)"
   ]
  },
  {
   "cell_type": "markdown",
   "metadata": {
    "id": "JenncoFY4OGw"
   },
   "source": [
    "__14차 시도__\n",
    "1. 시작지점 위경도 삭제\n",
    "1. 요일 추가"
   ]
  },
  {
   "cell_type": "code",
   "execution_count": 85,
   "metadata": {
    "executionInfo": {
     "elapsed": 7,
     "status": "ok",
     "timestamp": 1666773231972,
     "user": {
      "displayName": "김태종",
      "userId": "09259876720802222860"
     },
     "user_tz": -540
    },
    "id": "ZcVEvuzc4TiT"
   },
   "outputs": [],
   "source": [
    "# # 14차 시도\n",
    "# y_train = train['target'] \n",
    "\n",
    "# X_train = train[[\"year\",\"day\", \"month\",\"day_of_week\", \"base_hour\",\"road_rating\", \"maximum_speed_limit\", \"weight_restricted\",\"multi_connect_code\", \"end_latitude\",\"end_longitude\",\"end_turn_restricted\",\"distance\"]]\n",
    "\n",
    "# Test = test[[\"year\",\"day\",\"month\", \"day_of_week\",\"base_hour\",\"road_rating\", \"maximum_speed_limit\",\"weight_restricted\",\"multi_connect_code\", \"end_latitude\",\"end_longitude\",\"end_turn_restricted\",\"distance\"]]\n",
    "# print(X_train.shape)\n",
    "# print(y_train.shape)\n",
    "\n",
    "# # 원핫인코딩\n",
    "# X_train = pd.get_dummies(X_train, columns = [\"road_rating\",\"weight_restricted\",\"multi_connect_code\",\"maximum_speed_limit\",\"day_of_week\"])\n",
    "# Test = pd.get_dummies(test, columns = [\"road_rating\",\"weight_restricted\",\"multi_connect_code\",\"maximum_speed_limit\",\"day_of_week\"])\n",
    "\n",
    "# get_scores(models, X_train, y_train)"
   ]
  },
  {
   "cell_type": "markdown",
   "metadata": {
    "id": "_iVEmXcK7132"
   },
   "source": [
    "__15차 시도__\n",
    "1. 시작지점 다시 추가"
   ]
  },
  {
   "cell_type": "code",
   "execution_count": 86,
   "metadata": {
    "executionInfo": {
     "elapsed": 8,
     "status": "ok",
     "timestamp": 1666773231973,
     "user": {
      "displayName": "김태종",
      "userId": "09259876720802222860"
     },
     "user_tz": -540
    },
    "id": "JLw6tF4j75j9"
   },
   "outputs": [],
   "source": [
    "# # 15차 시도\n",
    "# y_train = train['target'] \n",
    "\n",
    "# X_train = train[[\"year\",\"day\", \"month\",\"day_of_week\", \"base_hour\",\"road_rating\", \"maximum_speed_limit\", \"weight_restricted\",\"multi_connect_code\", \"start_latitude\", \"start_longitude\", \"end_latitude\",\"end_longitude\",\"end_turn_restricted\",\"distance\"]]\n",
    "\n",
    "# Test = test[[\"year\",\"day\",\"month\", \"day_of_week\",\"base_hour\",\"road_rating\", \"maximum_speed_limit\",\"weight_restricted\",\"multi_connect_code\", \"start_latitude\", \"start_longitude\", \"end_latitude\",\"end_longitude\",\"end_turn_restricted\",\"distance\"]]\n",
    "# print(X_train.shape)\n",
    "# print(y_train.shape)\n",
    "\n",
    "# # 원핫인코딩\n",
    "# X_train = pd.get_dummies(X_train, columns = [\"road_rating\",\"weight_restricted\",\"multi_connect_code\",\"maximum_speed_limit\",\"day_of_week\"])\n",
    "# Test = pd.get_dummies(test, columns = [\"road_rating\",\"weight_restricted\",\"multi_connect_code\",\"maximum_speed_limit\",\"day_of_week\"])\n",
    "\n",
    "# get_scores(models, X_train, y_train)"
   ]
  },
  {
   "cell_type": "markdown",
   "metadata": {
    "id": "sOs9bAIQ9y8x"
   },
   "source": [
    "__16차 시도__\n",
    "1. time_category 추가 : 결과 향상\n",
    "1. distance_std 추가 : 거리 정규화"
   ]
  },
  {
   "cell_type": "code",
   "execution_count": 87,
   "metadata": {
    "executionInfo": {
     "elapsed": 8,
     "status": "ok",
     "timestamp": 1666773231973,
     "user": {
      "displayName": "김태종",
      "userId": "09259876720802222860"
     },
     "user_tz": -540
    },
    "id": "hnpCP8s_9zUp"
   },
   "outputs": [],
   "source": [
    "# # 16차 시도\n",
    "# y_train = train['target'] \n",
    "\n",
    "# X_train = train[[\"year\",\"day\", \"month\",\"day_of_week\", \"base_hour\",\"time_category\",\"road_rating\", \"maximum_speed_limit\", \"weight_restricted\",\"multi_connect_code\", \"start_latitude\", \"start_longitude\", \"end_latitude\",\"end_longitude\",\"end_turn_restricted\",\"distance_std\"]]\n",
    "\n",
    "# Test = test[[\"year\",\"day\",\"month\", \"day_of_week\",\"base_hour\",\"time_category\",\"road_rating\", \"maximum_speed_limit\",\"weight_restricted\",\"multi_connect_code\", \"start_latitude\", \"start_longitude\", \"end_latitude\",\"end_longitude\",\"end_turn_restricted\",\"distance_std\"]]\n",
    "# print(X_train.shape)\n",
    "# print(y_train.shape)\n",
    "\n",
    "# # 원핫인코딩\n",
    "# X_train = pd.get_dummies(X_train, columns = [\"road_rating\",\"weight_restricted\",\"multi_connect_code\",\"maximum_speed_limit\",\"day_of_week\"])\n",
    "# Test = pd.get_dummies(test, columns = [\"road_rating\",\"weight_restricted\",\"multi_connect_code\",\"maximum_speed_limit\",\"day_of_week\"])\n",
    "\n",
    "# get_scores(models, X_train, y_train)"
   ]
  },
  {
   "cell_type": "markdown",
   "metadata": {
    "id": "vKUMldhhCbJ0"
   },
   "source": [
    "__17차 시도__\n",
    "1. maximum_speed_limit : 원핫 인코딩 제거"
   ]
  },
  {
   "cell_type": "code",
   "execution_count": 88,
   "metadata": {
    "executionInfo": {
     "elapsed": 8,
     "status": "ok",
     "timestamp": 1666773231973,
     "user": {
      "displayName": "김태종",
      "userId": "09259876720802222860"
     },
     "user_tz": -540
    },
    "id": "xof6PoTICpCe"
   },
   "outputs": [],
   "source": [
    "# # 17차 시도\n",
    "# y_train = train['target'] \n",
    "\n",
    "# X_train = train[[\"year\",\"day\", \"month\",\"day_of_week\", \"base_hour\",\"time_category\",\"road_rating\", \"maximum_speed_limit\", \"weight_restricted\",\"multi_connect_code\", \"start_latitude\", \"start_longitude\", \"end_latitude\",\"end_longitude\",\"end_turn_restricted\",\"distance_std\"]]\n",
    "\n",
    "# Test = test[[\"year\",\"day\",\"month\", \"day_of_week\",\"base_hour\",\"time_category\",\"road_rating\", \"maximum_speed_limit\",\"weight_restricted\",\"multi_connect_code\", \"start_latitude\", \"start_longitude\", \"end_latitude\",\"end_longitude\",\"end_turn_restricted\",\"distance_std\"]]\n",
    "# print(X_train.shape)\n",
    "# print(y_train.shape)\n",
    "\n",
    "# # 원핫인코딩\n",
    "# X_train = pd.get_dummies(X_train, columns = [\"road_rating\",\"weight_restricted\",\"multi_connect_code\",\"day_of_week\"])\n",
    "# Test = pd.get_dummies(test, columns = [\"road_rating\",\"weight_restricted\",\"multi_connect_code\",\"day_of_week\"])\n",
    "\n",
    "# get_scores(models, X_train, y_train)"
   ]
  },
  {
   "cell_type": "markdown",
   "metadata": {
    "id": "DT6XKt08RYK3"
   },
   "source": [
    "__18차 시도__\n",
    "n_estimators == 5000"
   ]
  },
  {
   "cell_type": "code",
   "execution_count": 89,
   "metadata": {
    "executionInfo": {
     "elapsed": 8,
     "status": "ok",
     "timestamp": 1666773231973,
     "user": {
      "displayName": "김태종",
      "userId": "09259876720802222860"
     },
     "user_tz": -540
    },
    "id": "6vK9NKc-RYBB"
   },
   "outputs": [],
   "source": [
    "# random_state=2020        # 하지만 우리는 이렇게 고정값을 세팅해 두겠습니다. \n",
    "\n",
    "# gboost = GradientBoostingRegressor(random_state=random_state)\n",
    "# xgboost = XGBRegressor(learning_rate = 0.05,max_depth = 10, n_estimators = 10000, random_state=random_state)\n",
    "# lightgbm = LGBMRegressor(learning_rate = 0.05, max_depth = 10, n_estimators = 5000,random_state=random_state)\n",
    "# rdforest = RandomForestRegressor(random_state=random_state)\n",
    "\n",
    "# models = [{'model':lightgbm, 'name':'LightGBM'}]\n",
    "\n",
    "# # 점수 평가\n",
    "# def get_scores(models, train, y):\n",
    "#     df = {}\n",
    "\n",
    "#     for model in models:\n",
    "#         # 모델 이름 획득\n",
    "#         model_name = model[\"name\"]\n",
    "\n",
    "#         # train, test 데이터셋 분리 - 여기에도 random_states를 고정합니다. \n",
    "#         X_train, X_test, y_train, y_test = train_test_split(train,\n",
    "#                                                             y,\n",
    "#                                                             random_state = random_state,\n",
    "#                                                             test_size = 0.2)\n",
    "\n",
    "#         # 모델 학습\n",
    "#         model[\"model\"].fit(X_train, y_train)\n",
    "\n",
    "#         # 예측\n",
    "#         y_pred = model[\"model\"].predict(X_test)\n",
    "\n",
    "#         # 예측 결과의 rmse값 저장\n",
    "#         df[model_name] = mean_absolute_error(y_test, y_pred)\n",
    "#         print(model_name,df[model_name])\n",
    "\n",
    "#         # data frame에 저장\n",
    "#         score_df = pd.DataFrame(df, index = [\"MAE\"]).T.sort_values(\"MAE\", ascending = False)\n",
    "#     return score_df\n",
    "\n",
    "\n",
    "# # 18차 시도\n",
    "# y_train = train['target'] \n",
    "\n",
    "# X_train = train[[\"year\",\"day\", \"month\",\"day_of_week\", \"base_hour\",\"time_category\",\"road_rating\", \"maximum_speed_limit\", \"weight_restricted\",\"multi_connect_code\", \"start_latitude\", \"start_longitude\", \"end_latitude\",\"end_longitude\",\"end_turn_restricted\",\"distance_std\"]]\n",
    "\n",
    "# Test = test[[\"year\",\"day\",\"month\", \"day_of_week\",\"base_hour\",\"time_category\",\"road_rating\", \"maximum_speed_limit\",\"weight_restricted\",\"multi_connect_code\", \"start_latitude\", \"start_longitude\", \"end_latitude\",\"end_longitude\",\"end_turn_restricted\",\"distance_std\"]]\n",
    "# print(X_train.shape)\n",
    "# print(y_train.shape)\n",
    "\n",
    "# # 원핫인코딩\n",
    "# X_train = pd.get_dummies(X_train, columns = [\"road_rating\",\"weight_restricted\",\"multi_connect_code\",\"day_of_week\"])\n",
    "# Test = pd.get_dummies(test, columns = [\"road_rating\",\"weight_restricted\",\"multi_connect_code\",\"day_of_week\"])\n",
    "\n",
    "# get_scores(models, X_train, y_train)"
   ]
  },
  {
   "cell_type": "markdown",
   "metadata": {
    "id": "Bje8HsVVYim4"
   },
   "source": [
    "__19차 시도__\n"
   ]
  },
  {
   "cell_type": "code",
   "execution_count": 90,
   "metadata": {
    "executionInfo": {
     "elapsed": 8,
     "status": "ok",
     "timestamp": 1666773231973,
     "user": {
      "displayName": "김태종",
      "userId": "09259876720802222860"
     },
     "user_tz": -540
    },
    "id": "bCXa1cMIZVNh"
   },
   "outputs": [],
   "source": [
    "# random_state=2020        # 하지만 우리는 이렇게 고정값을 세팅해 두겠습니다. \n",
    "\n",
    "# gboost = GradientBoostingRegressor(random_state=random_state)\n",
    "# xgboost = XGBRegressor(learning_rate = 0.05,max_depth = 10, n_estimators = 10000, random_state=random_state)\n",
    "# lightgbm = LGBMRegressor(learning_rate = 0.05, max_depth = 10, n_estimators = 10000,random_state=random_state)\n",
    "# rdforest = RandomForestRegressor(random_state=random_state)\n",
    "\n",
    "# models = [{'model':lightgbm, 'name':'LightGBM'}]\n",
    "\n",
    "# # 점수 평가\n",
    "# def get_scores(models, train, y):\n",
    "#     df = {}\n",
    "\n",
    "#     for model in models:\n",
    "#         # 모델 이름 획득\n",
    "#         model_name = model[\"name\"]\n",
    "\n",
    "#         # train, test 데이터셋 분리 - 여기에도 random_states를 고정합니다. \n",
    "#         X_train, X_test, y_train, y_test = train_test_split(train,\n",
    "#                                                             y,\n",
    "#                                                             random_state = random_state,\n",
    "#                                                             test_size = 0.2)\n",
    "\n",
    "#         # 모델 학습\n",
    "#         model[\"model\"].fit(X_train, y_train)\n",
    "\n",
    "#         # 예측\n",
    "#         y_pred = model[\"model\"].predict(X_test)\n",
    "\n",
    "#         # 예측 결과의 rmse값 저장\n",
    "#         df[model_name] = mean_absolute_error(y_test, y_pred)\n",
    "#         print(model_name,df[model_name])\n",
    "\n",
    "#         # data frame에 저장\n",
    "#         score_df = pd.DataFrame(df, index = [\"MAE\"]).T.sort_values(\"MAE\", ascending = False)\n",
    "#     return score_df\n",
    "\n",
    "\n",
    "# # 19차 시도\n",
    "# y_train = train['target'] \n",
    "\n",
    "# X_train = train[[\"year\",\"day\", \"month\",\"day_of_week\", \"base_hour\",\"time_category\",\"road_rating\", \"maximum_speed_limit\", \"weight_restricted\",\"multi_connect_code\", \"start_latitude\", \"start_longitude\", \"end_latitude\",\"end_longitude\",\"end_turn_restricted\",\"distance_std\"]]\n",
    "\n",
    "# Test = test[[\"year\",\"day\",\"month\", \"day_of_week\",\"base_hour\",\"time_category\",\"road_rating\", \"maximum_speed_limit\",\"weight_restricted\",\"multi_connect_code\", \"start_latitude\", \"start_longitude\", \"end_latitude\",\"end_longitude\",\"end_turn_restricted\",\"distance_std\"]]\n",
    "\n",
    "# # 원핫인코딩\n",
    "# X_train = pd.get_dummies(X_train, columns = [\"road_rating\",\"weight_restricted\",\"multi_connect_code\",\"day_of_week\"])\n",
    "# Test = pd.get_dummies(Test, columns = [\"road_rating\",\"weight_restricted\",\"multi_connect_code\",\"day_of_week\"])\n",
    "\n",
    "# print(X_train.shape)\n",
    "# print(y_train.shape)\n",
    "# print(Test.shape)\n",
    "\n",
    "# if X_train.shape[1] != Test.shape[1]:\n",
    "#     get_scores(models, X_train, y_train)"
   ]
  },
  {
   "cell_type": "code",
   "execution_count": 91,
   "metadata": {
    "executionInfo": {
     "elapsed": 8,
     "status": "ok",
     "timestamp": 1666773231973,
     "user": {
      "displayName": "김태종",
      "userId": "09259876720802222860"
     },
     "user_tz": -540
    },
    "id": "cvshnaIGj4TE"
   },
   "outputs": [],
   "source": [
    "# Test = test[[\"year\",\"day\", \"month\",\"day_of_week\", \"base_hour\",\"time_category\",\"road_rating\", \"maximum_speed_limit\", \"weight_restricted\",\"multi_connect_code\", \"start_latitude\", \"start_longitude\", \"end_latitude\",\"end_longitude\",\"end_turn_restricted\",\"distance_std\"]]\n",
    "# Test = pd.get_dummies(Test, columns = [\"road_rating\",\"weight_restricted\",\"multi_connect_code\",\"day_of_week\"])\n",
    "\n",
    "# print(X_train.shape)\n",
    "# print(Test.shape)"
   ]
  },
  {
   "cell_type": "code",
   "execution_count": 92,
   "metadata": {
    "executionInfo": {
     "elapsed": 8,
     "status": "ok",
     "timestamp": 1666773231973,
     "user": {
      "displayName": "김태종",
      "userId": "09259876720802222860"
     },
     "user_tz": -540
    },
    "id": "U5lyTpZvkc8a"
   },
   "outputs": [],
   "source": [
    "# X_train.columns"
   ]
  },
  {
   "cell_type": "code",
   "execution_count": 93,
   "metadata": {
    "executionInfo": {
     "elapsed": 7,
     "status": "ok",
     "timestamp": 1666773231973,
     "user": {
      "displayName": "김태종",
      "userId": "09259876720802222860"
     },
     "user_tz": -540
    },
    "id": "Ohh6sbrZka7z"
   },
   "outputs": [],
   "source": [
    "# Test.columns"
   ]
  },
  {
   "cell_type": "code",
   "execution_count": 94,
   "metadata": {
    "executionInfo": {
     "elapsed": 7,
     "status": "ok",
     "timestamp": 1666773231973,
     "user": {
      "displayName": "김태종",
      "userId": "09259876720802222860"
     },
     "user_tz": -540
    },
    "id": "X2iDsDjYkt4n"
   },
   "outputs": [],
   "source": [
    "# Test[\"multi_connect_code_0\"]"
   ]
  },
  {
   "cell_type": "markdown",
   "metadata": {
    "id": "2OYILkm9k_CB"
   },
   "source": [
    "> multi_connect_code_0가 test에서는 하나밖에 없음\n"
   ]
  },
  {
   "cell_type": "markdown",
   "metadata": {
    "id": "CgOGfTSZlfPc"
   },
   "source": [
    "__20차 시도__  \n",
    "multi_connect_code 제거\n",
    "\n",
    "LightGBM 3.107166897599904\n",
    "\n",
    "제출 점수 : 3.36165"
   ]
  },
  {
   "cell_type": "code",
   "execution_count": 95,
   "metadata": {
    "executionInfo": {
     "elapsed": 8,
     "status": "ok",
     "timestamp": 1666773231974,
     "user": {
      "displayName": "김태종",
      "userId": "09259876720802222860"
     },
     "user_tz": -540
    },
    "id": "ixwvGsytlfEA"
   },
   "outputs": [],
   "source": [
    "# random_state=2020        # 하지만 우리는 이렇게 고정값을 세팅해 두겠습니다. \n",
    "\n",
    "# gboost = GradientBoostingRegressor(random_state=random_state)\n",
    "# xgboost = XGBRegressor(learning_rate = 0.05,max_depth = 10, n_estimators = 10000, random_state=random_state)\n",
    "# lightgbm = LGBMRegressor(learning_rate = 0.05, max_depth = 10, n_estimators = 10000,random_state=random_state)\n",
    "# rdforest = RandomForestRegressor(random_state=random_state)\n",
    "\n",
    "# models = [{'model':lightgbm, 'name':'LightGBM'}]\n",
    "\n",
    "# # 점수 평가\n",
    "# def get_scores(models, train, y):\n",
    "#     df = {}\n",
    "\n",
    "#     for model in models:\n",
    "#         # 모델 이름 획득\n",
    "#         model_name = model[\"name\"]\n",
    "\n",
    "#         # train, test 데이터셋 분리 - 여기에도 random_states를 고정합니다. \n",
    "#         X_train, X_test, y_train, y_test = train_test_split(train,\n",
    "#                                                             y,\n",
    "#                                                             random_state = random_state,\n",
    "#                                                             test_size = 0.2)\n",
    "\n",
    "#         # 모델 학습\n",
    "#         model[\"model\"].fit(X_train, y_train)\n",
    "\n",
    "#         # 예측\n",
    "#         y_pred = model[\"model\"].predict(X_test)\n",
    "\n",
    "#         # 예측 결과의 rmse값 저장\n",
    "#         df[model_name] = mean_absolute_error(y_test, y_pred)\n",
    "#         print(model_name,df[model_name])\n",
    "\n",
    "#         # data frame에 저장\n",
    "#         score_df = pd.DataFrame(df, index = [\"MAE\"]).T.sort_values(\"MAE\", ascending = False)\n",
    "#     return score_df\n",
    "\n",
    "\n",
    "# # 20차 시도\n",
    "# y_train = train['target'] \n",
    "\n",
    "# X_train = train[[\"year\",\"day\", \"month\",\"day_of_week\", \"base_hour\",\"time_category\",\"road_rating\",  \"weight_restricted\",\"multi_connect_code\", \"start_latitude\", \"start_longitude\", \"end_latitude\",\"end_longitude\",\"end_turn_restricted\",\"distance_std\"]]\n",
    "\n",
    "# Test = test[[\"year\",\"day\",\"month\", \"day_of_week\",\"base_hour\",\"time_category\",\"road_rating\", \"weight_restricted\",\"multi_connect_code\", \"start_latitude\", \"start_longitude\", \"end_latitude\",\"end_longitude\",\"end_turn_restricted\",\"distance_std\"]]\n",
    "\n",
    "# # 원핫인코딩\n",
    "# X_train = pd.get_dummies(X_train, columns = [\"road_rating\",\"weight_restricted\",\"day_of_week\"])\n",
    "# Test = pd.get_dummies(Test, columns = [\"road_rating\",\"weight_restricted\",\"day_of_week\"])\n",
    "\n",
    "# print(X_train.shape)\n",
    "# print(y_train.shape)\n",
    "# print(Test.shape)\n",
    "\n",
    "# if X_train.shape[1] == Test.shape[1]:\n",
    "#     get_scores(models, X_train, y_train)"
   ]
  },
  {
   "cell_type": "markdown",
   "metadata": {
    "id": "gzbwaEEIyPIJ"
   },
   "source": [
    "__21차 시도__  \n",
    "multi_connect_code 삭제"
   ]
  },
  {
   "cell_type": "code",
   "execution_count": 96,
   "metadata": {
    "executionInfo": {
     "elapsed": 8,
     "status": "ok",
     "timestamp": 1666773231974,
     "user": {
      "displayName": "김태종",
      "userId": "09259876720802222860"
     },
     "user_tz": -540
    },
    "id": "z8qs3fO6yO5k"
   },
   "outputs": [],
   "source": [
    "# print(train[\"road_rating\"].unique())\n",
    "# print(test[\"road_rating\"].unique())"
   ]
  },
  {
   "cell_type": "code",
   "execution_count": 97,
   "metadata": {
    "executionInfo": {
     "elapsed": 8,
     "status": "ok",
     "timestamp": 1666773231974,
     "user": {
      "displayName": "김태종",
      "userId": "09259876720802222860"
     },
     "user_tz": -540
    },
    "id": "O0ZZpcfEy1vE"
   },
   "outputs": [],
   "source": [
    "# print(train[\"weight_restricted\"].unique())\n",
    "# print(test[\"weight_restricted\"].unique())"
   ]
  },
  {
   "cell_type": "code",
   "execution_count": 98,
   "metadata": {
    "executionInfo": {
     "elapsed": 8,
     "status": "ok",
     "timestamp": 1666773231974,
     "user": {
      "displayName": "김태종",
      "userId": "09259876720802222860"
     },
     "user_tz": -540
    },
    "id": "oAjceg2VzL-a"
   },
   "outputs": [],
   "source": [
    "# random_state=2020        # 하지만 우리는 이렇게 고정값을 세팅해 두겠습니다. \n",
    "\n",
    "# gboost = GradientBoostingRegressor(random_state=random_state)\n",
    "# xgboost = XGBRegressor(learning_rate = 0.05,max_depth = 10, n_estimators = 10000, random_state=random_state)\n",
    "# lightgbm = LGBMRegressor(learning_rate = 0.05, max_depth = 10, n_estimators = 10000,random_state=random_state)\n",
    "# rdforest = RandomForestRegressor(random_state=random_state)\n",
    "\n",
    "# models = [{'model':lightgbm, 'name':'LightGBM'}]\n",
    "\n",
    "# # 점수 평가\n",
    "# def get_scores(models, train, y):\n",
    "#     df = {}\n",
    "\n",
    "#     for model in models:\n",
    "#         # 모델 이름 획득\n",
    "#         model_name = model[\"name\"]\n",
    "\n",
    "#         # train, test 데이터셋 분리 - 여기에도 random_states를 고정합니다. \n",
    "#         X_train, X_test, y_train, y_test = train_test_split(train,\n",
    "#                                                             y,\n",
    "#                                                             random_state = random_state,\n",
    "#                                                             test_size = 0.2)\n",
    "\n",
    "#         # 모델 학습\n",
    "#         model[\"model\"].fit(X_train, y_train)\n",
    "\n",
    "#         # 예측\n",
    "#         y_pred = model[\"model\"].predict(X_test)\n",
    "\n",
    "#         # 예측 결과의 rmse값 저장\n",
    "#         df[model_name] = mean_absolute_error(y_test, y_pred)\n",
    "#         print(model_name,df[model_name])\n",
    "\n",
    "#         # data frame에 저장\n",
    "#         score_df = pd.DataFrame(df, index = [\"MAE\"]).T.sort_values(\"MAE\", ascending = False)\n",
    "#     return score_df\n",
    "\n",
    "\n",
    "# # 21차 시도\n",
    "# y_train = train['target'] \n",
    "\n",
    "# X_train = train[[\"year\",\"day\", \"month\",\"day_of_week\", \"base_hour\",\"time_category\",\"road_rating\",  \"weight_restricted\", \"start_latitude\", \"start_longitude\", \"end_latitude\",\"end_longitude\",\"end_turn_restricted\",\"distance_std\"]]\n",
    "\n",
    "# Test = test[[\"year\",\"day\",\"month\", \"day_of_week\",\"base_hour\",\"time_category\",\"road_rating\", \"weight_restricted\", \"start_latitude\", \"start_longitude\", \"end_latitude\",\"end_longitude\",\"end_turn_restricted\",\"distance_std\"]]\n",
    "\n",
    "# # 원핫인코딩\n",
    "# X_train = pd.get_dummies(X_train, columns = [\"road_rating\",\"weight_restricted\",\"day_of_week\"])\n",
    "# Test = pd.get_dummies(Test, columns = [\"road_rating\",\"weight_restricted\",\"day_of_week\"])\n",
    "\n",
    "# print(X_train.shape)\n",
    "# print(y_train.shape)\n",
    "# print(Test.shape)\n",
    "\n",
    "# if X_train.shape[1] == Test.shape[1]:\n",
    "#     get_scores(models, X_train, y_train)"
   ]
  },
  {
   "cell_type": "markdown",
   "metadata": {
    "id": "OcSG3bifZFyG"
   },
   "source": [
    "__22차 시도__  \n",
    "1. lane_count를 변형한 lane_val 피처 추가\n",
    "1. year+month 피처 추가\n",
    "1. day_of_week + base_hour 피처 추가\n",
    "1. road_type 추가  \n",
    "> 각각의 피처를 하나씩 넣어보면서 실험 해보자  \n",
    "n_estimator= 1000으로 변경"
   ]
  },
  {
   "cell_type": "code",
   "execution_count": 99,
   "metadata": {
    "executionInfo": {
     "elapsed": 7,
     "status": "ok",
     "timestamp": 1666773231974,
     "user": {
      "displayName": "김태종",
      "userId": "09259876720802222860"
     },
     "user_tz": -540
    },
    "id": "BZt3j17tZFmB"
   },
   "outputs": [],
   "source": [
    "# random_state=2020        # 하지만 우리는 이렇게 고정값을 세팅해 두겠습니다. \n",
    "\n",
    "# gboost = GradientBoostingRegressor(random_state=random_state)\n",
    "# xgboost = XGBRegressor(learning_rate = 0.05,max_depth = 10, n_estimators = 10000, random_state=random_state)\n",
    "# lightgbm = LGBMRegressor(learning_rate = 0.05, max_depth = 10, n_estimators = 1000,random_state=random_state)\n",
    "# rdforest = RandomForestRegressor(random_state=random_state)\n",
    "\n",
    "# models = [{'model':lightgbm, 'name':'LightGBM'}]\n",
    "\n",
    "# # 점수 평가\n",
    "# def get_scores(models, train, y):\n",
    "#     df = {}\n",
    "\n",
    "#     for model in models:\n",
    "#         # 모델 이름 획득\n",
    "#         model_name = model[\"name\"]\n",
    "\n",
    "#         # train, test 데이터셋 분리 - 여기에도 random_states를 고정합니다. \n",
    "#         X_train, X_test, y_train, y_test = train_test_split(train,\n",
    "#                                                             y,\n",
    "#                                                             random_state = random_state,\n",
    "#                                                             test_size = 0.2)\n",
    "\n",
    "#         # 모델 학습\n",
    "#         model[\"model\"].fit(X_train, y_train)\n",
    "\n",
    "#         # 예측\n",
    "#         y_pred = model[\"model\"].predict(X_test)\n",
    "\n",
    "#         # 예측 결과의 rmse값 저장\n",
    "#         df[model_name] = mean_absolute_error(y_test, y_pred)\n",
    "#         print(model_name,df[model_name])\n",
    "\n",
    "#         # data frame에 저장\n",
    "#         score_df = pd.DataFrame(df, index = [\"MAE\"]).T.sort_values(\"MAE\", ascending = False)\n",
    "#     return score_df"
   ]
  },
  {
   "cell_type": "code",
   "execution_count": 100,
   "metadata": {
    "executionInfo": {
     "elapsed": 6,
     "status": "ok",
     "timestamp": 1666773231974,
     "user": {
      "displayName": "김태종",
      "userId": "09259876720802222860"
     },
     "user_tz": -540
    },
    "id": "4XsZ5QEoa7Yq"
   },
   "outputs": [],
   "source": [
    "# # 22차 시도- \n",
    "# y_train = train['target'] \n",
    "\n",
    "# X_train = train[[\"year\",\"day\", \"month\",\"day_of_week\", \"base_hour\",\"time_category\",\"road_rating\",  \"weight_restricted\", \"start_latitude\", \"start_longitude\", \"end_latitude\",\"end_longitude\",\"end_turn_restricted\",\"distance_std\"]]\n",
    "\n",
    "# Test = test[[\"year\",\"day\",\"month\", \"day_of_week\", \"base_hour\",\"time_category\",\"road_rating\", \"weight_restricted\", \"start_latitude\", \"start_longitude\", \"end_latitude\",\"end_longitude\",\"end_turn_restricted\",\"distance_std\"]]\n",
    "\n",
    "# # 원핫인코딩\n",
    "# # X_train = pd.get_dummies(X_train, columns = [\"road_rating\",\"weight_restricted\",\"day_of_week\"])\n",
    "# # Test = pd.get_dummies(Test, columns = [\"road_rating\",\"weight_restricted\",\"day_of_week\"])\n",
    "\n",
    "# print(X_train.shape)\n",
    "# print(y_train.shape)\n",
    "# print(Test.shape)\n",
    "\n",
    "# if X_train.shape[1] == Test.shape[1]:\n",
    "#     get_scores(models, X_train, y_train)"
   ]
  },
  {
   "cell_type": "code",
   "execution_count": 101,
   "metadata": {
    "executionInfo": {
     "elapsed": 7,
     "status": "ok",
     "timestamp": 1666773231975,
     "user": {
      "displayName": "김태종",
      "userId": "09259876720802222860"
     },
     "user_tz": -540
    },
    "id": "A8bAOV7AZFjU"
   },
   "outputs": [],
   "source": [
    "# # 22차 시도-lane_val추가\n",
    "# y_train = train['target'] \n",
    "\n",
    "# X_train = train[[\"year\",\"day\", \"month\",\"day_of_week\", \"lane_val\",\"base_hour\",\"time_category\",\"road_rating\",  \"weight_restricted\", \"start_latitude\", \"start_longitude\", \"end_latitude\",\"end_longitude\",\"end_turn_restricted\",\"distance_std\"]]\n",
    "\n",
    "# Test = test[[\"year\",\"day\",\"month\", \"day_of_week\",\"lane_val\",\"base_hour\",\"time_category\",\"road_rating\", \"weight_restricted\", \"start_latitude\", \"start_longitude\", \"end_latitude\",\"end_longitude\",\"end_turn_restricted\",\"distance_std\"]]\n",
    "\n",
    "# # 원핫인코딩\n",
    "# # X_train = pd.get_dummies(X_train, columns = [\"road_rating\",\"weight_restricted\",\"day_of_week\"])\n",
    "# # Test = pd.get_dummies(Test, columns = [\"road_rating\",\"weight_restricted\",\"day_of_week\"])\n",
    "\n",
    "# print(X_train.shape)\n",
    "# print(y_train.shape)\n",
    "# print(Test.shape)\n",
    "\n",
    "# if X_train.shape[1] == Test.shape[1]:\n",
    "#     get_scores(models, X_train, y_train)"
   ]
  },
  {
   "cell_type": "code",
   "execution_count": 102,
   "metadata": {
    "executionInfo": {
     "elapsed": 7,
     "status": "ok",
     "timestamp": 1666773231975,
     "user": {
      "displayName": "김태종",
      "userId": "09259876720802222860"
     },
     "user_tz": -540
    },
    "id": "ZwnvmAgGdOxY"
   },
   "outputs": [],
   "source": [
    "def month_c(x):\n",
    "    if (x != \"10\")&(x != \"11\")&(x != \"12\"):\n",
    "        return \"0\"+x\n",
    "    else:\n",
    "        return x"
   ]
  },
  {
   "cell_type": "code",
   "execution_count": 103,
   "metadata": {
    "executionInfo": {
     "elapsed": 7777,
     "status": "ok",
     "timestamp": 1666773239745,
     "user": {
      "displayName": "김태종",
      "userId": "09259876720802222860"
     },
     "user_tz": -540
    },
    "id": "YrYH9YtxZFgi"
   },
   "outputs": [],
   "source": [
    "# year+month 합치기\n",
    "train[\"year_str\"] = train[\"year\"].astype(str)\n",
    "train[\"month_str\"] = train[\"month\"].astype(str)\n",
    "train[\"month_str\"] = train[\"month_str\"].apply(month_c)\n",
    "train[\"year_month\"] = train[\"year_str\"] + train[\"month_str\"]\n",
    "train[\"year_month\"] = train[\"year_month\"].astype(int)\n",
    "\n",
    "test[\"year_str\"] = test[\"year\"].astype(str)\n",
    "test[\"month_str\"] = test[\"month\"].astype(str)\n",
    "test[\"month_str\"] = test[\"month_str\"].apply(month_c)\n",
    "test[\"year_month\"] = test[\"year_str\"] + test[\"month_str\"]\n",
    "test[\"year_month\"] = test[\"year_month\"].astype(int)"
   ]
  },
  {
   "cell_type": "code",
   "execution_count": 104,
   "metadata": {
    "executionInfo": {
     "elapsed": 11,
     "status": "ok",
     "timestamp": 1666773239745,
     "user": {
      "displayName": "김태종",
      "userId": "09259876720802222860"
     },
     "user_tz": -540
    },
    "id": "a_9ZxcSKZFds"
   },
   "outputs": [],
   "source": [
    "# # 22차 시도-lane_val추가 + (year+_month)추가, 원래 year, month 삭제\n",
    "# y_train = train['target'] \n",
    "\n",
    "# X_train = train[[\"year_month\",\"day\", \"day_of_week\", \"lane_val\",\"base_hour\",\"time_category\",\"road_rating\",  \"weight_restricted\", \"start_latitude\", \"start_longitude\", \"end_latitude\",\"end_longitude\",\"end_turn_restricted\",\"distance_std\"]]\n",
    "\n",
    "# Test = test[[\"year_month\",\"day\", \"day_of_week\",\"lane_val\",\"base_hour\",\"time_category\",\"road_rating\", \"weight_restricted\", \"start_latitude\", \"start_longitude\", \"end_latitude\",\"end_longitude\",\"end_turn_restricted\",\"distance_std\"]]\n",
    "\n",
    "# # 원핫인코딩\n",
    "# # X_train = pd.get_dummies(X_train, columns = [\"road_rating\",\"weight_restricted\",\"day_of_week\"])\n",
    "# # Test = pd.get_dummies(Test, columns = [\"road_rating\",\"weight_restricted\",\"day_of_week\"])\n",
    "\n",
    "# print(X_train.shape)\n",
    "# print(y_train.shape)\n",
    "# print(Test.shape)\n",
    "\n",
    "# if X_train.shape[1] == Test.shape[1]:\n",
    "#     get_scores(models, X_train, y_train)"
   ]
  },
  {
   "cell_type": "code",
   "execution_count": 105,
   "metadata": {
    "executionInfo": {
     "elapsed": 10,
     "status": "ok",
     "timestamp": 1666773239745,
     "user": {
      "displayName": "김태종",
      "userId": "09259876720802222860"
     },
     "user_tz": -540
    },
    "id": "RsxbDdnjj2Lp"
   },
   "outputs": [],
   "source": [
    "train[\"day_of_week\"]=train[\"day_of_week\"].astype(int)\n",
    "test[\"day_of_week\"]=test[\"day_of_week\"].astype(int)"
   ]
  },
  {
   "cell_type": "code",
   "execution_count": 106,
   "metadata": {
    "executionInfo": {
     "elapsed": 6099,
     "status": "ok",
     "timestamp": 1666773245835,
     "user": {
      "displayName": "김태종",
      "userId": "09259876720802222860"
     },
     "user_tz": -540
    },
    "id": "XbiNW0dschrq"
   },
   "outputs": [],
   "source": [
    "# day+day_of_week = day_week\n",
    "train[\"base_hour_str\"] = train[\"base_hour\"].astype(str)\n",
    "train[\"day_of_week_str\"] = train[\"day_of_week\"].astype(str)\n",
    "train[\"hour_week\"] = train[\"base_hour_str\"] + train[\"day_of_week_str\"]\n",
    "train[\"hour_week\"] = train[\"hour_week\"].astype(int)\n",
    "\n",
    "test[\"base_hour_str\"] = test[\"base_hour\"].astype(str)\n",
    "test[\"day_of_week_str\"] = test[\"day_of_week\"].astype(str)\n",
    "test[\"hour_week\"] = test[\"base_hour_str\"] + test[\"day_of_week_str\"]\n",
    "test[\"hour_week\"] = test[\"hour_week\"].astype(int)"
   ]
  },
  {
   "cell_type": "code",
   "execution_count": 107,
   "metadata": {
    "executionInfo": {
     "elapsed": 19,
     "status": "ok",
     "timestamp": 1666773245835,
     "user": {
      "displayName": "김태종",
      "userId": "09259876720802222860"
     },
     "user_tz": -540
    },
    "id": "Lgedeg9bchpN"
   },
   "outputs": [],
   "source": [
    "# # 22차 시도-lane_val추가 \n",
    "# #(year+_month)추가, 원래 year, month 삭제 \n",
    "# # hour_week 추가, 원래 base_hour, week 삭제\n",
    "# y_train = train['target'] \n",
    "\n",
    "# X_train = train[[\"year_month\",\"day\",\"hour_week\", \"lane_val\",\"time_category\",\"road_rating\",  \"weight_restricted\", \"start_latitude\", \"start_longitude\", \"end_latitude\",\"end_longitude\",\"end_turn_restricted\",\"distance_std\"]]\n",
    "\n",
    "# Test = test[[\"year_month\",\"day\",\"hour_week\",\"lane_val\",\"time_category\",\"road_rating\", \"weight_restricted\", \"start_latitude\", \"start_longitude\", \"end_latitude\",\"end_longitude\",\"end_turn_restricted\",\"distance_std\"]]\n",
    "\n",
    "# # 원핫인코딩\n",
    "# # X_train = pd.get_dummies(X_train, columns = [\"road_rating\",\"weight_restricted\",\"day_of_week\"])\n",
    "# # Test = pd.get_dummies(Test, columns = [\"road_rating\",\"weight_restricted\",\"day_of_week\"])\n",
    "\n",
    "# print(X_train.shape)\n",
    "# print(y_train.shape)\n",
    "# print(Test.shape)\n",
    "\n",
    "# if X_train.shape[1] == Test.shape[1]:\n",
    "#     get_scores(models, X_train, y_train)"
   ]
  },
  {
   "cell_type": "code",
   "execution_count": 108,
   "metadata": {
    "executionInfo": {
     "elapsed": 19,
     "status": "ok",
     "timestamp": 1666773245836,
     "user": {
      "displayName": "김태종",
      "userId": "09259876720802222860"
     },
     "user_tz": -540
    },
    "id": "n9X7eIZGchmp"
   },
   "outputs": [],
   "source": [
    "# # 22차 시도-lane_val추가 \n",
    "# #(year+_month)추가, 원래 year, month 삭제 \n",
    "# # hour_week 추가, 원래 base_hour, week 삭제 -> 결과 별로 안 좋음, 다시 복구\n",
    "# # road_type 추가\n",
    "# y_train = train['target'] \n",
    "\n",
    "# X_train = train[[\"road_type\",\"year_month\",\"day\", \"day_of_week\", \"lane_val\",\"base_hour\",\"time_category\",\"road_rating\",  \"weight_restricted\", \"start_latitude\", \"start_longitude\", \"end_latitude\",\"end_longitude\",\"end_turn_restricted\",\"distance_std\"]]\n",
    "\n",
    "# Test = test[[\"road_type\",\"year_month\",\"day\", \"day_of_week\",\"lane_val\",\"base_hour\",\"time_category\",\"road_rating\", \"weight_restricted\", \"start_latitude\", \"start_longitude\", \"end_latitude\",\"end_longitude\",\"end_turn_restricted\",\"distance_std\"]]\n",
    "\n",
    "# # 원핫인코딩\n",
    "# # X_train = pd.get_dummies(X_train, columns = [\"road_rating\",\"weight_restricted\",\"day_of_week\"])\n",
    "# # Test = pd.get_dummies(Test, columns = [\"road_rating\",\"weight_restricted\",\"day_of_week\"])\n",
    "\n",
    "# print(X_train.shape)\n",
    "# print(y_train.shape)\n",
    "# print(Test.shape)\n",
    "\n",
    "# if X_train.shape[1] == Test.shape[1]:\n",
    "#     get_scores(models, X_train, y_train)"
   ]
  },
  {
   "cell_type": "code",
   "execution_count": 109,
   "metadata": {
    "executionInfo": {
     "elapsed": 19,
     "status": "ok",
     "timestamp": 1666773245836,
     "user": {
      "displayName": "김태종",
      "userId": "09259876720802222860"
     },
     "user_tz": -540
    },
    "id": "lStKJLOwchju"
   },
   "outputs": [],
   "source": [
    "# # 22차 시도\n",
    "# # lane_val추가 \n",
    "# #(year+_month)추가, 원래 year, month 삭제 \n",
    "# # hour_week 추가, 원래 base_hour, week 삭제 -> 결과 별로 안 좋음, 다시 복구\n",
    "# # road_type 추가 -> 별로 효과 없음, 제거\n",
    "# # time_category 제거\n",
    "# y_train = train['target'] \n",
    "\n",
    "# X_train = train[[\"year_month\",\"day\", \"day_of_week\", \"lane_val\",\"base_hour\",\"road_rating\",  \"weight_restricted\", \"start_latitude\", \"start_longitude\", \"end_latitude\",\"end_longitude\",\"end_turn_restricted\",\"distance_std\"]]\n",
    "\n",
    "# Test = test[[\"year_month\",\"day\", \"day_of_week\",\"lane_val\",\"base_hour\",\"road_rating\", \"weight_restricted\", \"start_latitude\", \"start_longitude\", \"end_latitude\",\"end_longitude\",\"end_turn_restricted\",\"distance_std\"]]\n",
    "\n",
    "# # 원핫인코딩\n",
    "# # X_train = pd.get_dummies(X_train, columns = [\"road_rating\",\"weight_restricted\",\"day_of_week\"])\n",
    "# # Test = pd.get_dummies(Test, columns = [\"road_rating\",\"weight_restricted\",\"day_of_week\"])\n",
    "\n",
    "# print(X_train.shape)\n",
    "# print(y_train.shape)\n",
    "# print(Test.shape)\n",
    "\n",
    "# if X_train.shape[1] == Test.shape[1]:\n",
    "#     get_scores(models, X_train, y_train)"
   ]
  },
  {
   "cell_type": "markdown",
   "metadata": {
    "id": "DzytgEQvmitC"
   },
   "source": [
    "22차 결론\n",
    ">\"year_month\",\"day\", \"day_of_week\", \"lane_val\",\"base_hour\",\"time_category\",\"road_rating\",  \"weight_restricted\", \"start_latitude\", \"start_longitude\", \"end_latitude\",\"end_longitude\",\"end_turn_restricted\",\"distance_std\""
   ]
  },
  {
   "cell_type": "code",
   "execution_count": 110,
   "metadata": {
    "executionInfo": {
     "elapsed": 18,
     "status": "ok",
     "timestamp": 1666773245836,
     "user": {
      "displayName": "김태종",
      "userId": "09259876720802222860"
     },
     "user_tz": -540
    },
    "id": "V9ZIjiFymGZ4"
   },
   "outputs": [],
   "source": [
    "# random_state=2020        # 하지만 우리는 이렇게 고정값을 세팅해 두겠습니다. \n",
    "\n",
    "# gboost = GradientBoostingRegressor(random_state=random_state)\n",
    "# xgboost = XGBRegressor(learning_rate = 0.05,max_depth = 10, n_estimators = 10000, random_state=random_state)\n",
    "# lightgbm = LGBMRegressor(learning_rate = 0.05, max_depth = 10, n_estimators = 10000,random_state=random_state)\n",
    "# rdforest = RandomForestRegressor(random_state=random_state)\n",
    "\n",
    "# models = [{'model':lightgbm, 'name':'LightGBM'}]\n",
    "\n",
    "# # 점수 평가\n",
    "# def get_scores(models, train, y):\n",
    "#     df = {}\n",
    "\n",
    "#     for model in models:\n",
    "#         # 모델 이름 획득\n",
    "#         model_name = model[\"name\"]\n",
    "\n",
    "#         # train, test 데이터셋 분리 - 여기에도 random_states를 고정합니다. \n",
    "#         X_train, X_test, y_train, y_test = train_test_split(train,\n",
    "#                                                             y,\n",
    "#                                                             random_state = random_state,\n",
    "#                                                             test_size = 0.2)\n",
    "\n",
    "#         # 모델 학습\n",
    "#         model[\"model\"].fit(X_train, y_train)\n",
    "\n",
    "#         # 예측\n",
    "#         y_pred = model[\"model\"].predict(X_test)\n",
    "\n",
    "#         # 예측 결과의 rmse값 저장\n",
    "#         df[model_name] = mean_absolute_error(y_test, y_pred)\n",
    "#         print(model_name,df[model_name])\n",
    "\n",
    "#         # data frame에 저장\n",
    "#         score_df = pd.DataFrame(df, index = [\"MAE\"]).T.sort_values(\"MAE\", ascending = False)\n",
    "#     return score_df\n",
    "\n",
    "# # 22차 시도-lane_val추가 + (year+_month)추가, 원래 year, month 삭제\n",
    "# y_train = train['target'] \n",
    "\n",
    "# X_train = train[[\"year_month\",\"day\", \"day_of_week\", \"lane_val\",\"base_hour\",\"time_category\",\"road_rating\",  \"weight_restricted\", \"start_latitude\", \"start_longitude\", \"end_latitude\",\"end_longitude\",\"end_turn_restricted\",\"distance_std\"]]\n",
    "\n",
    "# Test = test[[\"year_month\",\"day\", \"day_of_week\",\"lane_val\",\"base_hour\",\"time_category\",\"road_rating\", \"weight_restricted\", \"start_latitude\", \"start_longitude\", \"end_latitude\",\"end_longitude\",\"end_turn_restricted\",\"distance_std\"]]\n",
    "\n",
    "# # 원핫인코딩\n",
    "# # X_train = pd.get_dummies(X_train, columns = [\"road_rating\",\"weight_restricted\",\"day_of_week\"])\n",
    "# # Test = pd.get_dummies(Test, columns = [\"road_rating\",\"weight_restricted\",\"day_of_week\"])\n",
    "\n",
    "# print(X_train.shape)\n",
    "# print(y_train.shape)\n",
    "# print(Test.shape)\n",
    "\n",
    "# if X_train.shape[1] == Test.shape[1]:\n",
    "#     get_scores(models, X_train, y_train)"
   ]
  },
  {
   "cell_type": "markdown",
   "metadata": {
    "id": "m1pM53wQ30da"
   },
   "source": [
    "__22차 시도 제출결과__\n",
    "> 테스트 제출 결과 3.27~~  달성"
   ]
  },
  {
   "cell_type": "code",
   "execution_count": 111,
   "metadata": {
    "executionInfo": {
     "elapsed": 21,
     "status": "aborted",
     "timestamp": 1666774581823,
     "user": {
      "displayName": "김태종",
      "userId": "09259876720802222860"
     },
     "user_tz": -540
    },
    "id": "NrhmAeOj2ryt"
   },
   "outputs": [],
   "source": [
    "# # 22차 시도-lane_val추가 + (year+_month)추가, 원래 year, month 삭제\n",
    "# y_train = train['target'] \n",
    "\n",
    "# X_train = train[[\"year_month\",\"day\", \"day_of_week\", \"lane_val\",\"base_hour\",\"time_category\",\"road_rating\",  \"weight_restricted\", \"start_latitude\", \"start_longitude\", \"end_latitude\",\"end_longitude\",\"end_turn_restricted\",\"distance_std\"]]\n",
    "\n",
    "# Test = test[[\"year_month\",\"day\", \"day_of_week\",\"lane_val\",\"base_hour\",\"time_category\",\"road_rating\", \"weight_restricted\", \"start_latitude\", \"start_longitude\", \"end_latitude\",\"end_longitude\",\"end_turn_restricted\",\"distance_std\"]]\n",
    "\n",
    "# lightgbm = LGBMRegressor(learning_rate = 0.05, max_depth = 10, n_estimators = 10000,random_state=random_state)\n",
    "# lightgbm.fit(X_train, y_train)\n",
    "# pred = lightgbm.predict(Test)\n",
    "# pred"
   ]
  },
  {
   "cell_type": "code",
   "execution_count": 112,
   "metadata": {
    "executionInfo": {
     "elapsed": 21,
     "status": "aborted",
     "timestamp": 1666774581823,
     "user": {
      "displayName": "김태종",
      "userId": "09259876720802222860"
     },
     "user_tz": -540
    },
    "id": "s4XZsFfw2rpK"
   },
   "outputs": [],
   "source": [
    "# # 제출 파일 생성 함수\n",
    "# def save_submit(X, y, test,trynum):\n",
    "#     lightgbm = LGBMRegressor(learning_rate = 0.05, max_depth = 10, n_estimators = 10000,random_state=random_state)\n",
    "#     lightgbm.fit(X, y)\n",
    "#     pred = lightgbm.predict(Test)\n",
    "\n",
    "#     sample_submission = pd.read_csv('/content/drive/MyDrive/01.Personal/01.study/02.AIFFEL/98.kaggle_study/02.dacon_jejutrafficAI/data/sample_submission.csv')\n",
    "#     sample_submission['target'] = pred\n",
    "#     sample_submission.to_csv(f\"/content/drive/MyDrive/01.Personal/01.study/02.AIFFEL/98.kaggle_study/02.dacon_jejutrafficAI/submit_{trynum}.csv\", index = False)"
   ]
  },
  {
   "cell_type": "markdown",
   "metadata": {
    "id": "vQu_RGTe3aMt"
   },
   "source": [
    "__23차 시도__  \n",
    "> 딥러닝을 활용한 예측 시도"
   ]
  },
  {
   "cell_type": "code",
   "execution_count": 113,
   "metadata": {
    "executionInfo": {
     "elapsed": 18,
     "status": "ok",
     "timestamp": 1666773245836,
     "user": {
      "displayName": "김태종",
      "userId": "09259876720802222860"
     },
     "user_tz": -540
    },
    "id": "tX4Ou4zi9Xqt"
   },
   "outputs": [],
   "source": [
    "# y_train = train['target'] \n",
    "\n",
    "# X_train = train[[\"year_month\",\"day\", \"day_of_week\", \"lane_val\",\"base_hour\",\"time_category\",\"road_rating\",  \"weight_restricted\", \"start_latitude\", \"start_longitude\", \"end_latitude\",\"end_longitude\",\"end_turn_restricted\",\"distance_std\"]]\n"
   ]
  },
  {
   "cell_type": "code",
   "execution_count": 114,
   "metadata": {
    "executionInfo": {
     "elapsed": 19,
     "status": "ok",
     "timestamp": 1666773245837,
     "user": {
      "displayName": "김태종",
      "userId": "09259876720802222860"
     },
     "user_tz": -540
    },
    "id": "cfAwCbI4L05Z"
   },
   "outputs": [],
   "source": [
    "# X_train = train\n",
    "# y_train = train[\"target\"]"
   ]
  },
  {
   "cell_type": "code",
   "execution_count": 115,
   "metadata": {
    "executionInfo": {
     "elapsed": 19,
     "status": "ok",
     "timestamp": 1666773245837,
     "user": {
      "displayName": "김태종",
      "userId": "09259876720802222860"
     },
     "user_tz": -540
    },
    "id": "8yxPpATx4JTP"
   },
   "outputs": [],
   "source": [
    "# from keras import models\n",
    "# from keras import layers\n",
    "\n",
    "# def build_model(df): #동일한 모델을 여러 번 생성할 것이므로 함수를 만들어 사용합니다.\n",
    "#     model = models.Sequential()\n",
    "#     model.add(layers.Dense(32, activation='relu',\n",
    "#                            input_shape=(df.shape[1],)))\n",
    "#     model.add(layers.Dense(64, activation='relu'))\n",
    "#     model.add(layers.Dense(1))\n",
    "#     model.compile(optimizer='rmsprop', loss='mse', metrics=['mae'])\n",
    "#     return model"
   ]
  },
  {
   "cell_type": "code",
   "execution_count": 116,
   "metadata": {
    "executionInfo": {
     "elapsed": 19,
     "status": "ok",
     "timestamp": 1666773245837,
     "user": {
      "displayName": "김태종",
      "userId": "09259876720802222860"
     },
     "user_tz": -540
    },
    "id": "QriXaghR3cSh"
   },
   "outputs": [],
   "source": [
    "# k = 4\n",
    "\n",
    "# num_val_samples = len(X_train) // k\n",
    "# num_epochs = 10\n",
    "# all_scores = []\n",
    "# for i in range(k):\n",
    "#     print('처리중인 폴드 #', i)\n",
    "#     val_data = X_train[i * num_val_samples: (i + 1) * num_val_samples]  # 검증 데이터 준비: k번째 분할\n",
    "#     val_targets = y_train[i * num_val_samples: (i + 1) * num_val_samples]\n",
    "\n",
    "#     partial_train_data = np.concatenate(  # 훈련 데이터 준비: 다른 분할 전체\n",
    "#         [X_train[:i * num_val_samples],\n",
    "#          X_train[(i + 1) * num_val_samples:]],\n",
    "#         axis=0)\n",
    "#     partial_train_targets = np.concatenate(\n",
    "#         [y_train[:i * num_val_samples],\n",
    "#          y_train[(i + 1) * num_val_samples:]],\n",
    "#         axis=0)\n",
    "\n",
    "#     model = build_model(X_train)  # 케라스 모델 구성(컴파일 포함)\n",
    "#     model.fit(partial_train_data, partial_train_targets,  # 모델 훈련(verbose=0이므로 훈련 과정이 출력되지 않습니다.)\n",
    "#             epochs=num_epochs, batch_size=1, verbose=1)\n",
    "#     val_mse, val_mae = model.evaluate(val_data, val_targets, verbose=0)  # 검증 세트로 모델 평가\n",
    "#     all_scores.append(val_mae)"
   ]
  },
  {
   "cell_type": "markdown",
   "metadata": {
    "id": "k530n1lGLmjm"
   },
   "source": [
    "> 딥러닝을 시도했는데 시간이 너무 오래 걸려서 효율이 좋지 않음"
   ]
  },
  {
   "cell_type": "markdown",
   "metadata": {
    "id": "JzpFahTDQwuG"
   },
   "source": [
    "__24차 시도__  \n",
    "> 극단치를 제거해보자"
   ]
  },
  {
   "cell_type": "code",
   "execution_count": 117,
   "metadata": {
    "executionInfo": {
     "elapsed": 19,
     "status": "ok",
     "timestamp": 1666773245837,
     "user": {
      "displayName": "김태종",
      "userId": "09259876720802222860"
     },
     "user_tz": -540
    },
    "id": "672saYIRVMo6"
   },
   "outputs": [],
   "source": [
    "# random_state=2020        # 하지만 우리는 이렇게 고정값을 세팅해 두겠습니다. \n",
    "\n",
    "# gboost = GradientBoostingRegressor(random_state=random_state)\n",
    "# xgboost = XGBRegressor(learning_rate = 0.05,max_depth = 10, n_estimators = 10000, random_state=random_state)\n",
    "# lightgbm = LGBMRegressor(learning_rate = 0.05, max_depth = 10, n_estimators = 1000,random_state=random_state)\n",
    "# rdforest = RandomForestRegressor(random_state=random_state)\n",
    "\n",
    "# models = [{'model':lightgbm, 'name':'LightGBM'}]\n",
    "\n",
    "# # 점수 평가\n",
    "# def get_scores(models, train, y):\n",
    "#     df = {}\n",
    "\n",
    "#     for model in models:\n",
    "#         # 모델 이름 획득\n",
    "#         model_name = model[\"name\"]\n",
    "\n",
    "#         # train, test 데이터셋 분리 - 여기에도 random_states를 고정합니다. \n",
    "#         X_train, X_test, y_train, y_test = train_test_split(train,\n",
    "#                                                             y,\n",
    "#                                                             random_state = random_state,\n",
    "#                                                             test_size = 0.2)\n",
    "\n",
    "#         # 모델 학습\n",
    "#         model[\"model\"].fit(X_train, y_train)\n",
    "\n",
    "#         # 예측\n",
    "#         y_pred = model[\"model\"].predict(X_test)\n",
    "\n",
    "#         # 예측 결과의 rmse값 저장\n",
    "#         df[model_name] = mean_absolute_error(y_test, y_pred)\n",
    "#         print(model_name,df[model_name])\n",
    "\n",
    "#         # data frame에 저장\n",
    "#         score_df = pd.DataFrame(df, index = [\"MAE\"]).T.sort_values(\"MAE\", ascending = False)\n",
    "#     return score_df\n",
    "\n",
    "# # 22차 시도-lane_val추가 + (year+_month)추가, 원래 year, month 삭제\n",
    "# y_train = train['target'] \n",
    "\n",
    "# X_train = train[[\"year_month\",\"day\", \"day_of_week\", \"lane_val\",\"base_hour\",\"time_category\",\"road_rating\",  \"weight_restricted\", \"start_latitude\", \"start_longitude\", \"end_latitude\",\"end_longitude\",\"end_turn_restricted\",\"distance_std\"]]\n",
    "\n",
    "# Test = test[[\"year_month\",\"day\", \"day_of_week\",\"lane_val\",\"base_hour\",\"time_category\",\"road_rating\", \"weight_restricted\", \"start_latitude\", \"start_longitude\", \"end_latitude\",\"end_longitude\",\"end_turn_restricted\",\"distance_std\"]]\n",
    "\n",
    "# # 원핫인코딩\n",
    "# # X_train = pd.get_dummies(X_train, columns = [\"road_rating\",\"weight_restricted\",\"day_of_week\"])\n",
    "# # Test = pd.get_dummies(Test, columns = [\"road_rating\",\"weight_restricted\",\"day_of_week\"])\n",
    "\n",
    "# print(X_train.shape)\n",
    "# print(y_train.shape)\n",
    "# print(Test.shape)\n",
    "\n",
    "# if X_train.shape[1] == Test.shape[1]:\n",
    "#     get_scores(models, X_train, y_train)"
   ]
  },
  {
   "cell_type": "code",
   "execution_count": 118,
   "metadata": {
    "executionInfo": {
     "elapsed": 18,
     "status": "ok",
     "timestamp": 1666773245837,
     "user": {
      "displayName": "김태종",
      "userId": "09259876720802222860"
     },
     "user_tz": -540
    },
    "id": "JtOuPGH3R4xl"
   },
   "outputs": [],
   "source": [
    "# info"
   ]
  },
  {
   "cell_type": "code",
   "execution_count": 119,
   "metadata": {
    "executionInfo": {
     "elapsed": 18,
     "status": "ok",
     "timestamp": 1666773245837,
     "user": {
      "displayName": "김태종",
      "userId": "09259876720802222860"
     },
     "user_tz": -540
    },
    "id": "OUGwwiMxR4tn"
   },
   "outputs": [],
   "source": [
    "# # lane_val 극단치 탐색\n",
    "# sns.boxplot(data = train, x = \"lane_val\", y = \"target\")"
   ]
  },
  {
   "cell_type": "code",
   "execution_count": 120,
   "metadata": {
    "executionInfo": {
     "elapsed": 18,
     "status": "ok",
     "timestamp": 1666773245837,
     "user": {
      "displayName": "김태종",
      "userId": "09259876720802222860"
     },
     "user_tz": -540
    },
    "id": "XUDBtNPfLth8"
   },
   "outputs": [],
   "source": [
    "def outlier(df):\n",
    "    q1 = df[\"target\"].quantile(.25)\n",
    "    q3 = df[\"target\"].quantile(.75)\n",
    "    lower = q1 - ((q3 - q1) * 1.2)\n",
    "    upper = q3 + ((q3 - q1) * 1.2)\n",
    "\n",
    "    df = df[(df[\"target\"]>lower) & (df[\"target\"]<upper)]\n",
    "    return df"
   ]
  },
  {
   "cell_type": "code",
   "execution_count": 121,
   "metadata": {
    "executionInfo": {
     "elapsed": 18,
     "status": "ok",
     "timestamp": 1666773245837,
     "user": {
      "displayName": "김태종",
      "userId": "09259876720802222860"
     },
     "user_tz": -540
    },
    "id": "PWAQ8BMDigQm"
   },
   "outputs": [],
   "source": [
    "# a1 = train[train[\"lane_val\"] == 0]\n",
    "# a2 = train[train[\"lane_val\"] == 1]\n",
    "# a3 = train[train[\"lane_val\"] == 2]\n",
    "\n",
    "# for i in [a1, a2, a3]:\n",
    "#     i = outlier(i)\n",
    "\n",
    "# train_1 = pd.concat([a1,a2,a3], ignore_index=True)\n",
    "# train_1"
   ]
  },
  {
   "cell_type": "code",
   "execution_count": 122,
   "metadata": {
    "executionInfo": {
     "elapsed": 17,
     "status": "ok",
     "timestamp": 1666773245837,
     "user": {
      "displayName": "김태종",
      "userId": "09259876720802222860"
     },
     "user_tz": -540
    },
    "id": "LRVT7QpClx2I"
   },
   "outputs": [],
   "source": [
    "# train[\"time_category\"].unique()"
   ]
  },
  {
   "cell_type": "code",
   "execution_count": 123,
   "metadata": {
    "executionInfo": {
     "elapsed": 18,
     "status": "ok",
     "timestamp": 1666773245838,
     "user": {
      "displayName": "김태종",
      "userId": "09259876720802222860"
     },
     "user_tz": -540
    },
    "id": "W_V58Nd8lxxj"
   },
   "outputs": [],
   "source": [
    "# a1 = train[train[\"time_category\"] == 0]\n",
    "# a2 = train[train[\"time_category\"] == 1]\n",
    "# a3 = train[train[\"time_category\"] == 2]\n",
    "# a4 = train[train[\"time_category\"] == 3]\n",
    "\n",
    "# for i in [a1, a2, a3,a4]:\n",
    "#     i = outlier(i)\n",
    "\n",
    "# train_2 = pd.concat([a1,a2,a3, a4], ignore_index=True)\n",
    "# train_2"
   ]
  },
  {
   "cell_type": "code",
   "execution_count": 124,
   "metadata": {
    "executionInfo": {
     "elapsed": 16,
     "status": "ok",
     "timestamp": 1666773245838,
     "user": {
      "displayName": "김태종",
      "userId": "09259876720802222860"
     },
     "user_tz": -540
    },
    "id": "Hxh2DYguo-ax"
   },
   "outputs": [],
   "source": [
    "# train[\"weight_restricted\"].unique()"
   ]
  },
  {
   "cell_type": "code",
   "execution_count": 125,
   "metadata": {
    "executionInfo": {
     "elapsed": 17,
     "status": "ok",
     "timestamp": 1666773245839,
     "user": {
      "displayName": "김태종",
      "userId": "09259876720802222860"
     },
     "user_tz": -540
    },
    "id": "SfnIDyNuqFqN"
   },
   "outputs": [],
   "source": [
    "# sns.boxplot(data = train, x = \"weight_restricted\", y = \"target\")"
   ]
  },
  {
   "cell_type": "code",
   "execution_count": 126,
   "metadata": {
    "executionInfo": {
     "elapsed": 17,
     "status": "ok",
     "timestamp": 1666773245839,
     "user": {
      "displayName": "김태종",
      "userId": "09259876720802222860"
     },
     "user_tz": -540
    },
    "id": "s30xmk_ZqoUq"
   },
   "outputs": [],
   "source": [
    "# a1 = train[train[\"weight_restricted\"] == 0]\n",
    "# a2 = train[train[\"weight_restricted\"] == 32400]\n",
    "# a3 = train[train[\"weight_restricted\"] == 43200]\n",
    "# a4 = train[train[\"weight_restricted\"] == 50000]\n",
    "\n",
    "# for i in [a1, a2, a3,a4]:\n",
    "#     i = outlier(i)\n",
    "\n",
    "# train_2 = pd.concat([a1,a2,a3, a4], ignore_index=True)\n",
    "# train_2"
   ]
  },
  {
   "cell_type": "markdown",
   "metadata": {
    "id": "v_dLlcSRqz3f"
   },
   "source": [
    "__결론__\n",
    ">이상치 없음...  \n",
    "\"day\" 피처 삭제후 다시 시도"
   ]
  },
  {
   "cell_type": "code",
   "execution_count": 127,
   "metadata": {
    "executionInfo": {
     "elapsed": 17,
     "status": "ok",
     "timestamp": 1666773245839,
     "user": {
      "displayName": "김태종",
      "userId": "09259876720802222860"
     },
     "user_tz": -540
    },
    "id": "TsIhe6XGq4Q7"
   },
   "outputs": [],
   "source": [
    "# random_state=2020        # 하지만 우리는 이렇게 고정값을 세팅해 두겠습니다. \n",
    "\n",
    "# gboost = GradientBoostingRegressor(random_state=random_state)\n",
    "# xgboost = XGBRegressor(learning_rate = 0.05,max_depth = 10, n_estimators = 10000, random_state=random_state)\n",
    "# lightgbm = LGBMRegressor(learning_rate = 0.05, max_depth = 10, n_estimators = 1000,random_state=random_state)\n",
    "# rdforest = RandomForestRegressor(random_state=random_state)\n",
    "\n",
    "# models = [{'model':lightgbm, 'name':'LightGBM'}]\n",
    "\n",
    "# # 점수 평가\n",
    "# def get_scores(models, train, y):\n",
    "#     df = {}\n",
    "\n",
    "#     for model in models:\n",
    "#         # 모델 이름 획득\n",
    "#         model_name = model[\"name\"]\n",
    "\n",
    "#         # train, test 데이터셋 분리 - 여기에도 random_states를 고정합니다. \n",
    "#         X_train, X_test, y_train, y_test = train_test_split(train,\n",
    "#                                                             y,\n",
    "#                                                             random_state = random_state,\n",
    "#                                                             test_size = 0.2)\n",
    "\n",
    "#         # 모델 학습\n",
    "#         model[\"model\"].fit(X_train, y_train)\n",
    "\n",
    "#         # 예측\n",
    "#         y_pred = model[\"model\"].predict(X_test)\n",
    "\n",
    "#         # 예측 결과의 rmse값 저장\n",
    "#         df[model_name] = mean_absolute_error(y_test, y_pred)\n",
    "#         print(model_name,df[model_name])\n",
    "\n",
    "#         # data frame에 저장\n",
    "#         score_df = pd.DataFrame(df, index = [\"MAE\"]).T.sort_values(\"MAE\", ascending = False)\n",
    "#     return score_df\n",
    "\n",
    "# # 22차 시도-lane_val추가 + (year+_month)추가, 원래 year, month 삭제\n",
    "# y_train = train['target'] \n",
    "\n",
    "# X_train = train[[\"year_month\", \"day_of_week\", \"lane_val\",\"base_hour\",\"time_category\",\"road_rating\",  \"weight_restricted\", \"start_latitude\", \"start_longitude\", \"end_latitude\",\"end_longitude\",\"end_turn_restricted\",\"distance_std\"]]\n",
    "\n",
    "# Test = test[[\"year_month\", \"day_of_week\",\"lane_val\",\"base_hour\",\"time_category\",\"road_rating\", \"weight_restricted\", \"start_latitude\", \"start_longitude\", \"end_latitude\",\"end_longitude\",\"end_turn_restricted\",\"distance_std\"]]\n",
    "\n",
    "# # 원핫인코딩\n",
    "# # X_train = pd.get_dummies(X_train, columns = [\"road_rating\",\"weight_restricted\",\"day_of_week\"])\n",
    "# # Test = pd.get_dummies(Test, columns = [\"road_rating\",\"weight_restricted\",\"day_of_week\"])\n",
    "\n",
    "# print(X_train.shape)\n",
    "# print(y_train.shape)\n",
    "# print(Test.shape)\n",
    "\n",
    "# if X_train.shape[1] == Test.shape[1]:\n",
    "#     get_scores(models, X_train, y_train)"
   ]
  },
  {
   "cell_type": "markdown",
   "metadata": {
    "id": "o8h5exQWyoAG"
   },
   "source": [
    "__25차 시도__\n",
    "> 최근 경향성이 변하였다고 한점을 근거로\n",
    "7월 데이터를 2번 더 추가"
   ]
  },
  {
   "cell_type": "code",
   "execution_count": 128,
   "metadata": {
    "executionInfo": {
     "elapsed": 18,
     "status": "ok",
     "timestamp": 1666773245840,
     "user": {
      "displayName": "김태종",
      "userId": "09259876720802222860"
     },
     "user_tz": -540
    },
    "id": "ylFhQv7qynxQ"
   },
   "outputs": [],
   "source": [
    "# train[train[\"month\"] == 7]"
   ]
  },
  {
   "cell_type": "code",
   "execution_count": 129,
   "metadata": {
    "executionInfo": {
     "elapsed": 657,
     "status": "ok",
     "timestamp": 1666773246480,
     "user": {
      "displayName": "김태종",
      "userId": "09259876720802222860"
     },
     "user_tz": -540
    },
    "id": "aFYryX3Hynr-"
   },
   "outputs": [],
   "source": [
    "# train_1 = pd.concat([train, train[train[\"month\"] == 7], train[train[\"month\"] == 7]], ignore_index=True)\n",
    "# train_1"
   ]
  },
  {
   "cell_type": "markdown",
   "metadata": {},
   "source": [
    "> 2번 추가하자 결과가 오히려 나쁘게 나옴"
   ]
  },
  {
   "cell_type": "markdown",
   "metadata": {
    "id": "FWtFJ-yt-tRB"
   },
   "source": [
    "__26차 시도__\n",
    "> 7월만 두번 넣는것은 실패했으므로 6,7월을 넣는다.  \n",
    "3.16!!!! 성공 아주 효과는 성공적이었다."
   ]
  },
  {
   "cell_type": "code",
   "execution_count": 130,
   "metadata": {
    "executionInfo": {
     "elapsed": 5,
     "status": "ok",
     "timestamp": 1666773246480,
     "user": {
      "displayName": "김태종",
      "userId": "09259876720802222860"
     },
     "user_tz": -540
    },
    "id": "d8wUs9zE-tEx"
   },
   "outputs": [],
   "source": [
    "# train_1 = pd.concat([train, train[train[\"month\"] == 6], train[train[\"month\"] == 7]], ignore_index=True)\n",
    "# train_1"
   ]
  },
  {
   "cell_type": "code",
   "execution_count": 131,
   "metadata": {
    "executionInfo": {
     "elapsed": 6,
     "status": "ok",
     "timestamp": 1666773246481,
     "user": {
      "displayName": "김태종",
      "userId": "09259876720802222860"
     },
     "user_tz": -540
    },
    "id": "k1tYf1TN_XQ-"
   },
   "outputs": [],
   "source": [
    "# y_train = train_1['target'] \n",
    "\n",
    "# X_train = train_1[[\"year_month\", \"day_of_week\", \"lane_val\",\"base_hour\",\"time_category\",\"road_rating\",  \"weight_restricted\", \"start_latitude\", \"start_longitude\", \"end_latitude\",\"end_longitude\",\"end_turn_restricted\",\"distance_std\"]]\n",
    "\n",
    "# Test = test[[\"year_month\", \"day_of_week\",\"lane_val\",\"base_hour\",\"time_category\",\"road_rating\", \"weight_restricted\", \"start_latitude\", \"start_longitude\", \"end_latitude\",\"end_longitude\",\"end_turn_restricted\",\"distance_std\"]]\n",
    "# save_submit(X_train, y_train, Test, 26)"
   ]
  },
  {
   "cell_type": "markdown",
   "metadata": {
    "id": "l8x7ngRc9B0f"
   },
   "source": [
    "__27차 시도__\n",
    "1. 도로명, 시작지점명, 도착지점명 라벨인코딩해서 추가하기"
   ]
  },
  {
   "cell_type": "code",
   "execution_count": 132,
   "metadata": {
    "executionInfo": {
     "elapsed": 6,
     "status": "ok",
     "timestamp": 1666773246481,
     "user": {
      "displayName": "김태종",
      "userId": "09259876720802222860"
     },
     "user_tz": -540
    },
    "id": "BFc8w3jKENYU"
   },
   "outputs": [],
   "source": [
    "# 제출 파일 생성 함수\n",
    "def save_submit(X, y, test,trynum):\n",
    "    lightgbm = LGBMRegressor(learning_rate = 0.05, max_depth = 10, n_estimators = 10000,random_state=random_state)\n",
    "    lightgbm.fit(X, y)\n",
    "    pred = lightgbm.predict(Test)\n",
    "\n",
    "    sample_submission = pd.read_csv('/content/drive/MyDrive/01.Personal/01.study/02.AIFFEL/98.kaggle_study/02.dacon_jejutrafficAI/data/sample_submission.csv')\n",
    "    sample_submission['target'] = pred\n",
    "    sample_submission.to_csv(f\"/content/drive/MyDrive/01.Personal/01.study/02.AIFFEL/98.kaggle_study/02.dacon_jejutrafficAI/submit_{trynum}.csv\", index = False)"
   ]
  },
  {
   "cell_type": "code",
   "execution_count": 133,
   "metadata": {
    "colab": {
     "base_uri": "https://localhost:8080/",
     "height": 802
    },
    "executionInfo": {
     "elapsed": 5,
     "status": "ok",
     "timestamp": 1666773246481,
     "user": {
      "displayName": "김태종",
      "userId": "09259876720802222860"
     },
     "user_tz": -540
    },
    "id": "25hqsGE4CYCu",
    "outputId": "bcc08fcb-2782-49b3-d10b-32813ff8df3d"
   },
   "outputs": [
    {
     "data": {
      "text/html": [
       "<div>\n",
       "<style scoped>\n",
       "    .dataframe tbody tr th:only-of-type {\n",
       "        vertical-align: middle;\n",
       "    }\n",
       "\n",
       "    .dataframe tbody tr th {\n",
       "        vertical-align: top;\n",
       "    }\n",
       "\n",
       "    .dataframe thead th {\n",
       "        text-align: right;\n",
       "    }\n",
       "</style>\n",
       "<table border=\"1\" class=\"dataframe\">\n",
       "  <thead>\n",
       "    <tr style=\"text-align: right;\">\n",
       "      <th></th>\n",
       "      <th>변수명</th>\n",
       "      <th>변수 설명</th>\n",
       "    </tr>\n",
       "  </thead>\n",
       "  <tbody>\n",
       "    <tr>\n",
       "      <th>0</th>\n",
       "      <td>id</td>\n",
       "      <td>아이디</td>\n",
       "    </tr>\n",
       "    <tr>\n",
       "      <th>1</th>\n",
       "      <td>base_date</td>\n",
       "      <td>날짜</td>\n",
       "    </tr>\n",
       "    <tr>\n",
       "      <th>2</th>\n",
       "      <td>day_of_week</td>\n",
       "      <td>요일</td>\n",
       "    </tr>\n",
       "    <tr>\n",
       "      <th>3</th>\n",
       "      <td>base_hour</td>\n",
       "      <td>시간대</td>\n",
       "    </tr>\n",
       "    <tr>\n",
       "      <th>4</th>\n",
       "      <td>road_in_use</td>\n",
       "      <td>도로사용여부</td>\n",
       "    </tr>\n",
       "    <tr>\n",
       "      <th>5</th>\n",
       "      <td>lane_count</td>\n",
       "      <td>차로수</td>\n",
       "    </tr>\n",
       "    <tr>\n",
       "      <th>6</th>\n",
       "      <td>road_rating</td>\n",
       "      <td>도로등급</td>\n",
       "    </tr>\n",
       "    <tr>\n",
       "      <th>7</th>\n",
       "      <td>multi_linked</td>\n",
       "      <td>중용구간 여부</td>\n",
       "    </tr>\n",
       "    <tr>\n",
       "      <th>8</th>\n",
       "      <td>connect_code</td>\n",
       "      <td>연결로 코드</td>\n",
       "    </tr>\n",
       "    <tr>\n",
       "      <th>9</th>\n",
       "      <td>maximum_speed_limit</td>\n",
       "      <td>최고속도제한</td>\n",
       "    </tr>\n",
       "    <tr>\n",
       "      <th>10</th>\n",
       "      <td>weight_restricted</td>\n",
       "      <td>통과제한하중</td>\n",
       "    </tr>\n",
       "    <tr>\n",
       "      <th>11</th>\n",
       "      <td>hight_restricted</td>\n",
       "      <td>통과제한높이</td>\n",
       "    </tr>\n",
       "    <tr>\n",
       "      <th>12</th>\n",
       "      <td>road_type</td>\n",
       "      <td>도로유형</td>\n",
       "    </tr>\n",
       "    <tr>\n",
       "      <th>13</th>\n",
       "      <td>start_latitude</td>\n",
       "      <td>시작지점의 위도</td>\n",
       "    </tr>\n",
       "    <tr>\n",
       "      <th>14</th>\n",
       "      <td>start_longitude</td>\n",
       "      <td>시작지점의 경도</td>\n",
       "    </tr>\n",
       "    <tr>\n",
       "      <th>15</th>\n",
       "      <td>start_turn_restricted</td>\n",
       "      <td>시작 지점의 회전제한 유무</td>\n",
       "    </tr>\n",
       "    <tr>\n",
       "      <th>16</th>\n",
       "      <td>end_latitude</td>\n",
       "      <td>도착지점의 위도</td>\n",
       "    </tr>\n",
       "    <tr>\n",
       "      <th>17</th>\n",
       "      <td>end_longitude</td>\n",
       "      <td>도착지점의 경도</td>\n",
       "    </tr>\n",
       "    <tr>\n",
       "      <th>18</th>\n",
       "      <td>end_turn_restricted</td>\n",
       "      <td>도작지점의 회전제한 유무</td>\n",
       "    </tr>\n",
       "    <tr>\n",
       "      <th>19</th>\n",
       "      <td>road_name</td>\n",
       "      <td>도로명</td>\n",
       "    </tr>\n",
       "    <tr>\n",
       "      <th>20</th>\n",
       "      <td>start_node_name</td>\n",
       "      <td>시작지점명</td>\n",
       "    </tr>\n",
       "    <tr>\n",
       "      <th>21</th>\n",
       "      <td>end_node_name</td>\n",
       "      <td>도착지점명</td>\n",
       "    </tr>\n",
       "    <tr>\n",
       "      <th>22</th>\n",
       "      <td>vehicle_restricted</td>\n",
       "      <td>통과제한차량</td>\n",
       "    </tr>\n",
       "    <tr>\n",
       "      <th>23</th>\n",
       "      <td>target</td>\n",
       "      <td>평균속도(km)</td>\n",
       "    </tr>\n",
       "  </tbody>\n",
       "</table>\n",
       "</div>"
      ],
      "text/plain": [
       "                      변수명           변수 설명\n",
       "0                      id             아이디\n",
       "1               base_date              날짜\n",
       "2             day_of_week              요일\n",
       "3               base_hour             시간대\n",
       "4             road_in_use          도로사용여부\n",
       "5              lane_count             차로수\n",
       "6             road_rating            도로등급\n",
       "7            multi_linked         중용구간 여부\n",
       "8            connect_code          연결로 코드\n",
       "9     maximum_speed_limit          최고속도제한\n",
       "10      weight_restricted          통과제한하중\n",
       "11       hight_restricted          통과제한높이\n",
       "12              road_type            도로유형\n",
       "13         start_latitude        시작지점의 위도\n",
       "14        start_longitude        시작지점의 경도\n",
       "15  start_turn_restricted  시작 지점의 회전제한 유무\n",
       "16           end_latitude        도착지점의 위도\n",
       "17          end_longitude        도착지점의 경도\n",
       "18    end_turn_restricted   도작지점의 회전제한 유무\n",
       "19              road_name             도로명\n",
       "20        start_node_name           시작지점명\n",
       "21          end_node_name           도착지점명\n",
       "22     vehicle_restricted          통과제한차량\n",
       "23                 target        평균속도(km)"
      ]
     },
     "execution_count": 133,
     "metadata": {},
     "output_type": "execute_result"
    }
   ],
   "source": [
    "info"
   ]
  },
  {
   "cell_type": "code",
   "execution_count": 134,
   "metadata": {
    "executionInfo": {
     "elapsed": 2686,
     "status": "ok",
     "timestamp": 1666773249162,
     "user": {
      "displayName": "김태종",
      "userId": "09259876720802222860"
     },
     "user_tz": -540
    },
    "id": "oVHCs34U_Y-E"
   },
   "outputs": [],
   "source": [
    "# 요일 시작지점과 도착지점의 회전제한 유무 수치형으로 변환\n",
    "str_col = ['road_name','start_node_name','end_node_name']\n",
    "for i in str_col:\n",
    "    le = LabelEncoder()\n",
    "    le=le.fit(train[i])\n",
    "    train[i]=le.transform(train[i])\n",
    "    \n",
    "    for label in np.unique(test[i]):\n",
    "        if label not in le.classes_: \n",
    "            le.classes_ = np.append(le.classes_, label)\n",
    "    test[i]=le.transform(test[i])"
   ]
  },
  {
   "cell_type": "code",
   "execution_count": 135,
   "metadata": {
    "colab": {
     "base_uri": "https://localhost:8080/"
    },
    "executionInfo": {
     "elapsed": 144344,
     "status": "ok",
     "timestamp": 1666773393504,
     "user": {
      "displayName": "김태종",
      "userId": "09259876720802222860"
     },
     "user_tz": -540
    },
    "id": "D_aGIxsY_Y7T",
    "outputId": "46aad9cf-c630-4579-cb9a-6a7350e55d50"
   },
   "outputs": [
    {
     "name": "stdout",
     "output_type": "stream",
     "text": [
      "(4701217, 16)\n",
      "(4701217,)\n",
      "(291241, 16)\n",
      "LightGBM 3.6045075032882132\n"
     ]
    }
   ],
   "source": [
    "random_state=2020        # 하지만 우리는 이렇게 고정값을 세팅해 두겠습니다. \n",
    "\n",
    "gboost = GradientBoostingRegressor(random_state=random_state)\n",
    "xgboost = XGBRegressor(learning_rate = 0.05,max_depth = 10, n_estimators = 10000, random_state=random_state)\n",
    "lightgbm = LGBMRegressor(learning_rate = 0.05, max_depth = 10, n_estimators = 1000,random_state=random_state)\n",
    "rdforest = RandomForestRegressor(random_state=random_state)\n",
    "\n",
    "models = [{'model':lightgbm, 'name':'LightGBM'}]\n",
    "\n",
    "# 점수 평가\n",
    "def get_scores(models, train, y):\n",
    "    df = {}\n",
    "\n",
    "    for model in models:\n",
    "        # 모델 이름 획득\n",
    "        model_name = model[\"name\"]\n",
    "\n",
    "        # train, test 데이터셋 분리 - 여기에도 random_states를 고정합니다. \n",
    "        X_train, X_test, y_train, y_test = train_test_split(train,\n",
    "                                                            y,\n",
    "                                                            random_state = random_state,\n",
    "                                                            test_size = 0.2)\n",
    "\n",
    "        # 모델 학습\n",
    "        model[\"model\"].fit(X_train, y_train)\n",
    "\n",
    "        # 예측\n",
    "        y_pred = model[\"model\"].predict(X_test)\n",
    "\n",
    "        # 예측 결과의 rmse값 저장\n",
    "        df[model_name] = mean_absolute_error(y_test, y_pred)\n",
    "        print(model_name,df[model_name])\n",
    "\n",
    "        # data frame에 저장\n",
    "        score_df = pd.DataFrame(df, index = [\"MAE\"]).T.sort_values(\"MAE\", ascending = False)\n",
    "    return score_df\n",
    "\n",
    "# 27차 시도-'road_name','start_node_name','end_node_name' 라벨인코딩\n",
    "y_train = train['target'] \n",
    "\n",
    "X_train = train[[\"year_month\", \"day_of_week\", \"lane_val\",\"base_hour\",\"time_category\",\"road_rating\",  \"weight_restricted\", \"start_latitude\", \"start_longitude\", \"end_latitude\",\"end_longitude\",\"end_turn_restricted\",\"distance_std\",'road_name','start_node_name','end_node_name']]\n",
    "\n",
    "Test = test[[\"year_month\", \"day_of_week\",\"lane_val\",\"base_hour\",\"time_category\",\"road_rating\", \"weight_restricted\", \"start_latitude\", \"start_longitude\", \"end_latitude\",\"end_longitude\",\"end_turn_restricted\",\"distance_std\",'road_name','start_node_name','end_node_name']]\n",
    "\n",
    "\n",
    "print(X_train.shape)\n",
    "print(y_train.shape)\n",
    "print(Test.shape)\n",
    "\n",
    "if X_train.shape[1] == Test.shape[1]:\n",
    "    get_scores(models, X_train, y_train)"
   ]
  },
  {
   "cell_type": "code",
   "execution_count": 136,
   "metadata": {
    "executionInfo": {
     "elapsed": 4,
     "status": "ok",
     "timestamp": 1666773393505,
     "user": {
      "displayName": "김태종",
      "userId": "09259876720802222860"
     },
     "user_tz": -540
    },
    "id": "9EK1F1ulD0bY"
   },
   "outputs": [],
   "source": [
    "# # 6월 7월 데이터 추출해서 추가\n",
    "# train_1 = pd.concat([train, train[train[\"month\"] == 6], train[train[\"month\"] == 7]], ignore_index=True)\n",
    "\n",
    "# y_train = train_1['target'] \n",
    "\n",
    "# X_train = train_1[[\"year_month\", \"day_of_week\", \"lane_val\",\"base_hour\",\"time_category\",\"road_rating\",  \"weight_restricted\", \"start_latitude\", \"start_longitude\", \"end_latitude\",\"end_longitude\",\"end_turn_restricted\",\"distance_std\",'road_name','start_node_name','end_node_name']]\n",
    "\n",
    "# Test = test[[\"year_month\", \"day_of_week\",\"lane_val\",\"base_hour\",\"time_category\",\"road_rating\", \"weight_restricted\", \"start_latitude\", \"start_longitude\", \"end_latitude\",\"end_longitude\",\"end_turn_restricted\",\"distance_std\",'road_name','start_node_name','end_node_name']]\n",
    "\n",
    "# save_submit(X_train, y_train, Test, 27)"
   ]
  },
  {
   "cell_type": "markdown",
   "metadata": {
    "id": "jMlTt1IkMsea"
   },
   "source": [
    "> 데이콘 점수 3.15559  \n",
    "효과있음"
   ]
  },
  {
   "cell_type": "markdown",
   "metadata": {
    "id": "znMgOQYnCMiz"
   },
   "source": [
    "__28차 시도__\n",
    "1. DBSCAN사용해서 위경도 클러스터링해서 라벨 붙이기 -> 도착지를 기준으로 라벨링 \n",
    "1. 6,7월의 평균속도와 나머지 기간의 평균속도의 차이를 비교해서 나머지 기간들을 알맞은 비율만큼 조정한다. "
   ]
  },
  {
   "cell_type": "code",
   "execution_count": 137,
   "metadata": {
    "executionInfo": {
     "elapsed": 672,
     "status": "ok",
     "timestamp": 1666773394174,
     "user": {
      "displayName": "김태종",
      "userId": "09259876720802222860"
     },
     "user_tz": -540
    },
    "id": "OCwiRe9R9AzE"
   },
   "outputs": [],
   "source": [
    "# 요일 시작지점과 도착지점의 회전제한 유무 수치형으로 변환\n",
    "str_col = ['day_of_week','start_turn_restricted','end_turn_restricted']\n",
    "for i in str_col:\n",
    "    le = LabelEncoder()\n",
    "    le=le.fit(train[i])\n",
    "    train[i]=le.transform(train[i])\n",
    "    \n",
    "    for label in np.unique(test[i]):\n",
    "        if label not in le.classes_: \n",
    "            le.classes_ = np.append(le.classes_, label)\n",
    "    test[i]=le.transform(test[i])"
   ]
  },
  {
   "cell_type": "code",
   "execution_count": 138,
   "metadata": {
    "colab": {
     "base_uri": "https://localhost:8080/"
    },
    "executionInfo": {
     "elapsed": 990,
     "status": "ok",
     "timestamp": 1666773395161,
     "user": {
      "displayName": "김태종",
      "userId": "09259876720802222860"
     },
     "user_tz": -540
    },
    "id": "HQmCLBbO-s_h",
    "outputId": "8636e9f0-cea4-49ef-8e94-5d2ccb9a418a"
   },
   "outputs": [
    {
     "data": {
      "text/plain": [
       "0.9324119743600977"
      ]
     },
     "execution_count": 138,
     "metadata": {},
     "output_type": "execute_result"
    }
   ],
   "source": [
    "a = train[(train[\"month\"]==6)|(train[\"month\"]==7)][\"target\"].mean()\n",
    "b = train[(train[\"month\"]!=6)&(train[\"month\"]!=7)][\"target\"].mean()\n",
    "\n",
    "per = a/b\n",
    "per"
   ]
  },
  {
   "cell_type": "code",
   "execution_count": 139,
   "metadata": {
    "colab": {
     "base_uri": "https://localhost:8080/"
    },
    "executionInfo": {
     "elapsed": 652,
     "status": "ok",
     "timestamp": 1666773395811,
     "user": {
      "displayName": "김태종",
      "userId": "09259876720802222860"
     },
     "user_tz": -540
    },
    "id": "fb15INA1np0d",
    "outputId": "8bc5f246-9939-437e-b3ce-26023b20db5c"
   },
   "outputs": [
    {
     "data": {
      "text/plain": [
       "2          61.0\n",
       "3          20.0\n",
       "4          38.0\n",
       "5          28.0\n",
       "6          39.0\n",
       "           ... \n",
       "4701211    27.0\n",
       "4701212    20.0\n",
       "4701213    65.0\n",
       "4701215    73.0\n",
       "4701216    35.0\n",
       "Name: target, Length: 3936385, dtype: float64"
      ]
     },
     "execution_count": 139,
     "metadata": {},
     "output_type": "execute_result"
    }
   ],
   "source": [
    "train[(train[\"month\"]!=6)&(train[\"month\"]!=7)][\"target\"]"
   ]
  },
  {
   "cell_type": "code",
   "execution_count": 140,
   "metadata": {
    "executionInfo": {
     "elapsed": 1272,
     "status": "ok",
     "timestamp": 1666773397082,
     "user": {
      "displayName": "김태종",
      "userId": "09259876720802222860"
     },
     "user_tz": -540
    },
    "id": "OPE7ugSwn4rY"
   },
   "outputs": [],
   "source": [
    "train1 = train[(train[\"month\"]!=6)&(train[\"month\"]!=7)].copy()"
   ]
  },
  {
   "cell_type": "code",
   "execution_count": 141,
   "metadata": {
    "executionInfo": {
     "elapsed": 1269,
     "status": "ok",
     "timestamp": 1666773398349,
     "user": {
      "displayName": "김태종",
      "userId": "09259876720802222860"
     },
     "user_tz": -540
    },
    "id": "qoK_aujMr5jp"
   },
   "outputs": [],
   "source": [
    "train1[\"target\"] = train1[\"target\"].apply(lambda x: x*per)"
   ]
  },
  {
   "cell_type": "code",
   "execution_count": 142,
   "metadata": {
    "colab": {
     "base_uri": "https://localhost:8080/"
    },
    "executionInfo": {
     "elapsed": 8,
     "status": "ok",
     "timestamp": 1666773398349,
     "user": {
      "displayName": "김태종",
      "userId": "09259876720802222860"
     },
     "user_tz": -540
    },
    "id": "AQlWhvaZCN_F",
    "outputId": "0f6a395f-9c2b-4668-9e42-8af4336b2f08"
   },
   "outputs": [
    {
     "data": {
      "text/plain": [
       "2          56.877130\n",
       "3          18.648239\n",
       "4          35.431655\n",
       "5          26.107535\n",
       "6          36.364067\n",
       "             ...    \n",
       "4701211    25.175123\n",
       "4701212    18.648239\n",
       "4701213    60.606778\n",
       "4701215    68.066074\n",
       "4701216    32.634419\n",
       "Name: target, Length: 3936385, dtype: float64"
      ]
     },
     "execution_count": 142,
     "metadata": {},
     "output_type": "execute_result"
    }
   ],
   "source": [
    "train1[\"target\"]"
   ]
  },
  {
   "cell_type": "code",
   "execution_count": 143,
   "metadata": {
    "colab": {
     "base_uri": "https://localhost:8080/"
    },
    "executionInfo": {
     "elapsed": 5,
     "status": "ok",
     "timestamp": 1666773398349,
     "user": {
      "displayName": "김태종",
      "userId": "09259876720802222860"
     },
     "user_tz": -540
    },
    "id": "EcDVgZlOttlT",
    "outputId": "e3f5a0d7-1391-4494-84df-5c04cf387a95"
   },
   "outputs": [
    {
     "data": {
      "text/plain": [
       "Index(['id', 'base_date', 'day_of_week', 'base_hour', 'road_in_use',\n",
       "       'lane_count', 'road_rating', 'road_name', 'multi_linked',\n",
       "       'connect_code', 'maximum_speed_limit', 'vehicle_restricted',\n",
       "       'weight_restricted', 'height_restricted', 'road_type',\n",
       "       'start_node_name', 'start_latitude', 'start_longitude',\n",
       "       'start_turn_restricted', 'end_node_name', 'end_latitude',\n",
       "       'end_longitude', 'end_turn_restricted', 'target', 'year', 'month',\n",
       "       'day', 'is_weekend', 'time_category', 'lane_val', 'distance',\n",
       "       'distance_std', 'month_value', 'multi_connect_code', 'year_str',\n",
       "       'month_str', 'year_month', 'base_hour_str', 'day_of_week_str',\n",
       "       'hour_week'],\n",
       "      dtype='object')"
      ]
     },
     "execution_count": 143,
     "metadata": {},
     "output_type": "execute_result"
    }
   ],
   "source": [
    "train1.columns"
   ]
  },
  {
   "cell_type": "code",
   "execution_count": 144,
   "metadata": {
    "colab": {
     "base_uri": "https://localhost:8080/",
     "height": 661
    },
    "executionInfo": {
     "elapsed": 698,
     "status": "ok",
     "timestamp": 1666773399045,
     "user": {
      "displayName": "김태종",
      "userId": "09259876720802222860"
     },
     "user_tz": -540
    },
    "id": "3GrPEOSluCWI",
    "outputId": "946d1f52-c51e-403e-fcce-d6e0012bee88"
   },
   "outputs": [
    {
     "data": {
      "text/html": [
       "<div>\n",
       "<style scoped>\n",
       "    .dataframe tbody tr th:only-of-type {\n",
       "        vertical-align: middle;\n",
       "    }\n",
       "\n",
       "    .dataframe tbody tr th {\n",
       "        vertical-align: top;\n",
       "    }\n",
       "\n",
       "    .dataframe thead th {\n",
       "        text-align: right;\n",
       "    }\n",
       "</style>\n",
       "<table border=\"1\" class=\"dataframe\">\n",
       "  <thead>\n",
       "    <tr style=\"text-align: right;\">\n",
       "      <th></th>\n",
       "      <th>id</th>\n",
       "      <th>base_date</th>\n",
       "      <th>day_of_week</th>\n",
       "      <th>base_hour</th>\n",
       "      <th>road_in_use</th>\n",
       "      <th>lane_count</th>\n",
       "      <th>road_rating</th>\n",
       "      <th>road_name</th>\n",
       "      <th>multi_linked</th>\n",
       "      <th>connect_code</th>\n",
       "      <th>...</th>\n",
       "      <th>distance</th>\n",
       "      <th>distance_std</th>\n",
       "      <th>month_value</th>\n",
       "      <th>multi_connect_code</th>\n",
       "      <th>year_str</th>\n",
       "      <th>month_str</th>\n",
       "      <th>year_month</th>\n",
       "      <th>base_hour_str</th>\n",
       "      <th>day_of_week_str</th>\n",
       "      <th>hour_week</th>\n",
       "    </tr>\n",
       "  </thead>\n",
       "  <tbody>\n",
       "    <tr>\n",
       "      <th>0</th>\n",
       "      <td>TRAIN_0000000</td>\n",
       "      <td>2022-06-23</td>\n",
       "      <td>3</td>\n",
       "      <td>17</td>\n",
       "      <td>0</td>\n",
       "      <td>1</td>\n",
       "      <td>106</td>\n",
       "      <td>46</td>\n",
       "      <td>0</td>\n",
       "      <td>0</td>\n",
       "      <td>...</td>\n",
       "      <td>0.000277</td>\n",
       "      <td>3.357067</td>\n",
       "      <td>0</td>\n",
       "      <td>0</td>\n",
       "      <td>2022</td>\n",
       "      <td>06</td>\n",
       "      <td>202206</td>\n",
       "      <td>17</td>\n",
       "      <td>3</td>\n",
       "      <td>173</td>\n",
       "    </tr>\n",
       "    <tr>\n",
       "      <th>1</th>\n",
       "      <td>TRAIN_0000001</td>\n",
       "      <td>2022-07-28</td>\n",
       "      <td>3</td>\n",
       "      <td>21</td>\n",
       "      <td>0</td>\n",
       "      <td>2</td>\n",
       "      <td>103</td>\n",
       "      <td>34</td>\n",
       "      <td>0</td>\n",
       "      <td>0</td>\n",
       "      <td>...</td>\n",
       "      <td>0.004987</td>\n",
       "      <td>6.214033</td>\n",
       "      <td>1</td>\n",
       "      <td>0</td>\n",
       "      <td>2022</td>\n",
       "      <td>07</td>\n",
       "      <td>202207</td>\n",
       "      <td>21</td>\n",
       "      <td>3</td>\n",
       "      <td>213</td>\n",
       "    </tr>\n",
       "    <tr>\n",
       "      <th>10</th>\n",
       "      <td>TRAIN_0000010</td>\n",
       "      <td>2022-06-23</td>\n",
       "      <td>3</td>\n",
       "      <td>11</td>\n",
       "      <td>0</td>\n",
       "      <td>1</td>\n",
       "      <td>103</td>\n",
       "      <td>38</td>\n",
       "      <td>0</td>\n",
       "      <td>0</td>\n",
       "      <td>...</td>\n",
       "      <td>0.003554</td>\n",
       "      <td>5.876013</td>\n",
       "      <td>0</td>\n",
       "      <td>0</td>\n",
       "      <td>2022</td>\n",
       "      <td>06</td>\n",
       "      <td>202206</td>\n",
       "      <td>11</td>\n",
       "      <td>3</td>\n",
       "      <td>113</td>\n",
       "    </tr>\n",
       "    <tr>\n",
       "      <th>11</th>\n",
       "      <td>TRAIN_0000011</td>\n",
       "      <td>2022-07-24</td>\n",
       "      <td>6</td>\n",
       "      <td>2</td>\n",
       "      <td>0</td>\n",
       "      <td>1</td>\n",
       "      <td>107</td>\n",
       "      <td>45</td>\n",
       "      <td>0</td>\n",
       "      <td>0</td>\n",
       "      <td>...</td>\n",
       "      <td>0.002035</td>\n",
       "      <td>5.320521</td>\n",
       "      <td>1</td>\n",
       "      <td>0</td>\n",
       "      <td>2022</td>\n",
       "      <td>07</td>\n",
       "      <td>202207</td>\n",
       "      <td>2</td>\n",
       "      <td>6</td>\n",
       "      <td>26</td>\n",
       "    </tr>\n",
       "    <tr>\n",
       "      <th>16</th>\n",
       "      <td>TRAIN_0000016</td>\n",
       "      <td>2022-07-01</td>\n",
       "      <td>4</td>\n",
       "      <td>22</td>\n",
       "      <td>0</td>\n",
       "      <td>2</td>\n",
       "      <td>107</td>\n",
       "      <td>29</td>\n",
       "      <td>0</td>\n",
       "      <td>0</td>\n",
       "      <td>...</td>\n",
       "      <td>0.003571</td>\n",
       "      <td>5.880877</td>\n",
       "      <td>1</td>\n",
       "      <td>0</td>\n",
       "      <td>2022</td>\n",
       "      <td>07</td>\n",
       "      <td>202207</td>\n",
       "      <td>22</td>\n",
       "      <td>4</td>\n",
       "      <td>224</td>\n",
       "    </tr>\n",
       "    <tr>\n",
       "      <th>...</th>\n",
       "      <td>...</td>\n",
       "      <td>...</td>\n",
       "      <td>...</td>\n",
       "      <td>...</td>\n",
       "      <td>...</td>\n",
       "      <td>...</td>\n",
       "      <td>...</td>\n",
       "      <td>...</td>\n",
       "      <td>...</td>\n",
       "      <td>...</td>\n",
       "      <td>...</td>\n",
       "      <td>...</td>\n",
       "      <td>...</td>\n",
       "      <td>...</td>\n",
       "      <td>...</td>\n",
       "      <td>...</td>\n",
       "      <td>...</td>\n",
       "      <td>...</td>\n",
       "      <td>...</td>\n",
       "      <td>...</td>\n",
       "      <td>...</td>\n",
       "    </tr>\n",
       "    <tr>\n",
       "      <th>4701179</th>\n",
       "      <td>TRAIN_4701179</td>\n",
       "      <td>2022-06-30</td>\n",
       "      <td>3</td>\n",
       "      <td>17</td>\n",
       "      <td>0</td>\n",
       "      <td>1</td>\n",
       "      <td>106</td>\n",
       "      <td>52</td>\n",
       "      <td>0</td>\n",
       "      <td>0</td>\n",
       "      <td>...</td>\n",
       "      <td>0.000237</td>\n",
       "      <td>3.207328</td>\n",
       "      <td>0</td>\n",
       "      <td>0</td>\n",
       "      <td>2022</td>\n",
       "      <td>06</td>\n",
       "      <td>202206</td>\n",
       "      <td>17</td>\n",
       "      <td>3</td>\n",
       "      <td>173</td>\n",
       "    </tr>\n",
       "    <tr>\n",
       "      <th>4701181</th>\n",
       "      <td>TRAIN_4701181</td>\n",
       "      <td>2022-06-20</td>\n",
       "      <td>0</td>\n",
       "      <td>6</td>\n",
       "      <td>0</td>\n",
       "      <td>3</td>\n",
       "      <td>103</td>\n",
       "      <td>34</td>\n",
       "      <td>0</td>\n",
       "      <td>0</td>\n",
       "      <td>...</td>\n",
       "      <td>0.002082</td>\n",
       "      <td>5.343306</td>\n",
       "      <td>0</td>\n",
       "      <td>0</td>\n",
       "      <td>2022</td>\n",
       "      <td>06</td>\n",
       "      <td>202206</td>\n",
       "      <td>6</td>\n",
       "      <td>0</td>\n",
       "      <td>60</td>\n",
       "    </tr>\n",
       "    <tr>\n",
       "      <th>4701186</th>\n",
       "      <td>TRAIN_4701186</td>\n",
       "      <td>2022-06-05</td>\n",
       "      <td>6</td>\n",
       "      <td>0</td>\n",
       "      <td>0</td>\n",
       "      <td>1</td>\n",
       "      <td>107</td>\n",
       "      <td>5</td>\n",
       "      <td>0</td>\n",
       "      <td>0</td>\n",
       "      <td>...</td>\n",
       "      <td>0.003318</td>\n",
       "      <td>5.807411</td>\n",
       "      <td>0</td>\n",
       "      <td>0</td>\n",
       "      <td>2022</td>\n",
       "      <td>06</td>\n",
       "      <td>202206</td>\n",
       "      <td>0</td>\n",
       "      <td>6</td>\n",
       "      <td>6</td>\n",
       "    </tr>\n",
       "    <tr>\n",
       "      <th>4701197</th>\n",
       "      <td>TRAIN_4701197</td>\n",
       "      <td>2022-07-16</td>\n",
       "      <td>5</td>\n",
       "      <td>19</td>\n",
       "      <td>0</td>\n",
       "      <td>1</td>\n",
       "      <td>107</td>\n",
       "      <td>0</td>\n",
       "      <td>0</td>\n",
       "      <td>0</td>\n",
       "      <td>...</td>\n",
       "      <td>0.000519</td>\n",
       "      <td>3.967708</td>\n",
       "      <td>1</td>\n",
       "      <td>0</td>\n",
       "      <td>2022</td>\n",
       "      <td>07</td>\n",
       "      <td>202207</td>\n",
       "      <td>19</td>\n",
       "      <td>5</td>\n",
       "      <td>195</td>\n",
       "    </tr>\n",
       "    <tr>\n",
       "      <th>4701214</th>\n",
       "      <td>TRAIN_4701214</td>\n",
       "      <td>2022-06-13</td>\n",
       "      <td>0</td>\n",
       "      <td>22</td>\n",
       "      <td>0</td>\n",
       "      <td>2</td>\n",
       "      <td>103</td>\n",
       "      <td>35</td>\n",
       "      <td>0</td>\n",
       "      <td>0</td>\n",
       "      <td>...</td>\n",
       "      <td>0.003084</td>\n",
       "      <td>5.734650</td>\n",
       "      <td>0</td>\n",
       "      <td>0</td>\n",
       "      <td>2022</td>\n",
       "      <td>06</td>\n",
       "      <td>202206</td>\n",
       "      <td>22</td>\n",
       "      <td>0</td>\n",
       "      <td>220</td>\n",
       "    </tr>\n",
       "  </tbody>\n",
       "</table>\n",
       "<p>764832 rows × 40 columns</p>\n",
       "</div>"
      ],
      "text/plain": [
       "                    id  base_date  day_of_week  base_hour  road_in_use  \\\n",
       "0        TRAIN_0000000 2022-06-23            3         17            0   \n",
       "1        TRAIN_0000001 2022-07-28            3         21            0   \n",
       "10       TRAIN_0000010 2022-06-23            3         11            0   \n",
       "11       TRAIN_0000011 2022-07-24            6          2            0   \n",
       "16       TRAIN_0000016 2022-07-01            4         22            0   \n",
       "...                ...        ...          ...        ...          ...   \n",
       "4701179  TRAIN_4701179 2022-06-30            3         17            0   \n",
       "4701181  TRAIN_4701181 2022-06-20            0          6            0   \n",
       "4701186  TRAIN_4701186 2022-06-05            6          0            0   \n",
       "4701197  TRAIN_4701197 2022-07-16            5         19            0   \n",
       "4701214  TRAIN_4701214 2022-06-13            0         22            0   \n",
       "\n",
       "         lane_count  road_rating  road_name  multi_linked  connect_code  ...  \\\n",
       "0                 1          106         46             0             0  ...   \n",
       "1                 2          103         34             0             0  ...   \n",
       "10                1          103         38             0             0  ...   \n",
       "11                1          107         45             0             0  ...   \n",
       "16                2          107         29             0             0  ...   \n",
       "...             ...          ...        ...           ...           ...  ...   \n",
       "4701179           1          106         52             0             0  ...   \n",
       "4701181           3          103         34             0             0  ...   \n",
       "4701186           1          107          5             0             0  ...   \n",
       "4701197           1          107          0             0             0  ...   \n",
       "4701214           2          103         35             0             0  ...   \n",
       "\n",
       "         distance  distance_std  month_value  multi_connect_code  year_str  \\\n",
       "0        0.000277      3.357067            0                   0      2022   \n",
       "1        0.004987      6.214033            1                   0      2022   \n",
       "10       0.003554      5.876013            0                   0      2022   \n",
       "11       0.002035      5.320521            1                   0      2022   \n",
       "16       0.003571      5.880877            1                   0      2022   \n",
       "...           ...           ...          ...                 ...       ...   \n",
       "4701179  0.000237      3.207328            0                   0      2022   \n",
       "4701181  0.002082      5.343306            0                   0      2022   \n",
       "4701186  0.003318      5.807411            0                   0      2022   \n",
       "4701197  0.000519      3.967708            1                   0      2022   \n",
       "4701214  0.003084      5.734650            0                   0      2022   \n",
       "\n",
       "         month_str  year_month  base_hour_str  day_of_week_str  hour_week  \n",
       "0               06      202206             17                3        173  \n",
       "1               07      202207             21                3        213  \n",
       "10              06      202206             11                3        113  \n",
       "11              07      202207              2                6         26  \n",
       "16              07      202207             22                4        224  \n",
       "...            ...         ...            ...              ...        ...  \n",
       "4701179         06      202206             17                3        173  \n",
       "4701181         06      202206              6                0         60  \n",
       "4701186         06      202206              0                6          6  \n",
       "4701197         07      202207             19                5        195  \n",
       "4701214         06      202206             22                0        220  \n",
       "\n",
       "[764832 rows x 40 columns]"
      ]
     },
     "execution_count": 144,
     "metadata": {},
     "output_type": "execute_result"
    }
   ],
   "source": [
    "a = train[(train[\"month\"]==6)|(train[\"month\"]==7)]\n",
    "a"
   ]
  },
  {
   "cell_type": "code",
   "execution_count": 145,
   "metadata": {
    "colab": {
     "base_uri": "https://localhost:8080/",
     "height": 372
    },
    "executionInfo": {
     "elapsed": 1182777,
     "status": "error",
     "timestamp": 1666774581818,
     "user": {
      "displayName": "김태종",
      "userId": "09259876720802222860"
     },
     "user_tz": -540
    },
    "id": "ikewQcV-CN1y",
    "outputId": "fa6118d2-3f1b-41f3-e05e-2c649e9c2e30"
   },
   "outputs": [],
   "source": [
    "# # 6월 7월 데이터 추출해서 추가\n",
    "# a = train[(train[\"month\"]==6)|(train[\"month\"]==7)]\n",
    "# train1 = pd.concat([train1, a, a], ignore_index=True)\n",
    "\n",
    "# y_train = train1['target'] \n",
    "\n",
    "# X_train = train1[[\"year_month\", \"day_of_week\", \"lane_val\",\"base_hour\",\"time_category\",\"road_rating\",  \"weight_restricted\", \"start_latitude\", \"start_longitude\", \"end_latitude\",\"end_longitude\",\"end_turn_restricted\",\"distance_std\",'road_name','start_node_name','end_node_name']]\n",
    "\n",
    "# Test = test[[\"year_month\", \"day_of_week\",\"lane_val\",\"base_hour\",\"time_category\",\"road_rating\", \"weight_restricted\", \"start_latitude\", \"start_longitude\", \"end_latitude\",\"end_longitude\",\"end_turn_restricted\",\"distance_std\",'road_name','start_node_name','end_node_name']]\n",
    "\n",
    "# save_submit(X_train, y_train, Test, 28)"
   ]
  },
  {
   "cell_type": "markdown",
   "metadata": {
    "id": "soD8rnXx531b"
   },
   "source": [
    "> 나머지 month 타겟을 줄여서 계산해서 만들어봤지만 성과 안 좋음"
   ]
  },
  {
   "cell_type": "markdown",
   "metadata": {
    "id": "zhu-du2QgqOZ"
   },
   "source": [
    "__29차 시도__\n"
   ]
  },
  {
   "cell_type": "code",
   "execution_count": 146,
   "metadata": {
    "executionInfo": {
     "elapsed": 926,
     "status": "ok",
     "timestamp": 1666781278116,
     "user": {
      "displayName": "김태종",
      "userId": "09259876720802222860"
     },
     "user_tz": -540
    },
    "id": "oo-L1VfSsSaf"
   },
   "outputs": [],
   "source": [
    "# 클러스터링 시도\n",
    "# k-means clusturing을 통한 구역 분류\n",
    "from sklearn.preprocessing import StandardScaler\n",
    "from sklearn.cluster import KMeans\n",
    "\n",
    "def area_div(df, k):\n",
    "    sc = StandardScaler()\n",
    "    X = sc.fit_transform(df[[\"end_latitude\", \"end_longitude\", \"base_hour\", \"month\"]])\n",
    "\n",
    "    # 클러스터링 학습\n",
    "    K = k\n",
    "    kmeans = KMeans(n_clusters = K, random_state = 0)\n",
    "    kmeans.fit(X)\n",
    "    y_kmeans = kmeans.fit_predict(X)\n",
    "\n",
    "    return y_kmeans"
   ]
  },
  {
   "cell_type": "code",
   "execution_count": 147,
   "metadata": {
    "executionInfo": {
     "elapsed": 166481,
     "status": "ok",
     "timestamp": 1666781445587,
     "user": {
      "displayName": "김태종",
      "userId": "09259876720802222860"
     },
     "user_tz": -540
    },
    "id": "2yH_50zXsSXD"
   },
   "outputs": [],
   "source": [
    "train[\"area_group\"] = area_div(train, 10)"
   ]
  },
  {
   "cell_type": "code",
   "execution_count": 148,
   "metadata": {
    "colab": {
     "base_uri": "https://localhost:8080/",
     "height": 394
    },
    "executionInfo": {
     "elapsed": 16,
     "status": "ok",
     "timestamp": 1666781445589,
     "user": {
      "displayName": "김태종",
      "userId": "09259876720802222860"
     },
     "user_tz": -540
    },
    "id": "0sH2Y6YQzC7q",
    "outputId": "1da6b289-51bb-4518-f3e7-112e4adae862"
   },
   "outputs": [
    {
     "data": {
      "text/html": [
       "<div>\n",
       "<style scoped>\n",
       "    .dataframe tbody tr th:only-of-type {\n",
       "        vertical-align: middle;\n",
       "    }\n",
       "\n",
       "    .dataframe tbody tr th {\n",
       "        vertical-align: top;\n",
       "    }\n",
       "\n",
       "    .dataframe thead th {\n",
       "        text-align: right;\n",
       "    }\n",
       "</style>\n",
       "<table border=\"1\" class=\"dataframe\">\n",
       "  <thead>\n",
       "    <tr style=\"text-align: right;\">\n",
       "      <th></th>\n",
       "      <th>target</th>\n",
       "    </tr>\n",
       "    <tr>\n",
       "      <th>area_group</th>\n",
       "      <th></th>\n",
       "    </tr>\n",
       "  </thead>\n",
       "  <tbody>\n",
       "    <tr>\n",
       "      <th>4</th>\n",
       "      <td>48.586487</td>\n",
       "    </tr>\n",
       "    <tr>\n",
       "      <th>0</th>\n",
       "      <td>48.502057</td>\n",
       "    </tr>\n",
       "    <tr>\n",
       "      <th>3</th>\n",
       "      <td>45.881198</td>\n",
       "    </tr>\n",
       "    <tr>\n",
       "      <th>7</th>\n",
       "      <td>44.796302</td>\n",
       "    </tr>\n",
       "    <tr>\n",
       "      <th>6</th>\n",
       "      <td>44.538304</td>\n",
       "    </tr>\n",
       "    <tr>\n",
       "      <th>2</th>\n",
       "      <td>44.383412</td>\n",
       "    </tr>\n",
       "    <tr>\n",
       "      <th>9</th>\n",
       "      <td>40.206581</td>\n",
       "    </tr>\n",
       "    <tr>\n",
       "      <th>1</th>\n",
       "      <td>39.136696</td>\n",
       "    </tr>\n",
       "    <tr>\n",
       "      <th>5</th>\n",
       "      <td>38.891594</td>\n",
       "    </tr>\n",
       "    <tr>\n",
       "      <th>8</th>\n",
       "      <td>38.083359</td>\n",
       "    </tr>\n",
       "  </tbody>\n",
       "</table>\n",
       "</div>"
      ],
      "text/plain": [
       "               target\n",
       "area_group           \n",
       "4           48.586487\n",
       "0           48.502057\n",
       "3           45.881198\n",
       "7           44.796302\n",
       "6           44.538304\n",
       "2           44.383412\n",
       "9           40.206581\n",
       "1           39.136696\n",
       "5           38.891594\n",
       "8           38.083359"
      ]
     },
     "execution_count": 148,
     "metadata": {},
     "output_type": "execute_result"
    }
   ],
   "source": [
    "a = train.groupby([\"area_group\"])[[\"target\"]].mean()\n",
    "a.sort_values(ascending = False, by = \"target\")"
   ]
  },
  {
   "cell_type": "code",
   "execution_count": 149,
   "metadata": {
    "colab": {
     "base_uri": "https://localhost:8080/",
     "height": 297
    },
    "executionInfo": {
     "elapsed": 2292,
     "status": "ok",
     "timestamp": 1666781477578,
     "user": {
      "displayName": "김태종",
      "userId": "09259876720802222860"
     },
     "user_tz": -540
    },
    "id": "F5_Cl4Wj2vww",
    "outputId": "cda3817a-c464-45d2-d13a-724a29fc475e"
   },
   "outputs": [
    {
     "data": {
      "text/plain": [
       "<AxesSubplot:xlabel='area_group', ylabel='target'>"
      ]
     },
     "execution_count": 149,
     "metadata": {},
     "output_type": "execute_result"
    },
    {
     "data": {
      "image/png": "[encoded data removed]",
      "text/plain": [
       "<Figure size 432x288 with 1 Axes>"
      ]
     },
     "metadata": {
      "needs_background": "light"
     },
     "output_type": "display_data"
    }
   ],
   "source": [
    "sns.boxplot(data = train, x = \"area_group\", y = \"target\")"
   ]
  },
  {
   "cell_type": "code",
   "execution_count": 150,
   "metadata": {},
   "outputs": [
    {
     "data": {
      "text/plain": [
       "0          33.427749\n",
       "1          33.504811\n",
       "2          33.280072\n",
       "3          33.245565\n",
       "4          33.462677\n",
       "             ...    \n",
       "4701212    33.420955\n",
       "4701213    33.472525\n",
       "4701214    33.444121\n",
       "4701215    33.444996\n",
       "4701216    33.257130\n",
       "Name: end_latitude, Length: 4701217, dtype: float64"
      ]
     },
     "execution_count": 150,
     "metadata": {},
     "output_type": "execute_result"
    }
   ],
   "source": [
    "train[\"end_latitude\"]"
   ]
  },
  {
   "cell_type": "code",
   "execution_count": 151,
   "metadata": {},
   "outputs": [],
   "source": [
    "import folium \n",
    "from folium.plugins import HeatMap\n",
    "\n",
    "def traffic_heatmap(df):\n",
    "#     df_area_group = df.groupby([\"agrea_group\"])[[\"end_longitude\",\"end_latitude\",\"target\"]].agg({\"X\": \"mean\", \"Y\" : \"mean\", \"target\" : \"mean\"})\n",
    "\n",
    "    lat = df[\"end_latitude\"].mean()\n",
    "    long = df[\"end_longitude\"].mean()\n",
    "\n",
    "    # 지도 띄우기\n",
    "    m = folium.Map([lat, long], zoom_start = 14)\n",
    "\n",
    "    HeatMap(zip(df[\"end_latitude\"], df[\"end_longitude\"], df[\"target\"]),\n",
    "           min_opacity=0.1,\n",
    "           max_val=5,\n",
    "           radius=30,\n",
    "           blur=15,\n",
    "           max_zoom=5,\n",
    "           color=\"red\").add_to(m)\n",
    "    \n",
    "    for i in df.index:\n",
    "        sub_lat = df.loc[i, \"end_latitude\"]\n",
    "        sub_long = df.loc[i, \"end_longitude\"]\n",
    "        folium.Circle([sub_lat, sub_long], \n",
    "                      tooltip = i,\n",
    "                       radius = 20,\n",
    "                      icon=folium.Icon(color='green')\n",
    "                     ).add_to(m)\n",
    "    return m"
   ]
  },
  {
   "cell_type": "code",
   "execution_count": null,
   "metadata": {},
   "outputs": [
    {
     "name": "stderr",
     "output_type": "stream",
     "text": [
      "/tmp/ipykernel_178/673114010.py:13: UserWarning: The `max_val` parameter is no longer necessary. The largest intensity is calculated automatically.\n",
      "  HeatMap(zip(df[\"end_latitude\"], df[\"end_longitude\"], df[\"target\"]),\n"
     ]
    }
   ],
   "source": [
    "traffic_heatmap(train)"
   ]
  },
  {
   "cell_type": "markdown",
   "metadata": {
    "id": "Op2337CvtZGk"
   },
   "source": [
    "22년 10월 26일 스터디\n",
    "1. feature importance 활용\n",
    "1. extra tree"
   ]
  },
  {
   "cell_type": "code",
   "execution_count": null,
   "metadata": {
    "executionInfo": {
     "elapsed": 17,
     "status": "aborted",
     "timestamp": 1666774581819,
     "user": {
      "displayName": "김태종",
      "userId": "09259876720802222860"
     },
     "user_tz": -540
    },
    "id": "RogR6Nof0ZLF"
   },
   "outputs": [],
   "source": [
    "# from sklearn.model_selection import train_test_split\n",
    "\n",
    "# x_train, x_valid, y_train, y_valid = train_test_split(X_train, y_train, test_size=0.2, shuffle=True, stratify=None, random_state=42)"
   ]
  },
  {
   "cell_type": "code",
   "execution_count": null,
   "metadata": {
    "executionInfo": {
     "elapsed": 17,
     "status": "aborted",
     "timestamp": 1666774581819,
     "user": {
      "displayName": "김태종",
      "userId": "09259876720802222860"
     },
     "user_tz": -540
    },
    "id": "LdEnwCst9BEI"
   },
   "outputs": [],
   "source": [
    "# # lightgbm = LGBMRegressor(learning_rate = 0.05,max_depth = 10, n_estimators = 1000, random_state = random_state)\n",
    "# xgboost = XGBRegressor(tree_method = \"gpu_hist\", learning_rate = 0.05,max_depth = 10, n_estimators = 10000, random_state = random_state)\n",
    "# xgboost.fit(X_train, y_train)\n",
    "# pred = lightgbm.predict(test)\n",
    "# pred"
   ]
  },
  {
   "cell_type": "markdown",
   "metadata": {
    "id": "S9le0faJ2kL8"
   },
   "source": [
    "### 그리드 탐색"
   ]
  },
  {
   "cell_type": "code",
   "execution_count": null,
   "metadata": {
    "executionInfo": {
     "elapsed": 19,
     "status": "aborted",
     "timestamp": 1666774581821,
     "user": {
      "displayName": "김태종",
      "userId": "09259876720802222860"
     },
     "user_tz": -540
    },
    "id": "VUQ9EAmx1rIH"
   },
   "outputs": [],
   "source": [
    "from sklearn.model_selection import GridSearchCV"
   ]
  },
  {
   "cell_type": "code",
   "execution_count": null,
   "metadata": {
    "executionInfo": {
     "elapsed": 19,
     "status": "aborted",
     "timestamp": 1666774581821,
     "user": {
      "displayName": "김태종",
      "userId": "09259876720802222860"
     },
     "user_tz": -540
    },
    "id": "qxHtGL_P1rFf"
   },
   "outputs": [],
   "source": [
    "import warnings\n",
    "\"\"\"\n",
    "다음과 같은 과정을 진행할 수 있는 \n",
    "`my_GridSearch(model, train, y, param_grid, verbose=2, n_jobs=5)` \n",
    "함수를 구현해 보세요.\n",
    "\n",
    "1. GridSearchCV 모델로 `model`을 초기화합니다.\n",
    "2. 모델을 fitting 합니다.\n",
    "3. params, score에 각 조합에 대한 결과를 저장합니다. \n",
    "4. 데이터 프레임을 생성하고, RMSLE 값을 추가한 후 점수가 높은 순서로 정렬한 `results`를 반환합니다.\n",
    "\"\"\"\n",
    "\n",
    "def my_GridSearch(model, train, y, param_grid, verbose = 2, n_jobs = 5):\n",
    "    # 1. GridSearchCV 모델로 'model'을 초기화합니다. \n",
    "    grid_model = GridSearchCV(model, param_grid=param_grid, \\\n",
    "                        scoring = 'neg_mean_squared_error', \\\n",
    "                        cv = 5, verbose = verbose, n_jobs = n_jobs)\n",
    "    \n",
    "    # 모델을 fitting 합니다.\n",
    "    grid_model.fit(train, y)\n",
    "    \n",
    "    # params, score에 각 조합에 대한 결과를 저장합니다. \n",
    "    params = grid_model.cv_results_[\"params\"]\n",
    "    score = grid_model.cv_results_[\"mean_test_score\"]\n",
    "    \n",
    "    # 데이터 프레임을 생성하고,  \n",
    "    params_score = pd.DataFrame(params)\n",
    "    params_score[\"score\"] = score\n",
    "    \n",
    "    # RMSLE 값을 추가한 후 점수가 높은 순서로 정렬하고 값을 반환한다.\n",
    "    params_score[\"RMSLE\"] = np.sqrt(-score)\n",
    "    params_score.sort_values(by=\"RMSLE\", ascending = False, inplace = True)\n",
    "    \n",
    "    return params_score\n"
   ]
  },
  {
   "cell_type": "code",
   "execution_count": null,
   "metadata": {
    "executionInfo": {
     "elapsed": 19,
     "status": "aborted",
     "timestamp": 1666774581821,
     "user": {
      "displayName": "김태종",
      "userId": "09259876720802222860"
     },
     "user_tz": -540
    },
    "id": "RRVSFG7f1rDR"
   },
   "outputs": [],
   "source": [
    "# LGBMRegressor 파라미터 평가\n",
    "warnings.filterwarnings('ignore')\n",
    "param_grid = {\n",
    "    'n_estimators': [1000, 10000],\n",
    "    'max_depth': [3,5,7,10],\n",
    "    \"learning_rate\" : [0.05, 0.08, 0.1]\n",
    "}\n",
    "\n",
    "model = LGBMRegressor(random_state=random_state)\n",
    "# model = LGBMRegressor( random_state=random_state)\n",
    "my_GridSearch(model, X_train, y_train, param_grid, verbose=2, n_jobs=5)"
   ]
  },
  {
   "cell_type": "code",
   "execution_count": null,
   "metadata": {
    "executionInfo": {
     "elapsed": 19,
     "status": "aborted",
     "timestamp": 1666774581821,
     "user": {
      "displayName": "김태종",
      "userId": "09259876720802222860"
     },
     "user_tz": -540
    },
    "id": "STxprhKE2r8J"
   },
   "outputs": [],
   "source": [
    "# XGBoost 파라미터 평가\n",
    "warnings.filterwarnings('ignore')\n",
    "param_grid = {\n",
    "    'n_estimators': [1000, 10000],\n",
    "    'max_depth': [i for i in range(3,11)],\n",
    "    \"learning_rate\" : [0.05, 0.08, 0.1]\n",
    "}\n",
    "\n",
    "model = XGBRegressor(random_state=random_state)\n",
    "my_GridSearch(model, x_train, y_train, param_grid, verbose=2, n_jobs=5)"
   ]
  }
 ],
 "metadata": {
  "accelerator": "GPU",
  "colab": {
   "collapsed_sections": [],
   "machine_shape": "hm",
   "provenance": []
  },
  "gpuClass": "premium",
  "kernelspec": {
   "display_name": "Python 3 (ipykernel)",
   "language": "python",
   "name": "python3"
  },
  "language_info": {
   "codemirror_mode": {
    "name": "ipython",
    "version": 3
   },
   "file_extension": ".py",
   "mimetype": "text/x-python",
   "name": "python",
   "nbconvert_exporter": "python",
   "pygments_lexer": "ipython3",
   "version": "3.9.7"
  }
 },
 "nbformat": 4,
 "nbformat_minor": 1
}
